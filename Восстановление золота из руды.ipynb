{
 "cells": [
  {
   "cell_type": "markdown",
   "metadata": {
    "toc": true
   },
   "source": [
    "<h1>Содержание<span class=\"tocSkip\"></span></h1>\n",
    "<div class=\"toc\"><ul class=\"toc-item\"><li><span><a href=\"#Подготовка-данных\" data-toc-modified-id=\"Подготовка-данных-1\"><span class=\"toc-item-num\">1&nbsp;&nbsp;</span>Подготовка данных</a></span><ul class=\"toc-item\"><li><span><a href=\"#Проверка-корректности-расчета-rougher.output.recovery\" data-toc-modified-id=\"Проверка-корректности-расчета-rougher.output.recovery-1.1\"><span class=\"toc-item-num\">1.1&nbsp;&nbsp;</span>Проверка корректности расчета rougher.output.recovery</a></span></li><li><span><a href=\"#Признаки-недоступные-в-тестовой-выборке\" data-toc-modified-id=\"Признаки-недоступные-в-тестовой-выборке-1.2\"><span class=\"toc-item-num\">1.2&nbsp;&nbsp;</span>Признаки недоступные в тестовой выборке</a></span></li><li><span><a href=\"#Проверка-на-явные-дубликаты\" data-toc-modified-id=\"Проверка-на-явные-дубликаты-1.3\"><span class=\"toc-item-num\">1.3&nbsp;&nbsp;</span>Проверка на явные дубликаты</a></span></li><li><span><a href=\"#Проверка-на-пропуски\" data-toc-modified-id=\"Проверка-на-пропуски-1.4\"><span class=\"toc-item-num\">1.4&nbsp;&nbsp;</span>Проверка на пропуски</a></span></li></ul></li><li><span><a href=\"#Анализ-данных\" data-toc-modified-id=\"Анализ-данных-2\"><span class=\"toc-item-num\">2&nbsp;&nbsp;</span>Анализ данных</a></span><ul class=\"toc-item\"><li><span><a href=\"#Распределение-концентрации-металлов-на-разных-этапах\" data-toc-modified-id=\"Распределение-концентрации-металлов-на-разных-этапах-2.1\"><span class=\"toc-item-num\">2.1&nbsp;&nbsp;</span>Распределение концентрации металлов на разных этапах</a></span></li><li><span><a href=\"#Сравнение-распределения-гранул-сырья-в-тренировочной-и-тестовой-выборке\" data-toc-modified-id=\"Сравнение-распределения-гранул-сырья-в-тренировочной-и-тестовой-выборке-2.2\"><span class=\"toc-item-num\">2.2&nbsp;&nbsp;</span>Сравнение распределения гранул сырья в тренировочной и тестовой выборке</a></span></li><li><span><a href=\"#Исследование-суммарной-концентрации-всех-веществ-на-разных-стадиях:-в-сырье,-в-черновом-и-финальном-концентратах.\" data-toc-modified-id=\"Исследование-суммарной-концентрации-всех-веществ-на-разных-стадиях:-в-сырье,-в-черновом-и-финальном-концентратах.-2.3\"><span class=\"toc-item-num\">2.3&nbsp;&nbsp;</span>Исследование суммарной концентрации всех веществ на разных стадиях: в сырье, в черновом и финальном концентратах.</a></span></li></ul></li><li><span><a href=\"#Модель\" data-toc-modified-id=\"Модель-3\"><span class=\"toc-item-num\">3&nbsp;&nbsp;</span>Модель</a></span><ul class=\"toc-item\"><li><span><a href=\"#Функция-для-вычисления-итоговой-sMAPE\" data-toc-modified-id=\"Функция-для-вычисления-итоговой-sMAPE-3.1\"><span class=\"toc-item-num\">3.1&nbsp;&nbsp;</span>Функция для вычисления итоговой sMAPE</a></span></li><li><span><a href=\"#Выбор-лучшей-модели\" data-toc-modified-id=\"Выбор-лучшей-модели-3.2\"><span class=\"toc-item-num\">3.2&nbsp;&nbsp;</span>Выбор лучшей модели</a></span></li><li><span><a href=\"#Проверка-на-тестовой-выборке\" data-toc-modified-id=\"Проверка-на-тестовой-выборке-3.3\"><span class=\"toc-item-num\">3.3&nbsp;&nbsp;</span>Проверка на тестовой выборке</a></span></li></ul></li><li><span><a href=\"#Чек-лист-готовности-проекта\" data-toc-modified-id=\"Чек-лист-готовности-проекта-4\"><span class=\"toc-item-num\">4&nbsp;&nbsp;</span>Чек-лист готовности проекта</a></span></li></ul></div>"
   ]
  },
  {
   "cell_type": "markdown",
   "metadata": {},
   "source": [
    "# Восстановление золота из руды"
   ]
  },
  {
   "cell_type": "markdown",
   "metadata": {},
   "source": [
    "Подготовим прототип модели машинного обучения. Компания разрабатывает решения для эффективной работы промышленных предприятий.\n",
    "\n",
    "Модель должна предсказать коэффициент восстановления золота из золотосодержащей руды. Используйте данные с параметрами добычи и очистки. \n",
    "\n",
    "Модель поможет оптимизировать производство, чтобы не запускать предприятие с убыточными характеристиками.\n",
    "\n",
    "Нам нужно:\n",
    "\n",
    "1. Подготовить данные;\n",
    "2. Провести исследовательский анализ данных;\n",
    "3. Построить и обучить модель."
   ]
  },
  {
   "cell_type": "markdown",
   "metadata": {},
   "source": [
    "## Подготовка данных"
   ]
  },
  {
   "cell_type": "code",
   "execution_count": 1,
   "metadata": {},
   "outputs": [],
   "source": [
    "import pandas as pd\n",
    "import numpy as np\n",
    "import matplotlib.pyplot as plt\n",
    "import seaborn as sns\n",
    "from sklearn.model_selection import train_test_split\n",
    "from sklearn.metrics import mean_absolute_error\n",
    "from sklearn.linear_model import LinearRegression\n",
    "from sklearn.ensemble import RandomForestRegressor\n",
    "from sklearn.metrics import make_scorer\n",
    "from sklearn.model_selection import cross_val_score\n",
    "from sklearn.model_selection import GridSearchCV"
   ]
  },
  {
   "cell_type": "code",
   "execution_count": 2,
   "metadata": {},
   "outputs": [],
   "source": [
    "df_train = pd.read_csv('/datasets/gold_recovery_train_new.csv')\n",
    "df_test = pd.read_csv('/datasets/gold_recovery_test_new.csv')\n",
    "df_full = pd.read_csv('/datasets/gold_recovery_full_new.csv')"
   ]
  },
  {
   "cell_type": "markdown",
   "metadata": {},
   "source": [
    "### Проверка корректности расчета rougher.output.recovery"
   ]
  },
  {
   "cell_type": "code",
   "execution_count": 3,
   "metadata": {},
   "outputs": [],
   "source": [
    "check_recovery = (df_train['rougher.output.concentrate_au'] * (df_train['rougher.input.feed_au'] - df_train['rougher.output.tail_au'])\\\n",
    "/ (df_train['rougher.input.feed_au'] * (df_train['rougher.output.concentrate_au'] - df_train['rougher.output.tail_au'])))\\\n",
    "* 100"
   ]
  },
  {
   "cell_type": "code",
   "execution_count": 4,
   "metadata": {},
   "outputs": [
    {
     "data": {
      "text/plain": [
       "9.73512347450521e-15"
      ]
     },
     "execution_count": 4,
     "metadata": {},
     "output_type": "execute_result"
    }
   ],
   "source": [
    "mean_absolute_error(df_train['rougher.output.recovery'], check_recovery)"
   ]
  },
  {
   "cell_type": "markdown",
   "metadata": {},
   "source": [
    "MAE стремится к нулю, можно сделать вывод, что **recovery** посчитано правильно."
   ]
  },
  {
   "cell_type": "markdown",
   "metadata": {},
   "source": [
    "### Признаки недоступные в тестовой выборке"
   ]
  },
  {
   "cell_type": "code",
   "execution_count": 5,
   "metadata": {
    "scrolled": true
   },
   "outputs": [
    {
     "name": "stdout",
     "output_type": "stream",
     "text": [
      "final.output.concentrate_ag\n",
      "final.output.concentrate_pb\n",
      "final.output.concentrate_sol\n",
      "final.output.concentrate_au\n",
      "final.output.recovery\n",
      "final.output.tail_ag\n",
      "final.output.tail_pb\n",
      "final.output.tail_sol\n",
      "final.output.tail_au\n",
      "primary_cleaner.output.concentrate_ag\n",
      "primary_cleaner.output.concentrate_pb\n",
      "primary_cleaner.output.concentrate_sol\n",
      "primary_cleaner.output.concentrate_au\n",
      "primary_cleaner.output.tail_ag\n",
      "primary_cleaner.output.tail_pb\n",
      "primary_cleaner.output.tail_sol\n",
      "primary_cleaner.output.tail_au\n",
      "rougher.calculation.sulfate_to_au_concentrate\n",
      "rougher.calculation.floatbank10_sulfate_to_au_feed\n",
      "rougher.calculation.floatbank11_sulfate_to_au_feed\n",
      "rougher.calculation.au_pb_ratio\n",
      "rougher.output.concentrate_ag\n",
      "rougher.output.concentrate_pb\n",
      "rougher.output.concentrate_sol\n",
      "rougher.output.concentrate_au\n",
      "rougher.output.recovery\n",
      "rougher.output.tail_ag\n",
      "rougher.output.tail_pb\n",
      "rougher.output.tail_sol\n",
      "rougher.output.tail_au\n",
      "secondary_cleaner.output.tail_ag\n",
      "secondary_cleaner.output.tail_pb\n",
      "secondary_cleaner.output.tail_sol\n",
      "secondary_cleaner.output.tail_au\n",
      "34\n"
     ]
    }
   ],
   "source": [
    "count = 0\n",
    "for column in df_train.columns:\n",
    "    if column not in df_test.columns:\n",
    "        count +=1\n",
    "        print(column)\n",
    "print(count)"
   ]
  },
  {
   "cell_type": "markdown",
   "metadata": {},
   "source": [
    "В тестовой выборке не доступны выходные данные на разных этапах, что логично, ведь нам нужно предсказывать характеристики до запуска производства, чтобы оно было не убыточное."
   ]
  },
  {
   "cell_type": "markdown",
   "metadata": {},
   "source": [
    "### Проверка на явные дубликаты"
   ]
  },
  {
   "cell_type": "code",
   "execution_count": 6,
   "metadata": {
    "scrolled": true
   },
   "outputs": [
    {
     "data": {
      "text/plain": [
       "0"
      ]
     },
     "execution_count": 6,
     "metadata": {},
     "output_type": "execute_result"
    }
   ],
   "source": [
    "df_train.duplicated().sum()"
   ]
  },
  {
   "cell_type": "code",
   "execution_count": 7,
   "metadata": {},
   "outputs": [
    {
     "data": {
      "text/plain": [
       "0"
      ]
     },
     "execution_count": 7,
     "metadata": {},
     "output_type": "execute_result"
    }
   ],
   "source": [
    "df_test.duplicated().sum()"
   ]
  },
  {
   "cell_type": "code",
   "execution_count": 8,
   "metadata": {
    "scrolled": true
   },
   "outputs": [
    {
     "data": {
      "text/plain": [
       "0"
      ]
     },
     "execution_count": 8,
     "metadata": {},
     "output_type": "execute_result"
    }
   ],
   "source": [
    "df_full.duplicated().sum()"
   ]
  },
  {
   "cell_type": "markdown",
   "metadata": {},
   "source": [
    "### Проверка на пропуски"
   ]
  },
  {
   "cell_type": "code",
   "execution_count": 9,
   "metadata": {
    "scrolled": true
   },
   "outputs": [
    {
     "data": {
      "text/plain": [
       "date                                            0\n",
       "final.output.concentrate_ag                     1\n",
       "final.output.concentrate_pb                     1\n",
       "final.output.concentrate_sol                  211\n",
       "final.output.concentrate_au                     0\n",
       "                                             ... \n",
       "secondary_cleaner.state.floatbank5_a_level      1\n",
       "secondary_cleaner.state.floatbank5_b_air        1\n",
       "secondary_cleaner.state.floatbank5_b_level      1\n",
       "secondary_cleaner.state.floatbank6_a_air        2\n",
       "secondary_cleaner.state.floatbank6_a_level      1\n",
       "Length: 87, dtype: int64"
      ]
     },
     "execution_count": 9,
     "metadata": {},
     "output_type": "execute_result"
    }
   ],
   "source": [
    "df_train.isna().sum()"
   ]
  },
  {
   "cell_type": "code",
   "execution_count": 10,
   "metadata": {
    "scrolled": true
   },
   "outputs": [
    {
     "data": {
      "text/plain": [
       "date                                           0\n",
       "primary_cleaner.input.sulfate                  4\n",
       "primary_cleaner.input.depressant               5\n",
       "primary_cleaner.input.feed_size                0\n",
       "primary_cleaner.input.xanthate                 4\n",
       "primary_cleaner.state.floatbank8_a_air         0\n",
       "primary_cleaner.state.floatbank8_a_level       0\n",
       "primary_cleaner.state.floatbank8_b_air         0\n",
       "primary_cleaner.state.floatbank8_b_level       0\n",
       "primary_cleaner.state.floatbank8_c_air         0\n",
       "primary_cleaner.state.floatbank8_c_level       0\n",
       "primary_cleaner.state.floatbank8_d_air         0\n",
       "primary_cleaner.state.floatbank8_d_level       0\n",
       "rougher.input.feed_ag                          0\n",
       "rougher.input.feed_pb                          0\n",
       "rougher.input.feed_rate                        3\n",
       "rougher.input.feed_size                        1\n",
       "rougher.input.feed_sol                        21\n",
       "rougher.input.feed_au                          0\n",
       "rougher.input.floatbank10_sulfate              5\n",
       "rougher.input.floatbank10_xanthate             0\n",
       "rougher.input.floatbank11_sulfate              8\n",
       "rougher.input.floatbank11_xanthate            25\n",
       "rougher.state.floatbank10_a_air                0\n",
       "rougher.state.floatbank10_a_level              0\n",
       "rougher.state.floatbank10_b_air                0\n",
       "rougher.state.floatbank10_b_level              0\n",
       "rougher.state.floatbank10_c_air                0\n",
       "rougher.state.floatbank10_c_level              0\n",
       "rougher.state.floatbank10_d_air                0\n",
       "rougher.state.floatbank10_d_level              0\n",
       "rougher.state.floatbank10_e_air                0\n",
       "rougher.state.floatbank10_e_level              0\n",
       "rougher.state.floatbank10_f_air                0\n",
       "rougher.state.floatbank10_f_level              0\n",
       "secondary_cleaner.state.floatbank2_a_air       3\n",
       "secondary_cleaner.state.floatbank2_a_level     0\n",
       "secondary_cleaner.state.floatbank2_b_air       2\n",
       "secondary_cleaner.state.floatbank2_b_level     0\n",
       "secondary_cleaner.state.floatbank3_a_air       9\n",
       "secondary_cleaner.state.floatbank3_a_level     0\n",
       "secondary_cleaner.state.floatbank3_b_air       0\n",
       "secondary_cleaner.state.floatbank3_b_level     0\n",
       "secondary_cleaner.state.floatbank4_a_air       0\n",
       "secondary_cleaner.state.floatbank4_a_level     0\n",
       "secondary_cleaner.state.floatbank4_b_air       0\n",
       "secondary_cleaner.state.floatbank4_b_level     0\n",
       "secondary_cleaner.state.floatbank5_a_air       0\n",
       "secondary_cleaner.state.floatbank5_a_level     0\n",
       "secondary_cleaner.state.floatbank5_b_air       0\n",
       "secondary_cleaner.state.floatbank5_b_level     0\n",
       "secondary_cleaner.state.floatbank6_a_air       0\n",
       "secondary_cleaner.state.floatbank6_a_level     0\n",
       "dtype: int64"
      ]
     },
     "execution_count": 10,
     "metadata": {},
     "output_type": "execute_result"
    }
   ],
   "source": [
    "df_test.isna().sum()"
   ]
  },
  {
   "cell_type": "code",
   "execution_count": 11,
   "metadata": {
    "scrolled": true
   },
   "outputs": [
    {
     "data": {
      "text/plain": [
       "date                                            0\n",
       "final.output.concentrate_ag                     1\n",
       "final.output.concentrate_pb                     1\n",
       "final.output.concentrate_sol                  211\n",
       "final.output.concentrate_au                     0\n",
       "                                             ... \n",
       "secondary_cleaner.state.floatbank5_a_level      1\n",
       "secondary_cleaner.state.floatbank5_b_air        1\n",
       "secondary_cleaner.state.floatbank5_b_level      1\n",
       "secondary_cleaner.state.floatbank6_a_air        2\n",
       "secondary_cleaner.state.floatbank6_a_level      1\n",
       "Length: 87, dtype: int64"
      ]
     },
     "execution_count": 11,
     "metadata": {},
     "output_type": "execute_result"
    }
   ],
   "source": [
    "df_full.isna().sum()"
   ]
  },
  {
   "cell_type": "markdown",
   "metadata": {},
   "source": [
    "Т.к. соседние по времени параметры часто похожи, заполним пропуски методом ffil."
   ]
  },
  {
   "cell_type": "code",
   "execution_count": 12,
   "metadata": {
    "scrolled": false
   },
   "outputs": [],
   "source": [
    "df_train = df_train.ffill()\n",
    "df_test = df_test.ffill()"
   ]
  },
  {
   "cell_type": "code",
   "execution_count": 13,
   "metadata": {
    "scrolled": true
   },
   "outputs": [
    {
     "data": {
      "text/plain": [
       "date                                          0\n",
       "final.output.concentrate_ag                   0\n",
       "final.output.concentrate_pb                   0\n",
       "final.output.concentrate_sol                  0\n",
       "final.output.concentrate_au                   0\n",
       "                                             ..\n",
       "secondary_cleaner.state.floatbank5_a_level    0\n",
       "secondary_cleaner.state.floatbank5_b_air      0\n",
       "secondary_cleaner.state.floatbank5_b_level    0\n",
       "secondary_cleaner.state.floatbank6_a_air      0\n",
       "secondary_cleaner.state.floatbank6_a_level    0\n",
       "Length: 87, dtype: int64"
      ]
     },
     "execution_count": 13,
     "metadata": {},
     "output_type": "execute_result"
    }
   ],
   "source": [
    "df_train.isna().sum()"
   ]
  },
  {
   "cell_type": "code",
   "execution_count": 14,
   "metadata": {
    "scrolled": true
   },
   "outputs": [
    {
     "data": {
      "text/plain": [
       "date                                          0\n",
       "primary_cleaner.input.sulfate                 0\n",
       "primary_cleaner.input.depressant              0\n",
       "primary_cleaner.input.feed_size               0\n",
       "primary_cleaner.input.xanthate                0\n",
       "primary_cleaner.state.floatbank8_a_air        0\n",
       "primary_cleaner.state.floatbank8_a_level      0\n",
       "primary_cleaner.state.floatbank8_b_air        0\n",
       "primary_cleaner.state.floatbank8_b_level      0\n",
       "primary_cleaner.state.floatbank8_c_air        0\n",
       "primary_cleaner.state.floatbank8_c_level      0\n",
       "primary_cleaner.state.floatbank8_d_air        0\n",
       "primary_cleaner.state.floatbank8_d_level      0\n",
       "rougher.input.feed_ag                         0\n",
       "rougher.input.feed_pb                         0\n",
       "rougher.input.feed_rate                       0\n",
       "rougher.input.feed_size                       0\n",
       "rougher.input.feed_sol                        0\n",
       "rougher.input.feed_au                         0\n",
       "rougher.input.floatbank10_sulfate             0\n",
       "rougher.input.floatbank10_xanthate            0\n",
       "rougher.input.floatbank11_sulfate             0\n",
       "rougher.input.floatbank11_xanthate            0\n",
       "rougher.state.floatbank10_a_air               0\n",
       "rougher.state.floatbank10_a_level             0\n",
       "rougher.state.floatbank10_b_air               0\n",
       "rougher.state.floatbank10_b_level             0\n",
       "rougher.state.floatbank10_c_air               0\n",
       "rougher.state.floatbank10_c_level             0\n",
       "rougher.state.floatbank10_d_air               0\n",
       "rougher.state.floatbank10_d_level             0\n",
       "rougher.state.floatbank10_e_air               0\n",
       "rougher.state.floatbank10_e_level             0\n",
       "rougher.state.floatbank10_f_air               0\n",
       "rougher.state.floatbank10_f_level             0\n",
       "secondary_cleaner.state.floatbank2_a_air      0\n",
       "secondary_cleaner.state.floatbank2_a_level    0\n",
       "secondary_cleaner.state.floatbank2_b_air      0\n",
       "secondary_cleaner.state.floatbank2_b_level    0\n",
       "secondary_cleaner.state.floatbank3_a_air      0\n",
       "secondary_cleaner.state.floatbank3_a_level    0\n",
       "secondary_cleaner.state.floatbank3_b_air      0\n",
       "secondary_cleaner.state.floatbank3_b_level    0\n",
       "secondary_cleaner.state.floatbank4_a_air      0\n",
       "secondary_cleaner.state.floatbank4_a_level    0\n",
       "secondary_cleaner.state.floatbank4_b_air      0\n",
       "secondary_cleaner.state.floatbank4_b_level    0\n",
       "secondary_cleaner.state.floatbank5_a_air      0\n",
       "secondary_cleaner.state.floatbank5_a_level    0\n",
       "secondary_cleaner.state.floatbank5_b_air      0\n",
       "secondary_cleaner.state.floatbank5_b_level    0\n",
       "secondary_cleaner.state.floatbank6_a_air      0\n",
       "secondary_cleaner.state.floatbank6_a_level    0\n",
       "dtype: int64"
      ]
     },
     "execution_count": 14,
     "metadata": {},
     "output_type": "execute_result"
    }
   ],
   "source": [
    "df_test.isna().sum()"
   ]
  },
  {
   "cell_type": "markdown",
   "metadata": {},
   "source": [
    "## Анализ данных"
   ]
  },
  {
   "cell_type": "markdown",
   "metadata": {},
   "source": [
    "### Распределение концентрации металлов на разных этапах"
   ]
  },
  {
   "cell_type": "code",
   "execution_count": 15,
   "metadata": {
    "scrolled": false
   },
   "outputs": [
    {
     "data": {
      "image/png": "[encoded data removed]",
      "text/plain": [
       "<Figure size 1080x720 with 1 Axes>"
      ]
     },
     "metadata": {
      "needs_background": "light"
     },
     "output_type": "display_data"
    }
   ],
   "source": [
    "fig = plt.figure(figsize=(15,10))\n",
    "plt.hist(df_train['rougher.input.feed_au'], bins = 100, alpha=0.5, label='rougher_input')\n",
    "plt.hist(df_train['rougher.output.concentrate_au'], bins = 100, alpha=0.5, label='rougher_output')\n",
    "plt.hist(df_train['primary_cleaner.output.concentrate_au'], bins = 100, alpha=0.5, label='primary_cleaner')\n",
    "plt.hist(df_train['final.output.concentrate_au'], bins = 100, alpha=0.5, label='secondary_cleaner(final)')\n",
    "plt.grid()\n",
    "plt.legend(loc='upper right')\n",
    "plt.xlabel('Концентрация')\n",
    "plt.title('Распределние концентрации золота на разных этапах');"
   ]
  },
  {
   "cell_type": "markdown",
   "metadata": {},
   "source": [
    "Распределение концентрации неуклонно растет на каждом этапе очистки. Посмотрим что происходит с другими металлами и сравним результаты."
   ]
  },
  {
   "cell_type": "code",
   "execution_count": 16,
   "metadata": {},
   "outputs": [],
   "source": [
    "x = ['rougher.input', 'rougher.ouput', 'primary_cleaner','final']\n",
    "y_au = [df_train['rougher.input.feed_au'].median(),\n",
    "    df_train['rougher.output.concentrate_au'].median(),\n",
    "    df_train['primary_cleaner.output.concentrate_au'].median(),\n",
    "    df_train['final.output.concentrate_au'].median()]"
   ]
  },
  {
   "cell_type": "code",
   "execution_count": 17,
   "metadata": {},
   "outputs": [],
   "source": [
    "y_ag = [df_train['rougher.input.feed_ag'].median(),\n",
    "    df_train['rougher.output.concentrate_ag'].median(),\n",
    "    df_train['primary_cleaner.output.concentrate_ag'].median(),\n",
    "    df_train['final.output.concentrate_ag'].median()]"
   ]
  },
  {
   "cell_type": "code",
   "execution_count": 18,
   "metadata": {},
   "outputs": [],
   "source": [
    "y_pb = [df_train['rougher.input.feed_pb'].median(),\n",
    "    df_train['rougher.output.concentrate_pb'].median(),\n",
    "    df_train['primary_cleaner.output.concentrate_pb'].median(),\n",
    "    df_train['final.output.concentrate_pb'].median()]"
   ]
  },
  {
   "cell_type": "code",
   "execution_count": 19,
   "metadata": {
    "scrolled": false
   },
   "outputs": [
    {
     "data": {
      "image/png": "[encoded data removed]",
      "text/plain": [
       "<Figure size 1080x360 with 1 Axes>"
      ]
     },
     "metadata": {
      "needs_background": "light"
     },
     "output_type": "display_data"
    }
   ],
   "source": [
    "fig = plt.figure(figsize=(15,5))\n",
    "plt.plot(x, y_au, label='Золото')\n",
    "plt.plot(x, y_ag, label='Серебро')\n",
    "plt.plot(x, y_pb, label='Свинец')\n",
    "plt.grid()\n",
    "plt.legend(loc='upper right')\n",
    "plt.xlabel('Этапы очистки')\n",
    "plt.ylabel('Концентрация')\n",
    "plt.title('Концентрация металлов на разных этапах');"
   ]
  },
  {
   "cell_type": "markdown",
   "metadata": {},
   "source": [
    "Видно, что концентрация других металлов либо меняет не сильно, как у свинца, либо падает, как у серебра."
   ]
  },
  {
   "cell_type": "markdown",
   "metadata": {},
   "source": [
    "### Сравнение распределения гранул сырья в тренировочной и тестовой выборке"
   ]
  },
  {
   "cell_type": "code",
   "execution_count": 20,
   "metadata": {},
   "outputs": [],
   "source": [
    "train = df_train['rougher.input.feed_size']"
   ]
  },
  {
   "cell_type": "code",
   "execution_count": 21,
   "metadata": {},
   "outputs": [],
   "source": [
    "test = df_test['rougher.input.feed_size']"
   ]
  },
  {
   "cell_type": "code",
   "execution_count": 22,
   "metadata": {
    "scrolled": false
   },
   "outputs": [
    {
     "data": {
      "image/png": "[encoded data removed]",
      "text/plain": [
       "<Figure size 1080x720 with 3 Axes>"
      ]
     },
     "metadata": {
      "needs_background": "light"
     },
     "output_type": "display_data"
    }
   ],
   "source": [
    "fig, (ax1, ax2, ax3) = plt.subplots(3, figsize=(15,10))\n",
    "\n",
    "sns.histplot(data=df_train, x=\"rougher.input.feed_size\", color ='blue', label='train', bins=500, ax=ax1)\n",
    "sns.histplot(data=df_test, x=\"rougher.input.feed_size\", color='green', label='test', bins=500, ax=ax1)\n",
    "sns.boxplot(data=train, x=train, ax=ax2, color ='blue')\n",
    "sns.boxplot(data=test, x=test, ax=ax3, color ='green')\n",
    "ax1.set_xlim(0, 125)\n",
    "ax2.set_xlim(0, 125)\n",
    "ax3.set_xlim(0, 125)\n",
    "ax1.grid()\n",
    "ax2.grid()\n",
    "ax3.grid()\n",
    "ax3.set_ylabel('Test')\n",
    "ax2.set_ylabel('Train')\n",
    "ax1.set_title('Распределение гранул сырья');"
   ]
  },
  {
   "cell_type": "markdown",
   "metadata": {},
   "source": [
    "Распределение гранул сырья в тренировочной и тестовой выборке не сильно отличаются друг от друга. Проверим суммарную концентрацию всех веществ на разных стадиях"
   ]
  },
  {
   "cell_type": "markdown",
   "metadata": {},
   "source": [
    "### Исследование суммарной концентрации всех веществ на разных стадиях: в сырье, в черновом и финальном концентратах."
   ]
  },
  {
   "cell_type": "code",
   "execution_count": 23,
   "metadata": {},
   "outputs": [],
   "source": [
    "rougher_input = df_train['rougher.input.feed_au'] + df_train['rougher.input.feed_ag']\\\n",
    "    + df_train['rougher.output.concentrate_pb']\n",
    "rougher_output = df_train['rougher.output.concentrate_ag'] + df_train['rougher.output.concentrate_pb']\\\n",
    "         + df_train['rougher.output.concentrate_au']\n",
    "final_output = df_train['final.output.concentrate_ag'] + df_train['final.output.concentrate_pb']\\\n",
    "         + df_train['final.output.concentrate_au']"
   ]
  },
  {
   "cell_type": "code",
   "execution_count": 24,
   "metadata": {},
   "outputs": [
    {
     "data": {
      "image/png": "[encoded data removed]",
      "text/plain": [
       "<Figure size 1080x720 with 1 Axes>"
      ]
     },
     "metadata": {
      "needs_background": "light"
     },
     "output_type": "display_data"
    }
   ],
   "source": [
    "fig = plt.figure(figsize=(15,10))\n",
    "plt.hist(rougher_input, bins = 100, alpha=0.5, label='Исходное сырье')\n",
    "plt.hist(rougher_output, bins = 100, alpha=0.5, label='Черновой концентрат')\n",
    "plt.hist(final_output, bins = 100, alpha=0.5, label='Финальный концетрат')\n",
    "plt.grid()\n",
    "plt.legend(loc='upper right')\n",
    "plt.xlabel('Концентрация')\n",
    "plt.title('Распределние концентрации метталов на разных этапах');"
   ]
  },
  {
   "cell_type": "markdown",
   "metadata": {},
   "source": [
    "В данных присутствуют аномалии, когда на этапе чернового и финального концентратов концентрация металлов равна нулю."
   ]
  },
  {
   "cell_type": "code",
   "execution_count": 26,
   "metadata": {
    "scrolled": true
   },
   "outputs": [
    {
     "data": {
      "text/html": [
       "<div>\n",
       "<style scoped>\n",
       "    .dataframe tbody tr th:only-of-type {\n",
       "        vertical-align: middle;\n",
       "    }\n",
       "\n",
       "    .dataframe tbody tr th {\n",
       "        vertical-align: top;\n",
       "    }\n",
       "\n",
       "    .dataframe thead th {\n",
       "        text-align: right;\n",
       "    }\n",
       "</style>\n",
       "<table border=\"1\" class=\"dataframe\">\n",
       "  <thead>\n",
       "    <tr style=\"text-align: right;\">\n",
       "      <th></th>\n",
       "      <th>rougher.input.feed_au</th>\n",
       "      <th>rougher.input.feed_ag</th>\n",
       "      <th>rougher.input.feed_pb</th>\n",
       "      <th>rougher.output.concentrate_ag</th>\n",
       "      <th>rougher.output.concentrate_pb</th>\n",
       "      <th>rougher.output.concentrate_au</th>\n",
       "      <th>final.output.concentrate_ag</th>\n",
       "      <th>final.output.concentrate_pb</th>\n",
       "      <th>final.output.concentrate_au</th>\n",
       "    </tr>\n",
       "  </thead>\n",
       "  <tbody>\n",
       "    <tr>\n",
       "      <th>45</th>\n",
       "      <td>7.114065</td>\n",
       "      <td>7.521974</td>\n",
       "      <td>2.811569</td>\n",
       "      <td>0.0</td>\n",
       "      <td>0.0</td>\n",
       "      <td>0.0</td>\n",
       "      <td>4.566664</td>\n",
       "      <td>10.406178</td>\n",
       "      <td>46.614456</td>\n",
       "    </tr>\n",
       "    <tr>\n",
       "      <th>46</th>\n",
       "      <td>7.651522</td>\n",
       "      <td>7.313187</td>\n",
       "      <td>2.973841</td>\n",
       "      <td>0.0</td>\n",
       "      <td>0.0</td>\n",
       "      <td>0.0</td>\n",
       "      <td>4.577832</td>\n",
       "      <td>10.691605</td>\n",
       "      <td>46.250638</td>\n",
       "    </tr>\n",
       "    <tr>\n",
       "      <th>47</th>\n",
       "      <td>5.587750</td>\n",
       "      <td>7.934791</td>\n",
       "      <td>1.763437</td>\n",
       "      <td>0.0</td>\n",
       "      <td>0.0</td>\n",
       "      <td>0.0</td>\n",
       "      <td>4.591462</td>\n",
       "      <td>10.628846</td>\n",
       "      <td>46.663335</td>\n",
       "    </tr>\n",
       "    <tr>\n",
       "      <th>48</th>\n",
       "      <td>4.752992</td>\n",
       "      <td>7.756881</td>\n",
       "      <td>1.025762</td>\n",
       "      <td>0.0</td>\n",
       "      <td>0.0</td>\n",
       "      <td>0.0</td>\n",
       "      <td>5.296830</td>\n",
       "      <td>10.597469</td>\n",
       "      <td>44.015642</td>\n",
       "    </tr>\n",
       "    <tr>\n",
       "      <th>49</th>\n",
       "      <td>5.122801</td>\n",
       "      <td>5.393466</td>\n",
       "      <td>1.824835</td>\n",
       "      <td>0.0</td>\n",
       "      <td>0.0</td>\n",
       "      <td>0.0</td>\n",
       "      <td>8.162896</td>\n",
       "      <td>8.877528</td>\n",
       "      <td>40.715973</td>\n",
       "    </tr>\n",
       "    <tr>\n",
       "      <th>...</th>\n",
       "      <td>...</td>\n",
       "      <td>...</td>\n",
       "      <td>...</td>\n",
       "      <td>...</td>\n",
       "      <td>...</td>\n",
       "      <td>...</td>\n",
       "      <td>...</td>\n",
       "      <td>...</td>\n",
       "      <td>...</td>\n",
       "    </tr>\n",
       "    <tr>\n",
       "      <th>10330</th>\n",
       "      <td>7.951063</td>\n",
       "      <td>8.576019</td>\n",
       "      <td>2.607144</td>\n",
       "      <td>0.0</td>\n",
       "      <td>0.0</td>\n",
       "      <td>0.0</td>\n",
       "      <td>4.909904</td>\n",
       "      <td>9.941006</td>\n",
       "      <td>47.660737</td>\n",
       "    </tr>\n",
       "    <tr>\n",
       "      <th>10331</th>\n",
       "      <td>8.715784</td>\n",
       "      <td>8.640039</td>\n",
       "      <td>2.905023</td>\n",
       "      <td>0.0</td>\n",
       "      <td>0.0</td>\n",
       "      <td>0.0</td>\n",
       "      <td>4.797572</td>\n",
       "      <td>9.889303</td>\n",
       "      <td>47.801056</td>\n",
       "    </tr>\n",
       "    <tr>\n",
       "      <th>10332</th>\n",
       "      <td>9.026122</td>\n",
       "      <td>8.769059</td>\n",
       "      <td>3.020251</td>\n",
       "      <td>0.0</td>\n",
       "      <td>0.0</td>\n",
       "      <td>0.0</td>\n",
       "      <td>4.329492</td>\n",
       "      <td>9.413122</td>\n",
       "      <td>49.412576</td>\n",
       "    </tr>\n",
       "    <tr>\n",
       "      <th>10333</th>\n",
       "      <td>8.752430</td>\n",
       "      <td>8.705607</td>\n",
       "      <td>2.881386</td>\n",
       "      <td>0.0</td>\n",
       "      <td>0.0</td>\n",
       "      <td>0.0</td>\n",
       "      <td>4.317169</td>\n",
       "      <td>9.642271</td>\n",
       "      <td>48.839994</td>\n",
       "    </tr>\n",
       "    <tr>\n",
       "      <th>10334</th>\n",
       "      <td>8.467616</td>\n",
       "      <td>8.897043</td>\n",
       "      <td>2.760468</td>\n",
       "      <td>0.0</td>\n",
       "      <td>0.0</td>\n",
       "      <td>0.0</td>\n",
       "      <td>4.772368</td>\n",
       "      <td>10.273324</td>\n",
       "      <td>47.346243</td>\n",
       "    </tr>\n",
       "  </tbody>\n",
       "</table>\n",
       "<p>354 rows × 9 columns</p>\n",
       "</div>"
      ],
      "text/plain": [
       "       rougher.input.feed_au  rougher.input.feed_ag  rougher.input.feed_pb  \\\n",
       "45                  7.114065               7.521974               2.811569   \n",
       "46                  7.651522               7.313187               2.973841   \n",
       "47                  5.587750               7.934791               1.763437   \n",
       "48                  4.752992               7.756881               1.025762   \n",
       "49                  5.122801               5.393466               1.824835   \n",
       "...                      ...                    ...                    ...   \n",
       "10330               7.951063               8.576019               2.607144   \n",
       "10331               8.715784               8.640039               2.905023   \n",
       "10332               9.026122               8.769059               3.020251   \n",
       "10333               8.752430               8.705607               2.881386   \n",
       "10334               8.467616               8.897043               2.760468   \n",
       "\n",
       "       rougher.output.concentrate_ag  rougher.output.concentrate_pb  \\\n",
       "45                               0.0                            0.0   \n",
       "46                               0.0                            0.0   \n",
       "47                               0.0                            0.0   \n",
       "48                               0.0                            0.0   \n",
       "49                               0.0                            0.0   \n",
       "...                              ...                            ...   \n",
       "10330                            0.0                            0.0   \n",
       "10331                            0.0                            0.0   \n",
       "10332                            0.0                            0.0   \n",
       "10333                            0.0                            0.0   \n",
       "10334                            0.0                            0.0   \n",
       "\n",
       "       rougher.output.concentrate_au  final.output.concentrate_ag  \\\n",
       "45                               0.0                     4.566664   \n",
       "46                               0.0                     4.577832   \n",
       "47                               0.0                     4.591462   \n",
       "48                               0.0                     5.296830   \n",
       "49                               0.0                     8.162896   \n",
       "...                              ...                          ...   \n",
       "10330                            0.0                     4.909904   \n",
       "10331                            0.0                     4.797572   \n",
       "10332                            0.0                     4.329492   \n",
       "10333                            0.0                     4.317169   \n",
       "10334                            0.0                     4.772368   \n",
       "\n",
       "       final.output.concentrate_pb  final.output.concentrate_au  \n",
       "45                       10.406178                    46.614456  \n",
       "46                       10.691605                    46.250638  \n",
       "47                       10.628846                    46.663335  \n",
       "48                       10.597469                    44.015642  \n",
       "49                        8.877528                    40.715973  \n",
       "...                            ...                          ...  \n",
       "10330                     9.941006                    47.660737  \n",
       "10331                     9.889303                    47.801056  \n",
       "10332                     9.413122                    49.412576  \n",
       "10333                     9.642271                    48.839994  \n",
       "10334                    10.273324                    47.346243  \n",
       "\n",
       "[354 rows x 9 columns]"
      ]
     },
     "execution_count": 26,
     "metadata": {},
     "output_type": "execute_result"
    }
   ],
   "source": [
    "df_train.loc[(rougher_output == 0) | (final_output == 0), ['rougher.input.feed_au', 'rougher.input.feed_ag',\n",
    "                                                        'rougher.input.feed_pb', 'rougher.output.concentrate_ag',\n",
    "                                                        'rougher.output.concentrate_pb', 'rougher.output.concentrate_au',\n",
    "                                                        'final.output.concentrate_ag', 'final.output.concentrate_pb',\n",
    "                                                        'final.output.concentrate_au']]"
   ]
  },
  {
   "cell_type": "markdown",
   "metadata": {},
   "source": [
    "Избавимся от аномалий."
   ]
  },
  {
   "cell_type": "code",
   "execution_count": 27,
   "metadata": {},
   "outputs": [],
   "source": [
    "df_train = df_train[(rougher_output != 0) & (final_output != 0)]"
   ]
  },
  {
   "cell_type": "code",
   "execution_count": 28,
   "metadata": {},
   "outputs": [
    {
     "data": {
      "text/plain": [
       "(13795, 87)"
      ]
     },
     "execution_count": 28,
     "metadata": {},
     "output_type": "execute_result"
    }
   ],
   "source": [
    "df_train.shape"
   ]
  },
  {
   "cell_type": "code",
   "execution_count": 29,
   "metadata": {},
   "outputs": [],
   "source": [
    "rougher_input = df_train['rougher.input.feed_au'] + df_train['rougher.input.feed_ag']\\\n",
    "    + df_train['rougher.output.concentrate_pb']\n",
    "rougher_output = df_train['rougher.output.concentrate_ag'] + df_train['rougher.output.concentrate_pb']\\\n",
    "         + df_train['rougher.output.concentrate_au']\n",
    "final_output = df_train['final.output.concentrate_ag'] + df_train['final.output.concentrate_pb']\\\n",
    "         + df_train['final.output.concentrate_au']"
   ]
  },
  {
   "cell_type": "code",
   "execution_count": 30,
   "metadata": {},
   "outputs": [
    {
     "data": {
      "image/png": "[encoded data removed]",
      "text/plain": [
       "<Figure size 1080x720 with 1 Axes>"
      ]
     },
     "metadata": {
      "needs_background": "light"
     },
     "output_type": "display_data"
    }
   ],
   "source": [
    "fig = plt.figure(figsize=(15,10))\n",
    "plt.hist(rougher_input, bins = 100, alpha=0.5, label='Исходное сырье')\n",
    "plt.hist(rougher_output, bins = 100, alpha=0.5, label='Черновой концентрат')\n",
    "plt.hist(final_output, bins = 100, alpha=0.5, label='Финальный концетрат')\n",
    "plt.grid()\n",
    "plt.legend(loc='upper right')\n",
    "plt.xlabel('Концентрация')\n",
    "plt.title('Распределние концентрации метталов на разных этапах');"
   ]
  },
  {
   "cell_type": "markdown",
   "metadata": {},
   "source": [
    "От аномалий избавились, переходим к построению модели."
   ]
  },
  {
   "cell_type": "markdown",
   "metadata": {},
   "source": [
    "## Модель"
   ]
  },
  {
   "cell_type": "markdown",
   "metadata": {},
   "source": [
    "### Функция для вычисления итоговой sMAPE"
   ]
  },
  {
   "cell_type": "code",
   "execution_count": 32,
   "metadata": {},
   "outputs": [],
   "source": [
    "def smape(y_true, y_pred):\n",
    "    error = np.abs(y_true - y_pred)\n",
    "    scale = (np.abs(y_true) + np.abs(y_pred)) / 2\n",
    "\n",
    "    return np.mean(error / scale) * 100"
   ]
  },
  {
   "cell_type": "code",
   "execution_count": 33,
   "metadata": {},
   "outputs": [],
   "source": [
    "def final_smape(smape_rougher, smape_final):\n",
    "    return 0.25 * (smape_rougher * -1).mean() + 0.75 *(smape_final * -1).mean()"
   ]
  },
  {
   "cell_type": "markdown",
   "metadata": {},
   "source": [
    "### Выбор лучшей модели"
   ]
  },
  {
   "cell_type": "code",
   "execution_count": 34,
   "metadata": {},
   "outputs": [],
   "source": [
    "X_test = df_test.drop('date', axis=1)"
   ]
  },
  {
   "cell_type": "code",
   "execution_count": 35,
   "metadata": {},
   "outputs": [],
   "source": [
    "X_train = df_train[df_test.drop('date', axis=1).columns]"
   ]
  },
  {
   "cell_type": "code",
   "execution_count": 36,
   "metadata": {},
   "outputs": [],
   "source": [
    "y_train_final = df_train['final.output.recovery']"
   ]
  },
  {
   "cell_type": "code",
   "execution_count": 37,
   "metadata": {},
   "outputs": [],
   "source": [
    "y_train_rougher = df_train['rougher.output.recovery']"
   ]
  },
  {
   "cell_type": "code",
   "execution_count": 38,
   "metadata": {},
   "outputs": [],
   "source": [
    "scorer = make_scorer(smape, greater_is_better = False)"
   ]
  },
  {
   "cell_type": "code",
   "execution_count": 39,
   "metadata": {},
   "outputs": [],
   "source": [
    "lr = LinearRegression()"
   ]
  },
  {
   "cell_type": "code",
   "execution_count": 40,
   "metadata": {},
   "outputs": [],
   "source": [
    "smape_rougher = cross_val_score(lr, X_train, y_train_rougher, cv=5, scoring=scorer)"
   ]
  },
  {
   "cell_type": "code",
   "execution_count": 41,
   "metadata": {},
   "outputs": [],
   "source": [
    "smape_final = cross_val_score(lr, X_train, y_train_final, cv=5, scoring=scorer)"
   ]
  },
  {
   "cell_type": "code",
   "execution_count": 42,
   "metadata": {
    "scrolled": true
   },
   "outputs": [
    {
     "data": {
      "text/plain": [
       "10.059602069093534"
      ]
     },
     "execution_count": 42,
     "metadata": {},
     "output_type": "execute_result"
    }
   ],
   "source": [
    "final_smape(smape_rougher, smape_final)"
   ]
  },
  {
   "cell_type": "code",
   "execution_count": 43,
   "metadata": {},
   "outputs": [],
   "source": [
    "rfr = RandomForestRegressor()"
   ]
  },
  {
   "cell_type": "code",
   "execution_count": 44,
   "metadata": {},
   "outputs": [],
   "source": [
    "param_grid = {\"max_depth\": range(1, 10)}"
   ]
  },
  {
   "cell_type": "code",
   "execution_count": 45,
   "metadata": {},
   "outputs": [],
   "source": [
    "grid1 = GridSearchCV(rfr, param_grid, scoring=scorer, cv=5, n_jobs=-1)"
   ]
  },
  {
   "cell_type": "code",
   "execution_count": null,
   "metadata": {},
   "outputs": [],
   "source": [
    "grid1.fit(X_train, y_train_rougher)"
   ]
  },
  {
   "cell_type": "code",
   "execution_count": null,
   "metadata": {},
   "outputs": [],
   "source": [
    "smape_rougher_rfr = grid1.best_score_"
   ]
  },
  {
   "cell_type": "code",
   "execution_count": null,
   "metadata": {},
   "outputs": [],
   "source": [
    "grid2 = GridSearchCV(rfr, param_grid, scoring=scorer, cv=5, n_jobs=-1)"
   ]
  },
  {
   "cell_type": "code",
   "execution_count": 49,
   "metadata": {},
   "outputs": [
    {
     "data": {
      "text/plain": [
       "GridSearchCV(cv=5, estimator=RandomForestRegressor(), n_jobs=-1,\n",
       "             param_grid={'max_depth': range(1, 10)},\n",
       "             scoring=make_scorer(smape, greater_is_better=False))"
      ]
     },
     "execution_count": 49,
     "metadata": {},
     "output_type": "execute_result"
    }
   ],
   "source": [
    "grid2.fit(X_train, y_train_final)"
   ]
  },
  {
   "cell_type": "code",
   "execution_count": 50,
   "metadata": {},
   "outputs": [],
   "source": [
    "smape_final_rfr = grid2.best_score_"
   ]
  },
  {
   "cell_type": "code",
   "execution_count": 51,
   "metadata": {},
   "outputs": [
    {
     "data": {
      "text/plain": [
       "8.455440301701051"
      ]
     },
     "execution_count": 51,
     "metadata": {},
     "output_type": "execute_result"
    }
   ],
   "source": [
    "final_smape(smape_rougher_rfr, smape_final_rfr)"
   ]
  },
  {
   "cell_type": "code",
   "execution_count": 52,
   "metadata": {},
   "outputs": [
    {
     "data": {
      "text/plain": [
       "RandomForestRegressor(max_depth=4)"
      ]
     },
     "execution_count": 52,
     "metadata": {},
     "output_type": "execute_result"
    }
   ],
   "source": [
    "grid2.best_estimator_"
   ]
  },
  {
   "cell_type": "markdown",
   "metadata": {},
   "source": [
    "Лучшая модель RandomForestRegressor(max_depth=5). Проверим работоспособность на тестовой выборке."
   ]
  },
  {
   "cell_type": "markdown",
   "metadata": {},
   "source": [
    "### Проверка на тестовой выборке"
   ]
  },
  {
   "cell_type": "code",
   "execution_count": 53,
   "metadata": {},
   "outputs": [],
   "source": [
    "y_test_rougher = grid1.predict(X_test)"
   ]
  },
  {
   "cell_type": "code",
   "execution_count": 54,
   "metadata": {},
   "outputs": [],
   "source": [
    "y_test_final = grid2.predict(X_test)"
   ]
  },
  {
   "cell_type": "code",
   "execution_count": 55,
   "metadata": {},
   "outputs": [],
   "source": [
    "df_test['y_test_rougher.output.recovery'] = y_test_rougher"
   ]
  },
  {
   "cell_type": "code",
   "execution_count": 56,
   "metadata": {},
   "outputs": [],
   "source": [
    "df_test['y_test_final.output.recovery'] = y_test_final"
   ]
  },
  {
   "cell_type": "code",
   "execution_count": 57,
   "metadata": {},
   "outputs": [
    {
     "data": {
      "text/plain": [
       "19439"
      ]
     },
     "execution_count": 57,
     "metadata": {},
     "output_type": "execute_result"
    }
   ],
   "source": [
    "df_full['date'].nunique()"
   ]
  },
  {
   "cell_type": "code",
   "execution_count": 58,
   "metadata": {},
   "outputs": [
    {
     "data": {
      "text/plain": [
       "19439"
      ]
     },
     "execution_count": 58,
     "metadata": {},
     "output_type": "execute_result"
    }
   ],
   "source": [
    "len(df_full)"
   ]
  },
  {
   "cell_type": "markdown",
   "metadata": {},
   "source": [
    "Т.к. в столбце date все значения уникальные, соединим тестовую выборку с предсказанными значениями с истинными значениями recovery и посчитаем итоговый smape."
   ]
  },
  {
   "cell_type": "code",
   "execution_count": 59,
   "metadata": {},
   "outputs": [],
   "source": [
    "df_test = df_test.merge(df_full[['date', 'rougher.output.recovery', 'final.output.recovery']], how='left', on='date')"
   ]
  },
  {
   "cell_type": "code",
   "execution_count": 60,
   "metadata": {},
   "outputs": [],
   "source": [
    "smape_rougher_test = 0.25 * smape(df_test['rougher.output.recovery'], df_test['y_test_rougher.output.recovery'])\\\n",
    "    + 0.75 * smape(df_test['final.output.recovery'], df_test['y_test_final.output.recovery'])"
   ]
  },
  {
   "cell_type": "code",
   "execution_count": 61,
   "metadata": {
    "scrolled": false
   },
   "outputs": [
    {
     "data": {
      "text/plain": [
       "9.434746805332999"
      ]
     },
     "execution_count": 61,
     "metadata": {},
     "output_type": "execute_result"
    }
   ],
   "source": [
    "smape_rougher_test"
   ]
  },
  {
   "cell_type": "markdown",
   "metadata": {},
   "source": [
    "Выведем первые 5 образцов с лучшей финальной предсказанной эффективностью обогощения."
   ]
  },
  {
   "cell_type": "code",
   "execution_count": 62,
   "metadata": {},
   "outputs": [
    {
     "data": {
      "text/html": [
       "<div>\n",
       "<style scoped>\n",
       "    .dataframe tbody tr th:only-of-type {\n",
       "        vertical-align: middle;\n",
       "    }\n",
       "\n",
       "    .dataframe tbody tr th {\n",
       "        vertical-align: top;\n",
       "    }\n",
       "\n",
       "    .dataframe thead th {\n",
       "        text-align: right;\n",
       "    }\n",
       "</style>\n",
       "<table border=\"1\" class=\"dataframe\">\n",
       "  <thead>\n",
       "    <tr style=\"text-align: right;\">\n",
       "      <th></th>\n",
       "      <th>date</th>\n",
       "      <th>primary_cleaner.input.sulfate</th>\n",
       "      <th>primary_cleaner.input.depressant</th>\n",
       "      <th>primary_cleaner.input.feed_size</th>\n",
       "      <th>primary_cleaner.input.xanthate</th>\n",
       "      <th>primary_cleaner.state.floatbank8_a_air</th>\n",
       "      <th>primary_cleaner.state.floatbank8_a_level</th>\n",
       "      <th>primary_cleaner.state.floatbank8_b_air</th>\n",
       "      <th>primary_cleaner.state.floatbank8_b_level</th>\n",
       "      <th>primary_cleaner.state.floatbank8_c_air</th>\n",
       "      <th>...</th>\n",
       "      <th>secondary_cleaner.state.floatbank5_a_air</th>\n",
       "      <th>secondary_cleaner.state.floatbank5_a_level</th>\n",
       "      <th>secondary_cleaner.state.floatbank5_b_air</th>\n",
       "      <th>secondary_cleaner.state.floatbank5_b_level</th>\n",
       "      <th>secondary_cleaner.state.floatbank6_a_air</th>\n",
       "      <th>secondary_cleaner.state.floatbank6_a_level</th>\n",
       "      <th>y_test_rougher.output.recovery</th>\n",
       "      <th>y_test_final.output.recovery</th>\n",
       "      <th>rougher.output.recovery</th>\n",
       "      <th>final.output.recovery</th>\n",
       "    </tr>\n",
       "  </thead>\n",
       "  <tbody>\n",
       "    <tr>\n",
       "      <th>3733</th>\n",
       "      <td>2017-10-24 09:59:59</td>\n",
       "      <td>221.870504</td>\n",
       "      <td>11.991570</td>\n",
       "      <td>6.990000</td>\n",
       "      <td>2.601881</td>\n",
       "      <td>1700.187070</td>\n",
       "      <td>-499.843179</td>\n",
       "      <td>1703.284098</td>\n",
       "      <td>-501.876429</td>\n",
       "      <td>1599.684732</td>\n",
       "      <td>...</td>\n",
       "      <td>14.966648</td>\n",
       "      <td>-498.827433</td>\n",
       "      <td>10.982086</td>\n",
       "      <td>-500.105456</td>\n",
       "      <td>16.000050</td>\n",
       "      <td>-499.527926</td>\n",
       "      <td>91.388424</td>\n",
       "      <td>74.331550</td>\n",
       "      <td>89.886629</td>\n",
       "      <td>76.952216</td>\n",
       "    </tr>\n",
       "    <tr>\n",
       "      <th>3732</th>\n",
       "      <td>2017-10-24 08:59:59</td>\n",
       "      <td>190.615369</td>\n",
       "      <td>11.834078</td>\n",
       "      <td>6.990000</td>\n",
       "      <td>2.587650</td>\n",
       "      <td>1699.806412</td>\n",
       "      <td>-487.858371</td>\n",
       "      <td>1696.865986</td>\n",
       "      <td>-538.891378</td>\n",
       "      <td>1629.524918</td>\n",
       "      <td>...</td>\n",
       "      <td>14.930861</td>\n",
       "      <td>-500.233342</td>\n",
       "      <td>11.026507</td>\n",
       "      <td>-500.018066</td>\n",
       "      <td>15.991582</td>\n",
       "      <td>-500.624325</td>\n",
       "      <td>91.388424</td>\n",
       "      <td>73.536627</td>\n",
       "      <td>92.144829</td>\n",
       "      <td>80.429396</td>\n",
       "    </tr>\n",
       "    <tr>\n",
       "      <th>4464</th>\n",
       "      <td>2017-11-24 18:59:59</td>\n",
       "      <td>213.484960</td>\n",
       "      <td>9.997532</td>\n",
       "      <td>7.840000</td>\n",
       "      <td>2.399836</td>\n",
       "      <td>1601.127603</td>\n",
       "      <td>-499.916009</td>\n",
       "      <td>1597.895025</td>\n",
       "      <td>-500.464976</td>\n",
       "      <td>1599.754711</td>\n",
       "      <td>...</td>\n",
       "      <td>11.031814</td>\n",
       "      <td>-501.233784</td>\n",
       "      <td>9.047385</td>\n",
       "      <td>-500.855253</td>\n",
       "      <td>16.001351</td>\n",
       "      <td>-500.518572</td>\n",
       "      <td>91.285286</td>\n",
       "      <td>73.300850</td>\n",
       "      <td>92.268505</td>\n",
       "      <td>69.582670</td>\n",
       "    </tr>\n",
       "    <tr>\n",
       "      <th>4426</th>\n",
       "      <td>2017-11-23 04:59:59</td>\n",
       "      <td>229.982662</td>\n",
       "      <td>11.964658</td>\n",
       "      <td>7.333334</td>\n",
       "      <td>2.531648</td>\n",
       "      <td>1650.972287</td>\n",
       "      <td>-500.259318</td>\n",
       "      <td>1647.570013</td>\n",
       "      <td>-504.776151</td>\n",
       "      <td>1649.665658</td>\n",
       "      <td>...</td>\n",
       "      <td>10.988459</td>\n",
       "      <td>-498.370415</td>\n",
       "      <td>9.007680</td>\n",
       "      <td>-500.133861</td>\n",
       "      <td>15.979783</td>\n",
       "      <td>-498.920806</td>\n",
       "      <td>91.364807</td>\n",
       "      <td>73.300850</td>\n",
       "      <td>91.643711</td>\n",
       "      <td>70.436881</td>\n",
       "    </tr>\n",
       "    <tr>\n",
       "      <th>4425</th>\n",
       "      <td>2017-11-23 03:59:59</td>\n",
       "      <td>243.196713</td>\n",
       "      <td>12.024461</td>\n",
       "      <td>7.400000</td>\n",
       "      <td>2.392553</td>\n",
       "      <td>1651.643771</td>\n",
       "      <td>-499.549880</td>\n",
       "      <td>1648.053407</td>\n",
       "      <td>-492.306052</td>\n",
       "      <td>1650.241039</td>\n",
       "      <td>...</td>\n",
       "      <td>10.957999</td>\n",
       "      <td>-500.915120</td>\n",
       "      <td>9.061315</td>\n",
       "      <td>-500.016264</td>\n",
       "      <td>15.990467</td>\n",
       "      <td>-501.875714</td>\n",
       "      <td>91.364807</td>\n",
       "      <td>73.300850</td>\n",
       "      <td>91.159447</td>\n",
       "      <td>71.700411</td>\n",
       "    </tr>\n",
       "  </tbody>\n",
       "</table>\n",
       "<p>5 rows × 57 columns</p>\n",
       "</div>"
      ],
      "text/plain": [
       "                     date  primary_cleaner.input.sulfate  \\\n",
       "3733  2017-10-24 09:59:59                     221.870504   \n",
       "3732  2017-10-24 08:59:59                     190.615369   \n",
       "4464  2017-11-24 18:59:59                     213.484960   \n",
       "4426  2017-11-23 04:59:59                     229.982662   \n",
       "4425  2017-11-23 03:59:59                     243.196713   \n",
       "\n",
       "      primary_cleaner.input.depressant  primary_cleaner.input.feed_size  \\\n",
       "3733                         11.991570                         6.990000   \n",
       "3732                         11.834078                         6.990000   \n",
       "4464                          9.997532                         7.840000   \n",
       "4426                         11.964658                         7.333334   \n",
       "4425                         12.024461                         7.400000   \n",
       "\n",
       "      primary_cleaner.input.xanthate  primary_cleaner.state.floatbank8_a_air  \\\n",
       "3733                        2.601881                             1700.187070   \n",
       "3732                        2.587650                             1699.806412   \n",
       "4464                        2.399836                             1601.127603   \n",
       "4426                        2.531648                             1650.972287   \n",
       "4425                        2.392553                             1651.643771   \n",
       "\n",
       "      primary_cleaner.state.floatbank8_a_level  \\\n",
       "3733                               -499.843179   \n",
       "3732                               -487.858371   \n",
       "4464                               -499.916009   \n",
       "4426                               -500.259318   \n",
       "4425                               -499.549880   \n",
       "\n",
       "      primary_cleaner.state.floatbank8_b_air  \\\n",
       "3733                             1703.284098   \n",
       "3732                             1696.865986   \n",
       "4464                             1597.895025   \n",
       "4426                             1647.570013   \n",
       "4425                             1648.053407   \n",
       "\n",
       "      primary_cleaner.state.floatbank8_b_level  \\\n",
       "3733                               -501.876429   \n",
       "3732                               -538.891378   \n",
       "4464                               -500.464976   \n",
       "4426                               -504.776151   \n",
       "4425                               -492.306052   \n",
       "\n",
       "      primary_cleaner.state.floatbank8_c_air  ...  \\\n",
       "3733                             1599.684732  ...   \n",
       "3732                             1629.524918  ...   \n",
       "4464                             1599.754711  ...   \n",
       "4426                             1649.665658  ...   \n",
       "4425                             1650.241039  ...   \n",
       "\n",
       "      secondary_cleaner.state.floatbank5_a_air  \\\n",
       "3733                                 14.966648   \n",
       "3732                                 14.930861   \n",
       "4464                                 11.031814   \n",
       "4426                                 10.988459   \n",
       "4425                                 10.957999   \n",
       "\n",
       "      secondary_cleaner.state.floatbank5_a_level  \\\n",
       "3733                                 -498.827433   \n",
       "3732                                 -500.233342   \n",
       "4464                                 -501.233784   \n",
       "4426                                 -498.370415   \n",
       "4425                                 -500.915120   \n",
       "\n",
       "      secondary_cleaner.state.floatbank5_b_air  \\\n",
       "3733                                 10.982086   \n",
       "3732                                 11.026507   \n",
       "4464                                  9.047385   \n",
       "4426                                  9.007680   \n",
       "4425                                  9.061315   \n",
       "\n",
       "      secondary_cleaner.state.floatbank5_b_level  \\\n",
       "3733                                 -500.105456   \n",
       "3732                                 -500.018066   \n",
       "4464                                 -500.855253   \n",
       "4426                                 -500.133861   \n",
       "4425                                 -500.016264   \n",
       "\n",
       "      secondary_cleaner.state.floatbank6_a_air  \\\n",
       "3733                                 16.000050   \n",
       "3732                                 15.991582   \n",
       "4464                                 16.001351   \n",
       "4426                                 15.979783   \n",
       "4425                                 15.990467   \n",
       "\n",
       "      secondary_cleaner.state.floatbank6_a_level  \\\n",
       "3733                                 -499.527926   \n",
       "3732                                 -500.624325   \n",
       "4464                                 -500.518572   \n",
       "4426                                 -498.920806   \n",
       "4425                                 -501.875714   \n",
       "\n",
       "      y_test_rougher.output.recovery  y_test_final.output.recovery  \\\n",
       "3733                       91.388424                     74.331550   \n",
       "3732                       91.388424                     73.536627   \n",
       "4464                       91.285286                     73.300850   \n",
       "4426                       91.364807                     73.300850   \n",
       "4425                       91.364807                     73.300850   \n",
       "\n",
       "      rougher.output.recovery  final.output.recovery  \n",
       "3733                89.886629              76.952216  \n",
       "3732                92.144829              80.429396  \n",
       "4464                92.268505              69.582670  \n",
       "4426                91.643711              70.436881  \n",
       "4425                91.159447              71.700411  \n",
       "\n",
       "[5 rows x 57 columns]"
      ]
     },
     "execution_count": 62,
     "metadata": {},
     "output_type": "execute_result"
    }
   ],
   "source": [
    "df_test.sort_values('y_test_final.output.recovery', ascending=False).head()"
   ]
  },
  {
   "cell_type": "markdown",
   "metadata": {},
   "source": [
    "**Общий вывод:** Был исследован тренировочный датасет с параметрами добычи и очистки. Проверили концентрацию металлов на каждом этапе очистки, аномалий выявлено не было. Распределение гранул сырья в тренировочной и тестовой выборке имеют не значительные расхождения, что не должно влиять на качество модели. По итогам обучения на тренировочном датасете с помощью кросс валидации определили лучшую модель RandomForestRegressor(max_depth=5). Проверили модель на тестовом датасете и сравнили с истнинными значениями rougher.output.recovery и final.output.recovery. Итоговая метрика sMAPE получилось выше, чем на тренировочной выборке."
   ]
  }
 ],
 "metadata": {
  "ExecuteTimeLog": [
   {
    "duration": 972,
    "start_time": "2023-01-25T17:18:57.790Z"
   },
   {
    "duration": 860,
    "start_time": "2023-01-25T17:20:02.599Z"
   },
   {
    "duration": 34,
    "start_time": "2023-01-25T17:20:07.008Z"
   },
   {
    "duration": 2358,
    "start_time": "2023-01-25T17:21:40.899Z"
   },
   {
    "duration": 41,
    "start_time": "2023-01-28T19:30:03.810Z"
   },
   {
    "duration": 1116,
    "start_time": "2023-01-28T19:30:15.469Z"
   },
   {
    "duration": 3381,
    "start_time": "2023-01-28T19:30:16.587Z"
   },
   {
    "duration": 17,
    "start_time": "2023-01-28T19:30:19.970Z"
   },
   {
    "duration": 56,
    "start_time": "2023-01-29T12:53:57.641Z"
   },
   {
    "duration": 1131,
    "start_time": "2023-01-29T12:54:04.789Z"
   },
   {
    "duration": 3229,
    "start_time": "2023-01-29T12:54:05.922Z"
   },
   {
    "duration": 75,
    "start_time": "2023-01-29T12:54:11.433Z"
   },
   {
    "duration": 137,
    "start_time": "2023-01-29T12:54:25.032Z"
   },
   {
    "duration": 28,
    "start_time": "2023-01-29T12:54:37.096Z"
   },
   {
    "duration": 121,
    "start_time": "2023-01-29T12:54:55.232Z"
   },
   {
    "duration": 10,
    "start_time": "2023-01-29T12:58:15.784Z"
   },
   {
    "duration": 12,
    "start_time": "2023-01-29T12:58:29.481Z"
   },
   {
    "duration": 11,
    "start_time": "2023-01-29T12:59:02.328Z"
   },
   {
    "duration": 43,
    "start_time": "2023-01-29T13:00:00.475Z"
   },
   {
    "duration": 31,
    "start_time": "2023-01-29T13:00:16.370Z"
   },
   {
    "duration": 43,
    "start_time": "2023-01-29T13:00:26.273Z"
   },
   {
    "duration": 29,
    "start_time": "2023-01-29T13:09:36.734Z"
   },
   {
    "duration": 267,
    "start_time": "2023-01-29T13:09:51.732Z"
   },
   {
    "duration": 7,
    "start_time": "2023-01-29T13:13:43.574Z"
   },
   {
    "duration": 10,
    "start_time": "2023-01-29T13:14:19.896Z"
   },
   {
    "duration": 7,
    "start_time": "2023-01-29T13:17:24.034Z"
   },
   {
    "duration": 19,
    "start_time": "2023-01-29T13:18:16.345Z"
   },
   {
    "duration": 10,
    "start_time": "2023-01-29T13:18:45.945Z"
   },
   {
    "duration": 11,
    "start_time": "2023-01-29T13:19:27.673Z"
   },
   {
    "duration": 12,
    "start_time": "2023-01-29T13:19:39.252Z"
   },
   {
    "duration": 14,
    "start_time": "2023-01-29T13:20:15.460Z"
   },
   {
    "duration": 12,
    "start_time": "2023-01-29T13:22:13.139Z"
   },
   {
    "duration": 37,
    "start_time": "2023-01-29T13:23:11.643Z"
   },
   {
    "duration": 27,
    "start_time": "2023-01-29T13:24:39.674Z"
   },
   {
    "duration": 73,
    "start_time": "2023-01-29T13:25:54.061Z"
   },
   {
    "duration": 51,
    "start_time": "2023-01-29T13:26:08.051Z"
   },
   {
    "duration": 6975,
    "start_time": "2023-01-29T13:26:47.133Z"
   },
   {
    "duration": 6384,
    "start_time": "2023-01-29T13:27:07.138Z"
   },
   {
    "duration": 6582,
    "start_time": "2023-01-29T13:27:49.162Z"
   },
   {
    "duration": 7315,
    "start_time": "2023-01-29T13:28:01.777Z"
   },
   {
    "duration": 7704,
    "start_time": "2023-01-29T13:28:17.245Z"
   },
   {
    "duration": 9063,
    "start_time": "2023-01-29T13:28:38.323Z"
   },
   {
    "duration": 10944,
    "start_time": "2023-01-29T13:28:53.927Z"
   },
   {
    "duration": 13,
    "start_time": "2023-01-29T13:36:14.637Z"
   },
   {
    "duration": 43,
    "start_time": "2023-01-29T13:43:25.477Z"
   },
   {
    "duration": 10,
    "start_time": "2023-01-29T13:43:57.554Z"
   },
   {
    "duration": 80,
    "start_time": "2023-01-29T13:45:40.961Z"
   },
   {
    "duration": 13,
    "start_time": "2023-01-29T13:45:55.154Z"
   },
   {
    "duration": 71,
    "start_time": "2023-01-29T13:46:03.362Z"
   },
   {
    "duration": 980,
    "start_time": "2023-01-29T13:46:44.848Z"
   },
   {
    "duration": 727,
    "start_time": "2023-01-29T13:46:45.830Z"
   },
   {
    "duration": 130,
    "start_time": "2023-01-29T13:46:46.558Z"
   },
   {
    "duration": 24,
    "start_time": "2023-01-29T13:46:46.689Z"
   },
   {
    "duration": 110,
    "start_time": "2023-01-29T13:46:46.715Z"
   },
   {
    "duration": 8,
    "start_time": "2023-01-29T13:46:46.826Z"
   },
   {
    "duration": 28,
    "start_time": "2023-01-29T13:46:46.836Z"
   },
   {
    "duration": 15,
    "start_time": "2023-01-29T13:46:46.866Z"
   },
   {
    "duration": 10698,
    "start_time": "2023-01-29T13:46:46.883Z"
   },
   {
    "duration": 67,
    "start_time": "2023-01-29T13:46:57.605Z"
   },
   {
    "duration": 4,
    "start_time": "2023-01-29T13:46:57.674Z"
   },
   {
    "duration": 25,
    "start_time": "2023-01-29T13:46:57.680Z"
   },
   {
    "duration": 1100,
    "start_time": "2023-01-29T13:47:31.954Z"
   },
   {
    "duration": 696,
    "start_time": "2023-01-29T13:47:33.057Z"
   },
   {
    "duration": 145,
    "start_time": "2023-01-29T13:47:33.754Z"
   },
   {
    "duration": 25,
    "start_time": "2023-01-29T13:47:33.901Z"
   },
   {
    "duration": 121,
    "start_time": "2023-01-29T13:47:33.928Z"
   },
   {
    "duration": 10,
    "start_time": "2023-01-29T13:47:34.051Z"
   },
   {
    "duration": 23,
    "start_time": "2023-01-29T13:47:34.062Z"
   },
   {
    "duration": 61,
    "start_time": "2023-01-29T13:47:34.087Z"
   },
   {
    "duration": 11195,
    "start_time": "2023-01-29T13:47:34.150Z"
   },
   {
    "duration": 59,
    "start_time": "2023-01-29T13:47:45.347Z"
   },
   {
    "duration": 8,
    "start_time": "2023-01-29T13:47:45.408Z"
   },
   {
    "duration": 32,
    "start_time": "2023-01-29T13:47:45.417Z"
   },
   {
    "duration": 5,
    "start_time": "2023-01-29T13:48:26.365Z"
   },
   {
    "duration": 6,
    "start_time": "2023-01-29T13:48:48.989Z"
   },
   {
    "duration": 11526,
    "start_time": "2023-01-29T13:53:06.901Z"
   },
   {
    "duration": 5,
    "start_time": "2023-01-29T14:11:19.948Z"
   },
   {
    "duration": 93,
    "start_time": "2023-01-29T14:17:19.202Z"
   },
   {
    "duration": 5,
    "start_time": "2023-01-29T14:17:30.843Z"
   },
   {
    "duration": 12,
    "start_time": "2023-01-29T14:17:47.360Z"
   },
   {
    "duration": 10,
    "start_time": "2023-01-29T14:18:03.444Z"
   },
   {
    "duration": 4,
    "start_time": "2023-01-29T14:18:11.075Z"
   },
   {
    "duration": 1083,
    "start_time": "2023-01-29T14:18:28.974Z"
   },
   {
    "duration": 707,
    "start_time": "2023-01-29T14:18:30.059Z"
   },
   {
    "duration": 132,
    "start_time": "2023-01-29T14:18:30.768Z"
   },
   {
    "duration": 24,
    "start_time": "2023-01-29T14:18:30.901Z"
   },
   {
    "duration": 113,
    "start_time": "2023-01-29T14:18:30.927Z"
   },
   {
    "duration": 9,
    "start_time": "2023-01-29T14:18:31.042Z"
   },
   {
    "duration": 7,
    "start_time": "2023-01-29T14:18:31.053Z"
   },
   {
    "duration": 24,
    "start_time": "2023-01-29T14:18:31.061Z"
   },
   {
    "duration": 11469,
    "start_time": "2023-01-29T14:18:31.087Z"
   },
   {
    "duration": 57,
    "start_time": "2023-01-29T14:18:42.558Z"
   },
   {
    "duration": 8,
    "start_time": "2023-01-29T14:18:42.616Z"
   },
   {
    "duration": 8,
    "start_time": "2023-01-29T14:18:42.626Z"
   },
   {
    "duration": 8,
    "start_time": "2023-01-29T14:18:42.636Z"
   },
   {
    "duration": 10,
    "start_time": "2023-01-29T14:18:42.646Z"
   },
   {
    "duration": 9,
    "start_time": "2023-01-29T14:19:07.509Z"
   },
   {
    "duration": 7,
    "start_time": "2023-01-29T14:19:15.477Z"
   },
   {
    "duration": 8,
    "start_time": "2023-01-29T14:22:17.055Z"
   },
   {
    "duration": 6,
    "start_time": "2023-01-29T14:22:26.741Z"
   },
   {
    "duration": 9,
    "start_time": "2023-01-29T14:33:55.948Z"
   },
   {
    "duration": 95,
    "start_time": "2023-01-29T14:34:44.157Z"
   },
   {
    "duration": 6,
    "start_time": "2023-01-29T14:34:57.357Z"
   },
   {
    "duration": 3,
    "start_time": "2023-01-29T14:36:02.594Z"
   },
   {
    "duration": 4,
    "start_time": "2023-01-29T14:36:35.760Z"
   },
   {
    "duration": 2,
    "start_time": "2023-01-29T14:42:18.606Z"
   },
   {
    "duration": 2,
    "start_time": "2023-01-29T14:42:22.855Z"
   },
   {
    "duration": 3,
    "start_time": "2023-01-29T14:46:47.087Z"
   },
   {
    "duration": 1229,
    "start_time": "2023-01-29T14:51:47.904Z"
   },
   {
    "duration": 635,
    "start_time": "2023-01-29T14:51:49.135Z"
   },
   {
    "duration": 9,
    "start_time": "2023-01-29T14:51:49.772Z"
   },
   {
    "duration": 6,
    "start_time": "2023-01-29T14:51:49.782Z"
   },
   {
    "duration": 8,
    "start_time": "2023-01-29T14:51:49.790Z"
   },
   {
    "duration": 128,
    "start_time": "2023-01-29T14:51:49.800Z"
   },
   {
    "duration": 22,
    "start_time": "2023-01-29T14:51:49.930Z"
   },
   {
    "duration": 115,
    "start_time": "2023-01-29T14:51:49.954Z"
   },
   {
    "duration": 17,
    "start_time": "2023-01-29T14:51:50.070Z"
   },
   {
    "duration": 6,
    "start_time": "2023-01-29T14:51:50.088Z"
   },
   {
    "duration": 15,
    "start_time": "2023-01-29T14:51:50.095Z"
   },
   {
    "duration": 10992,
    "start_time": "2023-01-29T14:51:50.111Z"
   },
   {
    "duration": 56,
    "start_time": "2023-01-29T14:52:01.125Z"
   },
   {
    "duration": 8,
    "start_time": "2023-01-29T14:52:01.184Z"
   },
   {
    "duration": 21,
    "start_time": "2023-01-29T14:52:01.193Z"
   },
   {
    "duration": 32,
    "start_time": "2023-01-29T14:52:01.216Z"
   },
   {
    "duration": 79,
    "start_time": "2023-01-29T14:53:13.886Z"
   },
   {
    "duration": 134,
    "start_time": "2023-01-29T14:53:42.554Z"
   },
   {
    "duration": 44,
    "start_time": "2023-01-29T14:53:50.020Z"
   },
   {
    "duration": 54,
    "start_time": "2023-01-29T14:54:15.789Z"
   },
   {
    "duration": 43,
    "start_time": "2023-01-29T14:54:20.154Z"
   },
   {
    "duration": 637,
    "start_time": "2023-01-29T14:54:32.347Z"
   },
   {
    "duration": 3168,
    "start_time": "2023-01-29T14:55:30.971Z"
   },
   {
    "duration": 3215,
    "start_time": "2023-01-29T14:58:14.502Z"
   },
   {
    "duration": 10,
    "start_time": "2023-01-29T15:09:01.494Z"
   },
   {
    "duration": 510,
    "start_time": "2023-01-29T15:09:21.762Z"
   },
   {
    "duration": 134,
    "start_time": "2023-01-29T15:10:19.903Z"
   },
   {
    "duration": 290,
    "start_time": "2023-01-29T15:10:26.069Z"
   },
   {
    "duration": 274,
    "start_time": "2023-01-29T15:10:29.501Z"
   },
   {
    "duration": 5,
    "start_time": "2023-01-29T15:12:14.126Z"
   },
   {
    "duration": 468,
    "start_time": "2023-01-29T15:12:41.420Z"
   },
   {
    "duration": 596,
    "start_time": "2023-01-29T15:13:00.409Z"
   },
   {
    "duration": 559,
    "start_time": "2023-01-29T15:13:06.030Z"
   },
   {
    "duration": 539,
    "start_time": "2023-01-29T15:13:46.428Z"
   },
   {
    "duration": 702,
    "start_time": "2023-01-29T15:14:44.240Z"
   },
   {
    "duration": 100,
    "start_time": "2023-01-29T15:19:26.217Z"
   },
   {
    "duration": 101,
    "start_time": "2023-01-29T15:19:47.516Z"
   },
   {
    "duration": 104,
    "start_time": "2023-01-29T15:22:44.279Z"
   },
   {
    "duration": 10,
    "start_time": "2023-01-29T15:23:36.478Z"
   },
   {
    "duration": 141,
    "start_time": "2023-01-29T15:23:47.336Z"
   },
   {
    "duration": 6,
    "start_time": "2023-01-29T15:26:06.376Z"
   },
   {
    "duration": 702,
    "start_time": "2023-01-29T15:26:31.081Z"
   },
   {
    "duration": 101,
    "start_time": "2023-01-29T15:26:43.396Z"
   },
   {
    "duration": 11,
    "start_time": "2023-01-29T15:27:34.457Z"
   },
   {
    "duration": 8,
    "start_time": "2023-01-29T15:28:04.024Z"
   },
   {
    "duration": 841,
    "start_time": "2023-01-29T15:28:39.545Z"
   },
   {
    "duration": 640,
    "start_time": "2023-01-29T15:30:12.486Z"
   },
   {
    "duration": 8,
    "start_time": "2023-01-29T15:32:05.635Z"
   },
   {
    "duration": 8,
    "start_time": "2023-01-29T15:32:10.018Z"
   },
   {
    "duration": 10,
    "start_time": "2023-01-29T15:33:04.422Z"
   },
   {
    "duration": 86,
    "start_time": "2023-01-29T15:34:41.957Z"
   },
   {
    "duration": 8,
    "start_time": "2023-01-29T15:37:53.180Z"
   },
   {
    "duration": 134,
    "start_time": "2023-01-29T15:38:13.474Z"
   },
   {
    "duration": 105,
    "start_time": "2023-01-29T15:38:43.115Z"
   },
   {
    "duration": 151,
    "start_time": "2023-01-29T15:43:33.954Z"
   },
   {
    "duration": 895,
    "start_time": "2023-01-29T15:47:11.800Z"
   },
   {
    "duration": 727,
    "start_time": "2023-01-29T15:47:29.741Z"
   },
   {
    "duration": 8,
    "start_time": "2023-01-29T15:49:44.775Z"
   },
   {
    "duration": 138,
    "start_time": "2023-01-29T15:49:45.496Z"
   },
   {
    "duration": 7,
    "start_time": "2023-01-29T15:49:55.840Z"
   },
   {
    "duration": 298,
    "start_time": "2023-01-29T15:50:10.509Z"
   },
   {
    "duration": 149,
    "start_time": "2023-01-29T15:50:28.960Z"
   },
   {
    "duration": 7,
    "start_time": "2023-01-29T15:51:42.120Z"
   },
   {
    "duration": 164,
    "start_time": "2023-01-29T15:51:43.581Z"
   },
   {
    "duration": 153,
    "start_time": "2023-01-29T15:53:22.039Z"
   },
   {
    "duration": 11,
    "start_time": "2023-01-29T16:07:36.649Z"
   },
   {
    "duration": 8,
    "start_time": "2023-01-29T16:07:47.382Z"
   },
   {
    "duration": 6,
    "start_time": "2023-01-29T16:09:40.683Z"
   },
   {
    "duration": 6,
    "start_time": "2023-01-29T16:09:41.343Z"
   },
   {
    "duration": 360,
    "start_time": "2023-01-29T16:13:13.281Z"
   },
   {
    "duration": 312,
    "start_time": "2023-01-29T16:13:22.566Z"
   },
   {
    "duration": 175,
    "start_time": "2023-01-29T16:13:48.699Z"
   },
   {
    "duration": 152,
    "start_time": "2023-01-29T16:14:10.629Z"
   },
   {
    "duration": 166,
    "start_time": "2023-01-29T16:14:21.879Z"
   },
   {
    "duration": 209,
    "start_time": "2023-01-29T16:14:46.780Z"
   },
   {
    "duration": 172,
    "start_time": "2023-01-29T16:17:55.916Z"
   },
   {
    "duration": 142,
    "start_time": "2023-01-29T16:18:34.546Z"
   },
   {
    "duration": 140,
    "start_time": "2023-01-29T16:19:12.388Z"
   },
   {
    "duration": 137,
    "start_time": "2023-01-29T16:26:16.833Z"
   },
   {
    "duration": 126,
    "start_time": "2023-01-29T16:26:33.166Z"
   },
   {
    "duration": 403,
    "start_time": "2023-01-29T16:27:46.263Z"
   },
   {
    "duration": 550,
    "start_time": "2023-01-29T16:28:04.187Z"
   },
   {
    "duration": 359,
    "start_time": "2023-01-29T16:28:22.224Z"
   },
   {
    "duration": 134,
    "start_time": "2023-01-29T16:28:53.217Z"
   },
   {
    "duration": 136,
    "start_time": "2023-01-29T16:29:12.625Z"
   },
   {
    "duration": 144,
    "start_time": "2023-01-29T16:29:26.038Z"
   },
   {
    "duration": 107,
    "start_time": "2023-01-29T16:29:35.082Z"
   },
   {
    "duration": 124,
    "start_time": "2023-01-29T16:29:41.126Z"
   },
   {
    "duration": 131,
    "start_time": "2023-01-29T16:29:59.003Z"
   },
   {
    "duration": 222,
    "start_time": "2023-01-29T16:31:18.235Z"
   },
   {
    "duration": 367,
    "start_time": "2023-01-29T16:31:31.377Z"
   },
   {
    "duration": 277,
    "start_time": "2023-01-29T16:31:45.451Z"
   },
   {
    "duration": 264,
    "start_time": "2023-01-29T16:32:14.406Z"
   },
   {
    "duration": 278,
    "start_time": "2023-01-29T16:33:00.417Z"
   },
   {
    "duration": 306,
    "start_time": "2023-01-29T16:33:18.986Z"
   },
   {
    "duration": 298,
    "start_time": "2023-01-29T16:33:25.066Z"
   },
   {
    "duration": 292,
    "start_time": "2023-01-29T16:33:43.138Z"
   },
   {
    "duration": 856,
    "start_time": "2023-01-29T16:35:38.491Z"
   },
   {
    "duration": 999,
    "start_time": "2023-01-29T16:36:30.993Z"
   },
   {
    "duration": 1291,
    "start_time": "2023-01-29T16:37:23.493Z"
   },
   {
    "duration": 1247,
    "start_time": "2023-01-29T16:39:34.499Z"
   },
   {
    "duration": 1188,
    "start_time": "2023-01-29T16:40:43.182Z"
   },
   {
    "duration": 1129,
    "start_time": "2023-01-29T16:43:40.930Z"
   },
   {
    "duration": 1169,
    "start_time": "2023-01-29T16:43:58.718Z"
   },
   {
    "duration": 1063,
    "start_time": "2023-01-29T16:44:15.610Z"
   },
   {
    "duration": 265,
    "start_time": "2023-01-29T16:47:40.932Z"
   },
   {
    "duration": 288,
    "start_time": "2023-01-29T16:48:18.557Z"
   },
   {
    "duration": 1175,
    "start_time": "2023-01-29T16:51:37.491Z"
   },
   {
    "duration": 1182,
    "start_time": "2023-01-29T16:51:57.200Z"
   },
   {
    "duration": 952,
    "start_time": "2023-01-29T16:52:22.072Z"
   },
   {
    "duration": 1343,
    "start_time": "2023-01-29T16:52:55.729Z"
   },
   {
    "duration": 1181,
    "start_time": "2023-01-29T16:53:22.360Z"
   },
   {
    "duration": 1024,
    "start_time": "2023-01-29T16:53:39.302Z"
   },
   {
    "duration": 1195,
    "start_time": "2023-01-29T16:54:24.076Z"
   },
   {
    "duration": 1138,
    "start_time": "2023-01-29T16:54:47.265Z"
   },
   {
    "duration": 1030,
    "start_time": "2023-01-29T16:55:41.870Z"
   },
   {
    "duration": 1244,
    "start_time": "2023-01-29T16:55:56.680Z"
   },
   {
    "duration": 1024,
    "start_time": "2023-01-29T16:56:21.939Z"
   },
   {
    "duration": 1180,
    "start_time": "2023-01-29T16:56:49.421Z"
   },
   {
    "duration": 3,
    "start_time": "2023-01-29T16:57:24.868Z"
   },
   {
    "duration": 3,
    "start_time": "2023-01-29T16:57:25.164Z"
   },
   {
    "duration": 1199,
    "start_time": "2023-01-29T16:57:27.357Z"
   },
   {
    "duration": 999,
    "start_time": "2023-01-29T16:58:02.982Z"
   },
   {
    "duration": 768,
    "start_time": "2023-01-29T17:28:50.057Z"
   },
   {
    "duration": 3081,
    "start_time": "2023-01-29T17:29:04.046Z"
   },
   {
    "duration": 1840,
    "start_time": "2023-01-29T17:29:29.658Z"
   },
   {
    "duration": 1701,
    "start_time": "2023-01-29T17:30:08.521Z"
   },
   {
    "duration": 1858,
    "start_time": "2023-01-29T17:30:30.483Z"
   },
   {
    "duration": 1630,
    "start_time": "2023-01-29T17:30:48.633Z"
   },
   {
    "duration": 7,
    "start_time": "2023-01-29T17:48:55.811Z"
   },
   {
    "duration": 88,
    "start_time": "2023-01-29T17:49:27.179Z"
   },
   {
    "duration": 5,
    "start_time": "2023-01-29T17:50:24.388Z"
   },
   {
    "duration": 9,
    "start_time": "2023-01-29T17:50:33.971Z"
   },
   {
    "duration": 9,
    "start_time": "2023-01-29T18:00:35.454Z"
   },
   {
    "duration": 112,
    "start_time": "2023-01-29T18:06:13.817Z"
   },
   {
    "duration": 12,
    "start_time": "2023-01-29T18:09:17.738Z"
   },
   {
    "duration": 8,
    "start_time": "2023-01-29T18:09:28.893Z"
   },
   {
    "duration": 8,
    "start_time": "2023-01-29T18:12:26.763Z"
   },
   {
    "duration": 686,
    "start_time": "2023-01-29T18:14:21.310Z"
   },
   {
    "duration": 8,
    "start_time": "2023-01-29T18:14:35.042Z"
   },
   {
    "duration": 10,
    "start_time": "2023-01-29T18:22:00.361Z"
   },
   {
    "duration": 3,
    "start_time": "2023-01-29T18:23:29.272Z"
   },
   {
    "duration": 89,
    "start_time": "2023-01-29T18:24:23.270Z"
   },
   {
    "duration": 120,
    "start_time": "2023-01-29T18:24:33.952Z"
   },
   {
    "duration": 13,
    "start_time": "2023-01-29T18:25:21.306Z"
   },
   {
    "duration": 3,
    "start_time": "2023-01-29T18:25:21.923Z"
   },
   {
    "duration": 314,
    "start_time": "2023-01-29T18:25:22.540Z"
   },
   {
    "duration": 3,
    "start_time": "2023-01-29T18:26:15.112Z"
   },
   {
    "duration": 143,
    "start_time": "2023-01-29T18:26:19.464Z"
   },
   {
    "duration": 3,
    "start_time": "2023-01-29T18:30:57.072Z"
   },
   {
    "duration": 5,
    "start_time": "2023-01-29T18:44:55.029Z"
   },
   {
    "duration": 3,
    "start_time": "2023-01-29T18:57:02.633Z"
   },
   {
    "duration": 4,
    "start_time": "2023-01-29T18:58:38.151Z"
   },
   {
    "duration": 56,
    "start_time": "2023-01-29T19:02:54.282Z"
   },
   {
    "duration": 3,
    "start_time": "2023-01-29T19:03:01.654Z"
   },
   {
    "duration": 3,
    "start_time": "2023-01-29T19:03:02.898Z"
   },
   {
    "duration": 4,
    "start_time": "2023-01-29T19:05:19.227Z"
   },
   {
    "duration": 6,
    "start_time": "2023-01-29T19:05:51.570Z"
   },
   {
    "duration": 6,
    "start_time": "2023-01-29T19:06:00.591Z"
   },
   {
    "duration": 4,
    "start_time": "2023-01-29T19:06:08.024Z"
   },
   {
    "duration": 2,
    "start_time": "2023-01-29T19:08:00.434Z"
   },
   {
    "duration": 6,
    "start_time": "2023-01-29T19:08:56.403Z"
   },
   {
    "duration": 3,
    "start_time": "2023-01-29T19:09:01.948Z"
   },
   {
    "duration": 5,
    "start_time": "2023-01-29T19:09:35.327Z"
   },
   {
    "duration": 2,
    "start_time": "2023-01-29T19:17:52.676Z"
   },
   {
    "duration": 1463,
    "start_time": "2023-01-29T19:19:03.822Z"
   },
   {
    "duration": 4,
    "start_time": "2023-01-29T19:19:08.421Z"
   },
   {
    "duration": 2584,
    "start_time": "2023-01-29T19:20:23.297Z"
   },
   {
    "duration": 4,
    "start_time": "2023-01-29T19:20:37.180Z"
   },
   {
    "duration": 5,
    "start_time": "2023-01-29T19:27:02.178Z"
   },
   {
    "duration": 6,
    "start_time": "2023-01-29T19:27:16.619Z"
   },
   {
    "duration": 4,
    "start_time": "2023-01-29T19:27:58.199Z"
   },
   {
    "duration": 4,
    "start_time": "2023-01-29T19:28:09.290Z"
   },
   {
    "duration": 4,
    "start_time": "2023-01-29T19:29:05.298Z"
   },
   {
    "duration": 1286,
    "start_time": "2023-01-29T19:33:42.634Z"
   },
   {
    "duration": 678,
    "start_time": "2023-01-29T19:33:43.922Z"
   },
   {
    "duration": 7,
    "start_time": "2023-01-29T19:33:44.602Z"
   },
   {
    "duration": 14,
    "start_time": "2023-01-29T19:33:44.610Z"
   },
   {
    "duration": 14,
    "start_time": "2023-01-29T19:33:44.627Z"
   },
   {
    "duration": 132,
    "start_time": "2023-01-29T19:33:44.643Z"
   },
   {
    "duration": 26,
    "start_time": "2023-01-29T19:33:44.776Z"
   },
   {
    "duration": 108,
    "start_time": "2023-01-29T19:33:44.804Z"
   },
   {
    "duration": 10,
    "start_time": "2023-01-29T19:33:44.913Z"
   },
   {
    "duration": 7,
    "start_time": "2023-01-29T19:33:44.925Z"
   },
   {
    "duration": 10,
    "start_time": "2023-01-29T19:33:44.934Z"
   },
   {
    "duration": 11778,
    "start_time": "2023-01-29T19:33:44.946Z"
   },
   {
    "duration": 74,
    "start_time": "2023-01-29T19:33:56.726Z"
   },
   {
    "duration": 9,
    "start_time": "2023-01-29T19:33:56.803Z"
   },
   {
    "duration": 23,
    "start_time": "2023-01-29T19:33:56.814Z"
   },
   {
    "duration": 750,
    "start_time": "2023-01-29T19:33:56.838Z"
   },
   {
    "duration": 10,
    "start_time": "2023-01-29T19:33:57.590Z"
   },
   {
    "duration": 7,
    "start_time": "2023-01-29T19:33:57.602Z"
   },
   {
    "duration": 7,
    "start_time": "2023-01-29T19:33:57.611Z"
   },
   {
    "duration": 186,
    "start_time": "2023-01-29T19:33:57.620Z"
   },
   {
    "duration": 3,
    "start_time": "2023-01-29T19:33:57.808Z"
   },
   {
    "duration": 7,
    "start_time": "2023-01-29T19:33:57.812Z"
   },
   {
    "duration": 2241,
    "start_time": "2023-01-29T19:33:57.820Z"
   },
   {
    "duration": 27,
    "start_time": "2023-01-29T19:34:00.063Z"
   },
   {
    "duration": 3,
    "start_time": "2023-01-29T19:34:00.092Z"
   },
   {
    "duration": 153,
    "start_time": "2023-01-29T19:34:00.097Z"
   },
   {
    "duration": 7,
    "start_time": "2023-01-29T19:34:00.252Z"
   },
   {
    "duration": 26,
    "start_time": "2023-01-29T19:34:00.260Z"
   },
   {
    "duration": 30,
    "start_time": "2023-01-29T19:34:00.288Z"
   },
   {
    "duration": 15,
    "start_time": "2023-01-29T19:34:00.320Z"
   },
   {
    "duration": 20,
    "start_time": "2023-01-29T19:34:00.337Z"
   },
   {
    "duration": 18,
    "start_time": "2023-01-29T19:34:00.359Z"
   },
   {
    "duration": 14,
    "start_time": "2023-01-29T19:34:00.379Z"
   },
   {
    "duration": 1299,
    "start_time": "2023-01-29T19:34:00.395Z"
   },
   {
    "duration": 1306,
    "start_time": "2023-01-29T19:34:01.695Z"
   },
   {
    "duration": 6,
    "start_time": "2023-01-29T19:34:03.003Z"
   },
   {
    "duration": 74,
    "start_time": "2023-01-29T19:34:03.011Z"
   },
   {
    "duration": 267124,
    "start_time": "2023-01-29T19:34:03.087Z"
   },
   {
    "duration": 264092,
    "start_time": "2023-01-29T19:38:30.213Z"
   },
   {
    "duration": 6,
    "start_time": "2023-01-29T19:42:54.307Z"
   },
   {
    "duration": 4,
    "start_time": "2023-01-29T19:52:57.627Z"
   },
   {
    "duration": 103,
    "start_time": "2023-01-29T19:57:42.468Z"
   },
   {
    "duration": 3,
    "start_time": "2023-01-29T19:57:46.000Z"
   },
   {
    "duration": 3,
    "start_time": "2023-01-29T19:57:46.526Z"
   },
   {
    "duration": 702372,
    "start_time": "2023-01-29T19:58:08.420Z"
   },
   {
    "duration": 4,
    "start_time": "2023-01-29T20:09:50.794Z"
   },
   {
    "duration": 696011,
    "start_time": "2023-01-29T20:09:50.800Z"
   },
   {
    "duration": 4,
    "start_time": "2023-01-29T20:21:26.813Z"
   },
   {
    "duration": 29,
    "start_time": "2023-01-29T20:43:10.145Z"
   },
   {
    "duration": 29,
    "start_time": "2023-01-29T20:43:19.859Z"
   },
   {
    "duration": 30,
    "start_time": "2023-01-29T20:44:06.994Z"
   },
   {
    "duration": 37,
    "start_time": "2023-01-29T20:44:24.817Z"
   },
   {
    "duration": 1396,
    "start_time": "2023-01-29T20:51:11.016Z"
   },
   {
    "duration": 671,
    "start_time": "2023-01-29T20:51:12.414Z"
   },
   {
    "duration": 7,
    "start_time": "2023-01-29T20:51:13.087Z"
   },
   {
    "duration": 19,
    "start_time": "2023-01-29T20:51:13.095Z"
   },
   {
    "duration": 13,
    "start_time": "2023-01-29T20:51:13.116Z"
   },
   {
    "duration": 123,
    "start_time": "2023-01-29T20:51:13.131Z"
   },
   {
    "duration": 47,
    "start_time": "2023-01-29T20:51:13.256Z"
   },
   {
    "duration": 114,
    "start_time": "2023-01-29T20:51:13.305Z"
   },
   {
    "duration": 10,
    "start_time": "2023-01-29T20:51:13.420Z"
   },
   {
    "duration": 7,
    "start_time": "2023-01-29T20:51:13.432Z"
   },
   {
    "duration": 11,
    "start_time": "2023-01-29T20:51:13.441Z"
   },
   {
    "duration": 11608,
    "start_time": "2023-01-29T20:51:13.454Z"
   },
   {
    "duration": 84,
    "start_time": "2023-01-29T20:51:25.065Z"
   },
   {
    "duration": 29,
    "start_time": "2023-01-29T20:51:25.153Z"
   },
   {
    "duration": 7,
    "start_time": "2023-01-29T20:51:25.184Z"
   },
   {
    "duration": 741,
    "start_time": "2023-01-29T20:51:25.193Z"
   },
   {
    "duration": 5,
    "start_time": "2023-01-29T20:51:25.936Z"
   },
   {
    "duration": 17,
    "start_time": "2023-01-29T20:51:25.943Z"
   },
   {
    "duration": 25,
    "start_time": "2023-01-29T20:51:25.962Z"
   },
   {
    "duration": 150,
    "start_time": "2023-01-29T20:51:25.988Z"
   },
   {
    "duration": 3,
    "start_time": "2023-01-29T20:51:26.140Z"
   },
   {
    "duration": 30,
    "start_time": "2023-01-29T20:51:26.145Z"
   },
   {
    "duration": 2166,
    "start_time": "2023-01-29T20:51:26.177Z"
   },
   {
    "duration": 10,
    "start_time": "2023-01-29T20:51:28.345Z"
   },
   {
    "duration": 11,
    "start_time": "2023-01-29T20:51:28.357Z"
   },
   {
    "duration": 146,
    "start_time": "2023-01-29T20:51:28.369Z"
   },
   {
    "duration": 7,
    "start_time": "2023-01-29T20:51:28.516Z"
   },
   {
    "duration": 7,
    "start_time": "2023-01-29T20:51:28.525Z"
   },
   {
    "duration": 6,
    "start_time": "2023-01-29T20:51:28.533Z"
   },
   {
    "duration": 10,
    "start_time": "2023-01-29T20:51:28.540Z"
   },
   {
    "duration": 11,
    "start_time": "2023-01-29T20:51:28.552Z"
   },
   {
    "duration": 17,
    "start_time": "2023-01-29T20:51:28.565Z"
   },
   {
    "duration": 17,
    "start_time": "2023-01-29T20:51:28.583Z"
   },
   {
    "duration": 1486,
    "start_time": "2023-01-29T20:51:28.601Z"
   },
   {
    "duration": 1493,
    "start_time": "2023-01-29T20:51:30.091Z"
   },
   {
    "duration": 11,
    "start_time": "2023-01-29T20:51:31.589Z"
   },
   {
    "duration": 81,
    "start_time": "2023-01-29T20:51:31.602Z"
   },
   {
    "duration": 32,
    "start_time": "2023-01-29T20:51:31.686Z"
   },
   {
    "duration": 19,
    "start_time": "2023-01-29T20:51:31.720Z"
   },
   {
    "duration": 699203,
    "start_time": "2023-01-29T20:51:31.741Z"
   },
   {
    "duration": 3,
    "start_time": "2023-01-29T21:03:10.947Z"
   },
   {
    "duration": 10,
    "start_time": "2023-01-29T21:03:10.951Z"
   },
   {
    "duration": 139972,
    "start_time": "2023-01-29T21:03:10.962Z"
   },
   {
    "duration": 0,
    "start_time": "2023-01-29T21:05:30.935Z"
   },
   {
    "duration": 0,
    "start_time": "2023-01-29T21:05:30.937Z"
   },
   {
    "duration": 677231,
    "start_time": "2023-01-29T21:05:51.979Z"
   },
   {
    "duration": 3,
    "start_time": "2023-01-29T21:17:09.211Z"
   },
   {
    "duration": 9,
    "start_time": "2023-01-29T21:17:09.215Z"
   },
   {
    "duration": 9,
    "start_time": "2023-01-29T21:20:38.932Z"
   },
   {
    "duration": 4,
    "start_time": "2023-01-29T21:22:42.271Z"
   },
   {
    "duration": 4,
    "start_time": "2023-01-29T21:22:49.876Z"
   },
   {
    "duration": 9,
    "start_time": "2023-01-29T21:23:34.843Z"
   },
   {
    "duration": 20,
    "start_time": "2023-01-29T21:26:25.749Z"
   },
   {
    "duration": 4,
    "start_time": "2023-01-29T21:26:32.550Z"
   },
   {
    "duration": 22,
    "start_time": "2023-01-29T21:26:53.286Z"
   },
   {
    "duration": 4,
    "start_time": "2023-01-29T21:26:59.245Z"
   },
   {
    "duration": 3,
    "start_time": "2023-01-29T21:29:00.644Z"
   },
   {
    "duration": 3,
    "start_time": "2023-01-29T21:29:24.056Z"
   },
   {
    "duration": 29,
    "start_time": "2023-01-29T21:29:30.055Z"
   },
   {
    "duration": 29,
    "start_time": "2023-01-29T21:30:17.013Z"
   },
   {
    "duration": 82,
    "start_time": "2023-01-29T21:37:33.932Z"
   },
   {
    "duration": 8,
    "start_time": "2023-01-29T21:38:11.111Z"
   },
   {
    "duration": 4,
    "start_time": "2023-01-29T21:38:24.137Z"
   },
   {
    "duration": 26,
    "start_time": "2023-01-29T21:39:37.674Z"
   },
   {
    "duration": 16,
    "start_time": "2023-01-29T21:39:46.243Z"
   },
   {
    "duration": 28,
    "start_time": "2023-01-29T21:39:54.317Z"
   },
   {
    "duration": 9,
    "start_time": "2023-01-29T21:40:01.693Z"
   },
   {
    "duration": 7,
    "start_time": "2023-01-29T21:44:05.167Z"
   },
   {
    "duration": 3,
    "start_time": "2023-01-29T21:44:11.358Z"
   },
   {
    "duration": 3,
    "start_time": "2023-01-29T21:49:29.336Z"
   },
   {
    "duration": 4,
    "start_time": "2023-01-29T21:49:52.871Z"
   },
   {
    "duration": 4,
    "start_time": "2023-01-29T21:50:15.659Z"
   },
   {
    "duration": 2,
    "start_time": "2023-01-29T21:51:46.845Z"
   },
   {
    "duration": 10,
    "start_time": "2023-01-29T21:54:16.684Z"
   },
   {
    "duration": 5,
    "start_time": "2023-01-29T21:55:19.925Z"
   },
   {
    "duration": 24,
    "start_time": "2023-01-29T22:03:34.882Z"
   },
   {
    "duration": 1309,
    "start_time": "2023-01-29T22:14:54.085Z"
   },
   {
    "duration": 657,
    "start_time": "2023-01-29T22:14:55.396Z"
   },
   {
    "duration": 7,
    "start_time": "2023-01-29T22:14:56.055Z"
   },
   {
    "duration": 17,
    "start_time": "2023-01-29T22:14:56.064Z"
   },
   {
    "duration": 7,
    "start_time": "2023-01-29T22:14:56.083Z"
   },
   {
    "duration": 137,
    "start_time": "2023-01-29T22:14:56.091Z"
   },
   {
    "duration": 24,
    "start_time": "2023-01-29T22:14:56.230Z"
   },
   {
    "duration": 134,
    "start_time": "2023-01-29T22:14:56.256Z"
   },
   {
    "duration": 10,
    "start_time": "2023-01-29T22:14:56.392Z"
   },
   {
    "duration": 7,
    "start_time": "2023-01-29T22:14:56.405Z"
   },
   {
    "duration": 10,
    "start_time": "2023-01-29T22:14:56.414Z"
   },
   {
    "duration": 10984,
    "start_time": "2023-01-29T22:14:56.426Z"
   },
   {
    "duration": 82,
    "start_time": "2023-01-29T22:15:07.412Z"
   },
   {
    "duration": 10,
    "start_time": "2023-01-29T22:15:07.496Z"
   },
   {
    "duration": 24,
    "start_time": "2023-01-29T22:15:07.508Z"
   },
   {
    "duration": 682,
    "start_time": "2023-01-29T22:15:07.533Z"
   },
   {
    "duration": 5,
    "start_time": "2023-01-29T22:15:08.216Z"
   },
   {
    "duration": 26,
    "start_time": "2023-01-29T22:15:08.222Z"
   },
   {
    "duration": 29,
    "start_time": "2023-01-29T22:15:08.249Z"
   },
   {
    "duration": 146,
    "start_time": "2023-01-29T22:15:08.280Z"
   },
   {
    "duration": 4,
    "start_time": "2023-01-29T22:15:08.432Z"
   },
   {
    "duration": 24,
    "start_time": "2023-01-29T22:15:08.437Z"
   },
   {
    "duration": 1969,
    "start_time": "2023-01-29T22:15:08.462Z"
   },
   {
    "duration": 10,
    "start_time": "2023-01-29T22:15:10.433Z"
   },
   {
    "duration": 3,
    "start_time": "2023-01-29T22:15:10.444Z"
   },
   {
    "duration": 143,
    "start_time": "2023-01-29T22:15:10.448Z"
   },
   {
    "duration": 3,
    "start_time": "2023-01-29T22:15:10.592Z"
   },
   {
    "duration": 5,
    "start_time": "2023-01-29T22:15:10.598Z"
   },
   {
    "duration": 8,
    "start_time": "2023-01-29T22:15:10.605Z"
   },
   {
    "duration": 9,
    "start_time": "2023-01-29T22:15:10.614Z"
   },
   {
    "duration": 6,
    "start_time": "2023-01-29T22:15:10.624Z"
   },
   {
    "duration": 6,
    "start_time": "2023-01-29T22:15:10.631Z"
   },
   {
    "duration": 12,
    "start_time": "2023-01-29T22:15:10.639Z"
   },
   {
    "duration": 10,
    "start_time": "2023-01-29T22:15:10.653Z"
   },
   {
    "duration": 1221,
    "start_time": "2023-01-29T22:15:10.665Z"
   },
   {
    "duration": 1294,
    "start_time": "2023-01-29T22:15:11.888Z"
   },
   {
    "duration": 5,
    "start_time": "2023-01-29T22:15:13.183Z"
   },
   {
    "duration": 7,
    "start_time": "2023-01-29T22:15:13.189Z"
   },
   {
    "duration": 3,
    "start_time": "2023-01-29T22:15:13.282Z"
   },
   {
    "duration": 9,
    "start_time": "2023-01-29T22:15:13.287Z"
   },
   {
    "duration": 671982,
    "start_time": "2023-01-29T22:15:13.298Z"
   },
   {
    "duration": 3,
    "start_time": "2023-01-29T22:26:25.281Z"
   },
   {
    "duration": 6,
    "start_time": "2023-01-29T22:26:25.285Z"
   },
   {
    "duration": 667380,
    "start_time": "2023-01-29T22:26:25.293Z"
   },
   {
    "duration": 6,
    "start_time": "2023-01-29T22:37:32.675Z"
   },
   {
    "duration": 9,
    "start_time": "2023-01-29T22:37:32.683Z"
   },
   {
    "duration": 5,
    "start_time": "2023-01-29T22:37:32.694Z"
   },
   {
    "duration": 22,
    "start_time": "2023-01-29T22:37:32.701Z"
   },
   {
    "duration": 22,
    "start_time": "2023-01-29T22:37:32.724Z"
   },
   {
    "duration": 3,
    "start_time": "2023-01-29T22:37:32.747Z"
   },
   {
    "duration": 6,
    "start_time": "2023-01-29T22:37:32.752Z"
   },
   {
    "duration": 29,
    "start_time": "2023-01-29T22:37:32.759Z"
   },
   {
    "duration": 12,
    "start_time": "2023-01-29T22:37:32.789Z"
   },
   {
    "duration": 18,
    "start_time": "2023-01-29T22:37:32.802Z"
   },
   {
    "duration": 6,
    "start_time": "2023-01-29T22:37:32.821Z"
   },
   {
    "duration": 7,
    "start_time": "2023-01-29T22:37:32.829Z"
   },
   {
    "duration": 26,
    "start_time": "2023-01-29T22:37:32.837Z"
   },
   {
    "duration": 2060,
    "start_time": "2023-01-30T20:00:50.158Z"
   },
   {
    "duration": 3155,
    "start_time": "2023-01-30T20:00:52.220Z"
   },
   {
    "duration": 6,
    "start_time": "2023-01-30T20:00:55.377Z"
   },
   {
    "duration": 11,
    "start_time": "2023-01-30T20:00:55.385Z"
   },
   {
    "duration": 8,
    "start_time": "2023-01-30T20:00:55.399Z"
   },
   {
    "duration": 129,
    "start_time": "2023-01-30T20:00:55.408Z"
   },
   {
    "duration": 30,
    "start_time": "2023-01-30T20:00:55.539Z"
   },
   {
    "duration": 109,
    "start_time": "2023-01-30T20:00:55.570Z"
   },
   {
    "duration": 9,
    "start_time": "2023-01-30T20:00:55.680Z"
   },
   {
    "duration": 7,
    "start_time": "2023-01-30T20:00:55.691Z"
   },
   {
    "duration": 11,
    "start_time": "2023-01-30T20:00:55.700Z"
   },
   {
    "duration": 11428,
    "start_time": "2023-01-30T20:00:55.712Z"
   },
   {
    "duration": 63,
    "start_time": "2023-01-30T20:01:07.142Z"
   },
   {
    "duration": 8,
    "start_time": "2023-01-30T20:01:07.208Z"
   },
   {
    "duration": 7,
    "start_time": "2023-01-30T20:01:07.218Z"
   },
   {
    "duration": 714,
    "start_time": "2023-01-30T20:01:07.227Z"
   },
   {
    "duration": 6,
    "start_time": "2023-01-30T20:01:07.942Z"
   },
   {
    "duration": 19,
    "start_time": "2023-01-30T20:01:07.950Z"
   },
   {
    "duration": 4,
    "start_time": "2023-01-30T20:01:07.971Z"
   },
   {
    "duration": 158,
    "start_time": "2023-01-30T20:01:07.977Z"
   },
   {
    "duration": 2,
    "start_time": "2023-01-30T20:01:08.137Z"
   },
   {
    "duration": 7,
    "start_time": "2023-01-30T20:01:08.140Z"
   },
   {
    "duration": 1951,
    "start_time": "2023-01-30T20:01:08.148Z"
   },
   {
    "duration": 10,
    "start_time": "2023-01-30T20:01:10.100Z"
   },
   {
    "duration": 6,
    "start_time": "2023-01-30T20:01:10.112Z"
   },
   {
    "duration": 137,
    "start_time": "2023-01-30T20:01:10.119Z"
   },
   {
    "duration": 10,
    "start_time": "2023-01-30T20:01:10.257Z"
   },
   {
    "duration": 7,
    "start_time": "2023-01-30T20:01:10.269Z"
   },
   {
    "duration": 7,
    "start_time": "2023-01-30T20:01:10.277Z"
   },
   {
    "duration": 35,
    "start_time": "2023-01-30T20:01:29.688Z"
   },
   {
    "duration": 28,
    "start_time": "2023-01-30T20:01:43.997Z"
   },
   {
    "duration": 81,
    "start_time": "2023-01-30T20:04:53.677Z"
   },
   {
    "duration": 1505,
    "start_time": "2023-01-30T20:44:05.778Z"
   },
   {
    "duration": 2985,
    "start_time": "2023-01-30T20:44:07.285Z"
   },
   {
    "duration": 7,
    "start_time": "2023-01-30T20:44:10.272Z"
   },
   {
    "duration": 13,
    "start_time": "2023-01-30T20:44:10.280Z"
   },
   {
    "duration": 30,
    "start_time": "2023-01-30T20:44:10.294Z"
   },
   {
    "duration": 148,
    "start_time": "2023-01-30T20:44:10.326Z"
   },
   {
    "duration": 26,
    "start_time": "2023-01-30T20:44:10.475Z"
   },
   {
    "duration": 112,
    "start_time": "2023-01-30T20:44:10.502Z"
   },
   {
    "duration": 9,
    "start_time": "2023-01-30T20:44:10.616Z"
   },
   {
    "duration": 21,
    "start_time": "2023-01-30T20:44:10.635Z"
   },
   {
    "duration": 32,
    "start_time": "2023-01-30T20:44:10.657Z"
   },
   {
    "duration": 13,
    "start_time": "2023-01-30T20:45:03.825Z"
   },
   {
    "duration": 9,
    "start_time": "2023-01-30T20:45:07.150Z"
   },
   {
    "duration": 8,
    "start_time": "2023-01-30T20:45:10.204Z"
   },
   {
    "duration": 18,
    "start_time": "2023-01-30T20:45:49.520Z"
   },
   {
    "duration": 33,
    "start_time": "2023-01-30T20:52:53.687Z"
   },
   {
    "duration": 31,
    "start_time": "2023-01-30T20:53:16.336Z"
   },
   {
    "duration": 1365,
    "start_time": "2023-01-30T20:54:57.075Z"
   },
   {
    "duration": 665,
    "start_time": "2023-01-30T20:54:58.443Z"
   },
   {
    "duration": 6,
    "start_time": "2023-01-30T20:54:59.110Z"
   },
   {
    "duration": 21,
    "start_time": "2023-01-30T20:54:59.118Z"
   },
   {
    "duration": 11,
    "start_time": "2023-01-30T20:54:59.141Z"
   },
   {
    "duration": 143,
    "start_time": "2023-01-30T20:54:59.154Z"
   },
   {
    "duration": 43,
    "start_time": "2023-01-30T20:54:59.299Z"
   },
   {
    "duration": 110,
    "start_time": "2023-01-30T20:54:59.344Z"
   },
   {
    "duration": 10,
    "start_time": "2023-01-30T20:54:59.456Z"
   },
   {
    "duration": 16,
    "start_time": "2023-01-30T20:54:59.467Z"
   },
   {
    "duration": 32,
    "start_time": "2023-01-30T20:54:59.484Z"
   },
   {
    "duration": 26,
    "start_time": "2023-01-30T20:54:59.518Z"
   },
   {
    "duration": 18,
    "start_time": "2023-01-30T20:54:59.547Z"
   },
   {
    "duration": 20,
    "start_time": "2023-01-30T20:54:59.568Z"
   },
   {
    "duration": 832,
    "start_time": "2023-01-30T20:54:59.590Z"
   },
   {
    "duration": 14,
    "start_time": "2023-01-30T20:55:00.424Z"
   },
   {
    "duration": 28,
    "start_time": "2023-01-30T20:55:00.440Z"
   },
   {
    "duration": 24,
    "start_time": "2023-01-30T20:55:00.470Z"
   },
   {
    "duration": 192,
    "start_time": "2023-01-30T20:55:00.495Z"
   },
   {
    "duration": 3,
    "start_time": "2023-01-30T20:55:00.689Z"
   },
   {
    "duration": 39,
    "start_time": "2023-01-30T20:55:00.694Z"
   },
   {
    "duration": 1778,
    "start_time": "2023-01-30T20:55:00.735Z"
   },
   {
    "duration": 243,
    "start_time": "2023-01-30T20:57:24.565Z"
   },
   {
    "duration": 7,
    "start_time": "2023-01-30T20:58:08.920Z"
   },
   {
    "duration": 288,
    "start_time": "2023-01-30T21:00:09.170Z"
   },
   {
    "duration": 716,
    "start_time": "2023-01-30T21:03:04.720Z"
   },
   {
    "duration": 593,
    "start_time": "2023-01-30T21:05:25.015Z"
   },
   {
    "duration": 17,
    "start_time": "2023-01-30T21:07:38.638Z"
   },
   {
    "duration": 108,
    "start_time": "2023-01-30T21:08:50.036Z"
   },
   {
    "duration": 59,
    "start_time": "2023-01-30T21:09:33.824Z"
   },
   {
    "duration": 40,
    "start_time": "2023-01-30T21:12:27.423Z"
   },
   {
    "duration": 511,
    "start_time": "2023-01-30T21:13:17.182Z"
   },
   {
    "duration": 15,
    "start_time": "2023-01-30T21:13:49.135Z"
   },
   {
    "duration": 48,
    "start_time": "2023-01-30T21:13:54.445Z"
   },
   {
    "duration": 409,
    "start_time": "2023-01-30T21:14:02.345Z"
   },
   {
    "duration": 18,
    "start_time": "2023-01-30T21:17:41.752Z"
   },
   {
    "duration": 398,
    "start_time": "2023-01-30T21:18:10.477Z"
   },
   {
    "duration": 34,
    "start_time": "2023-01-30T21:18:34.349Z"
   },
   {
    "duration": 18,
    "start_time": "2023-01-30T21:19:37.681Z"
   },
   {
    "duration": 45,
    "start_time": "2023-01-30T21:19:48.654Z"
   },
   {
    "duration": 19,
    "start_time": "2023-01-30T21:20:17.506Z"
   },
   {
    "duration": 6,
    "start_time": "2023-01-30T21:24:00.279Z"
   },
   {
    "duration": 570,
    "start_time": "2023-01-30T21:24:01.777Z"
   },
   {
    "duration": 33,
    "start_time": "2023-01-30T21:24:23.118Z"
   },
   {
    "duration": 19,
    "start_time": "2023-01-30T21:24:43.454Z"
   },
   {
    "duration": 10,
    "start_time": "2023-01-30T21:24:51.000Z"
   },
   {
    "duration": 20,
    "start_time": "2023-01-30T21:25:05.280Z"
   },
   {
    "duration": 18,
    "start_time": "2023-01-30T21:25:11.767Z"
   },
   {
    "duration": 22,
    "start_time": "2023-01-30T21:25:49.047Z"
   },
   {
    "duration": 93,
    "start_time": "2023-01-30T21:26:08.392Z"
   },
   {
    "duration": 18,
    "start_time": "2023-01-30T21:26:17.428Z"
   },
   {
    "duration": 16,
    "start_time": "2023-01-30T21:27:29.822Z"
   },
   {
    "duration": 20,
    "start_time": "2023-01-30T21:27:37.301Z"
   },
   {
    "duration": 33,
    "start_time": "2023-01-30T21:27:46.845Z"
   },
   {
    "duration": 8,
    "start_time": "2023-01-30T21:27:58.619Z"
   },
   {
    "duration": 7,
    "start_time": "2023-01-30T21:28:15.374Z"
   },
   {
    "duration": 10,
    "start_time": "2023-01-30T21:29:44.521Z"
   },
   {
    "duration": 7,
    "start_time": "2023-01-30T21:30:12.970Z"
   },
   {
    "duration": 771,
    "start_time": "2023-01-30T21:30:24.430Z"
   },
   {
    "duration": 20,
    "start_time": "2023-01-30T21:30:59.914Z"
   },
   {
    "duration": 13,
    "start_time": "2023-01-30T21:32:21.768Z"
   },
   {
    "duration": 20,
    "start_time": "2023-01-30T21:32:27.229Z"
   },
   {
    "duration": 11,
    "start_time": "2023-01-30T21:32:40.834Z"
   },
   {
    "duration": 21,
    "start_time": "2023-01-30T21:32:42.215Z"
   },
   {
    "duration": 5,
    "start_time": "2023-01-30T21:33:21.602Z"
   },
   {
    "duration": 9,
    "start_time": "2023-01-30T21:34:47.448Z"
   },
   {
    "duration": 7,
    "start_time": "2023-01-30T21:34:58.116Z"
   },
   {
    "duration": 711,
    "start_time": "2023-01-30T21:35:35.560Z"
   },
   {
    "duration": 6,
    "start_time": "2023-01-30T21:35:45.310Z"
   },
   {
    "duration": 15,
    "start_time": "2023-01-30T21:37:15.464Z"
   },
   {
    "duration": 4,
    "start_time": "2023-01-30T21:37:29.531Z"
   },
   {
    "duration": 1456,
    "start_time": "2023-01-30T21:38:06.463Z"
   },
   {
    "duration": 746,
    "start_time": "2023-01-30T21:38:07.921Z"
   },
   {
    "duration": 7,
    "start_time": "2023-01-30T21:38:08.668Z"
   },
   {
    "duration": 17,
    "start_time": "2023-01-30T21:38:08.677Z"
   },
   {
    "duration": 25,
    "start_time": "2023-01-30T21:38:08.697Z"
   },
   {
    "duration": 139,
    "start_time": "2023-01-30T21:38:08.724Z"
   },
   {
    "duration": 26,
    "start_time": "2023-01-30T21:38:08.865Z"
   },
   {
    "duration": 119,
    "start_time": "2023-01-30T21:38:08.892Z"
   },
   {
    "duration": 9,
    "start_time": "2023-01-30T21:38:09.013Z"
   },
   {
    "duration": 6,
    "start_time": "2023-01-30T21:38:09.036Z"
   },
   {
    "duration": 9,
    "start_time": "2023-01-30T21:38:09.044Z"
   },
   {
    "duration": 23,
    "start_time": "2023-01-30T21:38:09.054Z"
   },
   {
    "duration": 9,
    "start_time": "2023-01-30T21:38:09.078Z"
   },
   {
    "duration": 7,
    "start_time": "2023-01-30T21:38:09.088Z"
   },
   {
    "duration": 891,
    "start_time": "2023-01-30T21:38:09.097Z"
   },
   {
    "duration": 5,
    "start_time": "2023-01-30T21:38:09.990Z"
   },
   {
    "duration": 7,
    "start_time": "2023-01-30T21:38:09.997Z"
   },
   {
    "duration": 22,
    "start_time": "2023-01-30T21:38:10.006Z"
   },
   {
    "duration": 166,
    "start_time": "2023-01-30T21:38:10.030Z"
   },
   {
    "duration": 3,
    "start_time": "2023-01-30T21:38:10.198Z"
   },
   {
    "duration": 6,
    "start_time": "2023-01-30T21:38:10.203Z"
   },
   {
    "duration": 1733,
    "start_time": "2023-01-30T21:38:10.210Z"
   },
   {
    "duration": 5,
    "start_time": "2023-01-30T21:38:11.945Z"
   },
   {
    "duration": 585,
    "start_time": "2023-01-30T21:38:11.951Z"
   },
   {
    "duration": 113,
    "start_time": "2023-01-30T21:38:28.987Z"
   },
   {
    "duration": 4,
    "start_time": "2023-01-30T21:38:32.378Z"
   },
   {
    "duration": 9,
    "start_time": "2023-01-30T21:39:14.249Z"
   },
   {
    "duration": 13,
    "start_time": "2023-01-30T21:39:23.230Z"
   },
   {
    "duration": 11,
    "start_time": "2023-01-30T21:39:35.123Z"
   },
   {
    "duration": 8,
    "start_time": "2023-01-30T21:40:49.970Z"
   },
   {
    "duration": 5,
    "start_time": "2023-01-30T21:40:51.522Z"
   },
   {
    "duration": 6,
    "start_time": "2023-01-30T21:41:02.486Z"
   },
   {
    "duration": 733,
    "start_time": "2023-01-30T21:41:03.477Z"
   },
   {
    "duration": 13,
    "start_time": "2023-01-30T21:41:26.458Z"
   },
   {
    "duration": 1340,
    "start_time": "2023-01-30T21:42:10.071Z"
   },
   {
    "duration": 712,
    "start_time": "2023-01-30T21:42:11.414Z"
   },
   {
    "duration": 8,
    "start_time": "2023-01-30T21:42:12.128Z"
   },
   {
    "duration": 15,
    "start_time": "2023-01-30T21:42:12.138Z"
   },
   {
    "duration": 8,
    "start_time": "2023-01-30T21:42:12.155Z"
   },
   {
    "duration": 160,
    "start_time": "2023-01-30T21:42:12.166Z"
   },
   {
    "duration": 35,
    "start_time": "2023-01-30T21:42:12.328Z"
   },
   {
    "duration": 117,
    "start_time": "2023-01-30T21:42:12.365Z"
   },
   {
    "duration": 10,
    "start_time": "2023-01-30T21:42:12.484Z"
   },
   {
    "duration": 7,
    "start_time": "2023-01-30T21:42:12.496Z"
   },
   {
    "duration": 33,
    "start_time": "2023-01-30T21:42:12.505Z"
   },
   {
    "duration": 15,
    "start_time": "2023-01-30T21:42:12.539Z"
   },
   {
    "duration": 9,
    "start_time": "2023-01-30T21:42:12.556Z"
   },
   {
    "duration": 9,
    "start_time": "2023-01-30T21:42:12.569Z"
   },
   {
    "duration": 968,
    "start_time": "2023-01-30T21:42:12.580Z"
   },
   {
    "duration": 6,
    "start_time": "2023-01-30T21:42:13.550Z"
   },
   {
    "duration": 15,
    "start_time": "2023-01-30T21:42:13.558Z"
   },
   {
    "duration": 20,
    "start_time": "2023-01-30T21:42:13.575Z"
   },
   {
    "duration": 193,
    "start_time": "2023-01-30T21:42:13.597Z"
   },
   {
    "duration": 3,
    "start_time": "2023-01-30T21:42:13.792Z"
   },
   {
    "duration": 9,
    "start_time": "2023-01-30T21:42:13.797Z"
   },
   {
    "duration": 1847,
    "start_time": "2023-01-30T21:42:13.807Z"
   },
   {
    "duration": 7,
    "start_time": "2023-01-30T21:42:15.656Z"
   },
   {
    "duration": 609,
    "start_time": "2023-01-30T21:42:15.664Z"
   },
   {
    "duration": 4,
    "start_time": "2023-01-30T21:42:16.274Z"
   },
   {
    "duration": 24,
    "start_time": "2023-01-30T21:42:16.279Z"
   },
   {
    "duration": 9,
    "start_time": "2023-01-30T21:42:16.305Z"
   },
   {
    "duration": 23,
    "start_time": "2023-01-30T21:42:16.315Z"
   },
   {
    "duration": 7,
    "start_time": "2023-01-30T21:42:16.340Z"
   },
   {
    "duration": 738,
    "start_time": "2023-01-30T21:42:16.348Z"
   },
   {
    "duration": 51,
    "start_time": "2023-01-30T21:46:46.940Z"
   },
   {
    "duration": 5,
    "start_time": "2023-01-30T21:47:11.356Z"
   },
   {
    "duration": 23,
    "start_time": "2023-01-30T21:47:11.364Z"
   },
   {
    "duration": 21,
    "start_time": "2023-01-30T21:47:11.388Z"
   },
   {
    "duration": 27,
    "start_time": "2023-01-30T21:47:11.411Z"
   },
   {
    "duration": 36,
    "start_time": "2023-01-30T21:47:11.440Z"
   },
   {
    "duration": 16,
    "start_time": "2023-01-30T21:47:11.479Z"
   },
   {
    "duration": 26,
    "start_time": "2023-01-30T21:47:11.497Z"
   },
   {
    "duration": 19,
    "start_time": "2023-01-30T21:47:11.525Z"
   },
   {
    "duration": 1091,
    "start_time": "2023-01-30T21:47:11.546Z"
   },
   {
    "duration": 1201,
    "start_time": "2023-01-30T21:47:12.639Z"
   },
   {
    "duration": 97,
    "start_time": "2023-01-30T21:47:13.842Z"
   },
   {
    "duration": 95,
    "start_time": "2023-01-30T21:47:13.942Z"
   },
   {
    "duration": 3,
    "start_time": "2023-01-30T21:47:14.039Z"
   },
   {
    "duration": 9,
    "start_time": "2023-01-30T21:47:14.045Z"
   },
   {
    "duration": 721731,
    "start_time": "2023-01-30T21:59:04.637Z"
   },
   {
    "duration": 2,
    "start_time": "2023-01-30T22:11:06.370Z"
   },
   {
    "duration": 33,
    "start_time": "2023-01-30T22:11:06.374Z"
   },
   {
    "duration": 52,
    "start_time": "2023-01-30T22:11:06.409Z"
   },
   {
    "duration": 25,
    "start_time": "2023-01-30T22:11:06.462Z"
   },
   {
    "duration": 23,
    "start_time": "2023-01-30T22:11:06.489Z"
   },
   {
    "duration": 4,
    "start_time": "2023-01-30T22:11:06.514Z"
   },
   {
    "duration": 7,
    "start_time": "2023-01-30T22:11:06.519Z"
   },
   {
    "duration": 13,
    "start_time": "2023-01-30T22:11:06.527Z"
   },
   {
    "duration": 3,
    "start_time": "2023-01-30T22:11:06.542Z"
   },
   {
    "duration": 17,
    "start_time": "2023-01-30T22:11:06.547Z"
   },
   {
    "duration": 6,
    "start_time": "2023-01-30T22:11:06.566Z"
   },
   {
    "duration": 10,
    "start_time": "2023-01-30T22:11:06.574Z"
   },
   {
    "duration": 27,
    "start_time": "2023-01-30T22:11:06.585Z"
   }
  ],
  "kernelspec": {
   "display_name": "Python 3 (ipykernel)",
   "language": "python",
   "name": "python3"
  },
  "language_info": {
   "codemirror_mode": {
    "name": "ipython",
    "version": 3
   },
   "file_extension": ".py",
   "mimetype": "text/x-python",
   "name": "python",
   "nbconvert_exporter": "python",
   "pygments_lexer": "ipython3",
   "version": "3.9.12"
  },
  "toc": {
   "base_numbering": 1,
   "nav_menu": {},
   "number_sections": true,
   "sideBar": true,
   "skip_h1_title": true,
   "title_cell": "Содержание",
   "title_sidebar": "Contents",
   "toc_cell": true,
   "toc_position": {},
   "toc_section_display": true,
   "toc_window_display": true
  },
  "varInspector": {
   "cols": {
    "lenName": 16,
    "lenType": 16,
    "lenVar": 40
   },
   "kernels_config": {
    "python": {
     "delete_cmd_postfix": "",
     "delete_cmd_prefix": "del ",
     "library": "var_list.py",
     "varRefreshCmd": "print(var_dic_list())"
    },
    "r": {
     "delete_cmd_postfix": ") ",
     "delete_cmd_prefix": "rm(",
     "library": "var_list.r",
     "varRefreshCmd": "cat(var_dic_list()) "
    }
   },
   "types_to_exclude": [
    "module",
    "function",
    "builtin_function_or_method",
    "instance",
    "_Feature"
   ],
   "window_display": false
  }
 },
 "nbformat": 4,
 "nbformat_minor": 2
}
