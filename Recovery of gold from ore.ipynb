{
 "cells": [
  {
   "cell_type": "markdown",
   "metadata": {},
   "source": [
    "# Recovery of gold from ore"
   ]
  },
  {
   "cell_type": "markdown",
   "metadata": {},
   "source": [
    "The company develops solutions for the efficient operation of industrial enterprises. It is necessary to prepare a prototype of a machine learning model that will predict the recovery rate of gold from gold-bearing ore. We use data with extraction and purification parameters. The model will help optimize production so as not to launch an enterprise with unprofitable characteristics.\n",
    "\n",
    "Tasks:\n",
    "\n",
    "1. Prepare the data;\n",
    "2. Conduct a exploratory data analysis;\n",
    "3. Build and train a model.\n",
    "\n",
    "To solve the problem, we will introduce a new quality metric — sMAPE (Symmetrical Mean Absolute Percentage Error)\n",
    "\n",
    "$$sMAPE = \\frac{1}{N}\\sum_{i=1}^{N} \\frac{|y_i - \\bar{y_i}|}{|y_i + \\bar{y_i}| / 2}$$\n",
    "\n",
    "\\\\(y_i\\\\)-the value of the target attribute for the object with the ordinal number i in the sample on which the quality is measured.  \n",
    "\\\\(\\bar{y_i}\\\\)-the prediction value for an object with the ordinal number i, for example, in a test sample.  \n",
    "\\\\(N\\\\)-the number of objects in the sample."
   ]
  },
  {
   "cell_type": "markdown",
   "metadata": {},
   "source": [
    "## Loading libraris and data"
   ]
  },
  {
   "cell_type": "code",
   "execution_count": 1,
   "metadata": {},
   "outputs": [
    {
     "name": "stdout",
     "output_type": "stream",
     "text": [
      "Requirement already satisfied: catboost in /opt/anaconda3/lib/python3.9/site-packages (1.2)\n",
      "Requirement already satisfied: plotly in /opt/anaconda3/lib/python3.9/site-packages (from catboost) (5.6.0)\n",
      "Requirement already satisfied: scipy in /opt/anaconda3/lib/python3.9/site-packages (from catboost) (1.7.3)\n",
      "Requirement already satisfied: numpy>=1.16.0 in /opt/anaconda3/lib/python3.9/site-packages (from catboost) (1.21.5)\n",
      "Requirement already satisfied: matplotlib in /opt/anaconda3/lib/python3.9/site-packages (from catboost) (3.5.1)\n",
      "Requirement already satisfied: graphviz in /opt/anaconda3/lib/python3.9/site-packages (from catboost) (0.20.1)\n",
      "Requirement already satisfied: six in /opt/anaconda3/lib/python3.9/site-packages (from catboost) (1.16.0)\n",
      "Requirement already satisfied: pandas>=0.24 in /opt/anaconda3/lib/python3.9/site-packages (from catboost) (1.4.2)\n",
      "Requirement already satisfied: python-dateutil>=2.8.1 in /opt/anaconda3/lib/python3.9/site-packages (from pandas>=0.24->catboost) (2.8.2)\n",
      "Requirement already satisfied: pytz>=2020.1 in /opt/anaconda3/lib/python3.9/site-packages (from pandas>=0.24->catboost) (2021.3)\n",
      "Requirement already satisfied: cycler>=0.10 in /opt/anaconda3/lib/python3.9/site-packages (from matplotlib->catboost) (0.11.0)\n",
      "Requirement already satisfied: packaging>=20.0 in /opt/anaconda3/lib/python3.9/site-packages (from matplotlib->catboost) (21.3)\n",
      "Requirement already satisfied: fonttools>=4.22.0 in /opt/anaconda3/lib/python3.9/site-packages (from matplotlib->catboost) (4.25.0)\n",
      "Requirement already satisfied: kiwisolver>=1.0.1 in /opt/anaconda3/lib/python3.9/site-packages (from matplotlib->catboost) (1.4.2)\n",
      "Requirement already satisfied: pillow>=6.2.0 in /opt/anaconda3/lib/python3.9/site-packages (from matplotlib->catboost) (9.0.1)\n",
      "Requirement already satisfied: pyparsing>=2.2.1 in /opt/anaconda3/lib/python3.9/site-packages (from matplotlib->catboost) (3.0.4)\n",
      "Requirement already satisfied: tenacity>=6.2.0 in /opt/anaconda3/lib/python3.9/site-packages (from plotly->catboost) (8.0.1)\n"
     ]
    }
   ],
   "source": [
    "!pip install catboost"
   ]
  },
  {
   "cell_type": "code",
   "execution_count": 2,
   "metadata": {},
   "outputs": [],
   "source": [
    "import pandas as pd\n",
    "import numpy as np\n",
    "import matplotlib.pyplot as plt\n",
    "import seaborn as sns\n",
    "\n",
    "from sklearn.model_selection import train_test_split, GridSearchCV\n",
    "from sklearn.preprocessing import StandardScaler\n",
    "from sklearn.pipeline import Pipeline\n",
    "from sklearn.metrics import mean_absolute_error, make_scorer\n",
    "\n",
    "from sklearn.linear_model import Ridge\n",
    "from sklearn.ensemble import RandomForestRegressor\n",
    "from catboost import CatBoostRegressor\n",
    "\n",
    "plt.style.use('dark_background')\n",
    "RANDOM_STATE = 42"
   ]
  },
  {
   "cell_type": "code",
   "execution_count": 3,
   "metadata": {},
   "outputs": [],
   "source": [
    "df_train = pd.read_csv('https://code.s3.yandex.net/datasets/gold_recovery_train_new.csv')\n",
    "df_test = pd.read_csv('https://code.s3.yandex.net/datasets/gold_recovery_test_new.csv')\n",
    "df_full = pd.read_csv('https://code.s3.yandex.net/datasets/gold_recovery_full_new.csv')"
   ]
  },
  {
   "cell_type": "markdown",
   "metadata": {},
   "source": [
    "## Data preparation"
   ]
  },
  {
   "cell_type": "markdown",
   "metadata": {},
   "source": [
    "Let's check the correctness of the calculation of rougher.output.recovery"
   ]
  },
  {
   "cell_type": "code",
   "execution_count": 4,
   "metadata": {},
   "outputs": [],
   "source": [
    "check_recovery = (df_train['rougher.output.concentrate_au'] * (df_train['rougher.input.feed_au'] - df_train['rougher.output.tail_au'])\\\n",
    "/ (df_train['rougher.input.feed_au'] * (df_train['rougher.output.concentrate_au'] - df_train['rougher.output.tail_au'])))\\\n",
    "* 100"
   ]
  },
  {
   "cell_type": "code",
   "execution_count": 5,
   "metadata": {},
   "outputs": [
    {
     "data": {
      "text/plain": [
       "9.73512347450521e-15"
      ]
     },
     "execution_count": 5,
     "metadata": {},
     "output_type": "execute_result"
    }
   ],
   "source": [
    "mean_absolute_error(df_train['rougher.output.recovery'], check_recovery)"
   ]
  },
  {
   "cell_type": "markdown",
   "metadata": {},
   "source": [
    "MAE tends to zero, we can conclude that **recovery** is calculated correctly. Let's check the features that aren't available in the test sample."
   ]
  },
  {
   "cell_type": "code",
   "execution_count": 6,
   "metadata": {},
   "outputs": [
    {
     "data": {
      "text/plain": [
       "{'final.output.concentrate_ag',\n",
       " 'final.output.concentrate_au',\n",
       " 'final.output.concentrate_pb',\n",
       " 'final.output.concentrate_sol',\n",
       " 'final.output.recovery',\n",
       " 'final.output.tail_ag',\n",
       " 'final.output.tail_au',\n",
       " 'final.output.tail_pb',\n",
       " 'final.output.tail_sol',\n",
       " 'primary_cleaner.output.concentrate_ag',\n",
       " 'primary_cleaner.output.concentrate_au',\n",
       " 'primary_cleaner.output.concentrate_pb',\n",
       " 'primary_cleaner.output.concentrate_sol',\n",
       " 'primary_cleaner.output.tail_ag',\n",
       " 'primary_cleaner.output.tail_au',\n",
       " 'primary_cleaner.output.tail_pb',\n",
       " 'primary_cleaner.output.tail_sol',\n",
       " 'rougher.calculation.au_pb_ratio',\n",
       " 'rougher.calculation.floatbank10_sulfate_to_au_feed',\n",
       " 'rougher.calculation.floatbank11_sulfate_to_au_feed',\n",
       " 'rougher.calculation.sulfate_to_au_concentrate',\n",
       " 'rougher.output.concentrate_ag',\n",
       " 'rougher.output.concentrate_au',\n",
       " 'rougher.output.concentrate_pb',\n",
       " 'rougher.output.concentrate_sol',\n",
       " 'rougher.output.recovery',\n",
       " 'rougher.output.tail_ag',\n",
       " 'rougher.output.tail_au',\n",
       " 'rougher.output.tail_pb',\n",
       " 'rougher.output.tail_sol',\n",
       " 'secondary_cleaner.output.tail_ag',\n",
       " 'secondary_cleaner.output.tail_au',\n",
       " 'secondary_cleaner.output.tail_pb',\n",
       " 'secondary_cleaner.output.tail_sol'}"
      ]
     },
     "execution_count": 6,
     "metadata": {},
     "output_type": "execute_result"
    }
   ],
   "source": [
    "set(df_train.columns)-set(df_test.columns)"
   ]
  },
  {
   "cell_type": "markdown",
   "metadata": {},
   "source": [
    "In the test sample, output data is not available at different stages, which is logical, because we need to predict the characteristics before starting production so that it is not unprofitable."
   ]
  },
  {
   "cell_type": "markdown",
   "metadata": {},
   "source": [
    "### Checking duplicates"
   ]
  },
  {
   "cell_type": "code",
   "execution_count": 7,
   "metadata": {
    "scrolled": true
   },
   "outputs": [
    {
     "data": {
      "text/plain": [
       "(0, 0, 0)"
      ]
     },
     "execution_count": 7,
     "metadata": {},
     "output_type": "execute_result"
    }
   ],
   "source": [
    "df_train.duplicated().sum(), df_test.duplicated().sum(), df_full.duplicated().sum()"
   ]
  },
  {
   "cell_type": "markdown",
   "metadata": {},
   "source": [
    "### Checking missing values"
   ]
  },
  {
   "cell_type": "code",
   "execution_count": 8,
   "metadata": {
    "scrolled": true
   },
   "outputs": [
    {
     "data": {
      "text/plain": [
       "date                                            0\n",
       "final.output.concentrate_ag                     1\n",
       "final.output.concentrate_pb                     1\n",
       "final.output.concentrate_sol                  211\n",
       "final.output.concentrate_au                     0\n",
       "                                             ... \n",
       "secondary_cleaner.state.floatbank5_a_level      1\n",
       "secondary_cleaner.state.floatbank5_b_air        1\n",
       "secondary_cleaner.state.floatbank5_b_level      1\n",
       "secondary_cleaner.state.floatbank6_a_air        2\n",
       "secondary_cleaner.state.floatbank6_a_level      1\n",
       "Length: 87, dtype: int64"
      ]
     },
     "execution_count": 8,
     "metadata": {},
     "output_type": "execute_result"
    }
   ],
   "source": [
    "df_train.isna().sum()"
   ]
  },
  {
   "cell_type": "code",
   "execution_count": 9,
   "metadata": {
    "scrolled": true
   },
   "outputs": [
    {
     "data": {
      "text/plain": [
       "date                                           0\n",
       "primary_cleaner.input.sulfate                  4\n",
       "primary_cleaner.input.depressant               5\n",
       "primary_cleaner.input.feed_size                0\n",
       "primary_cleaner.input.xanthate                 4\n",
       "primary_cleaner.state.floatbank8_a_air         0\n",
       "primary_cleaner.state.floatbank8_a_level       0\n",
       "primary_cleaner.state.floatbank8_b_air         0\n",
       "primary_cleaner.state.floatbank8_b_level       0\n",
       "primary_cleaner.state.floatbank8_c_air         0\n",
       "primary_cleaner.state.floatbank8_c_level       0\n",
       "primary_cleaner.state.floatbank8_d_air         0\n",
       "primary_cleaner.state.floatbank8_d_level       0\n",
       "rougher.input.feed_ag                          0\n",
       "rougher.input.feed_pb                          0\n",
       "rougher.input.feed_rate                        3\n",
       "rougher.input.feed_size                        1\n",
       "rougher.input.feed_sol                        21\n",
       "rougher.input.feed_au                          0\n",
       "rougher.input.floatbank10_sulfate              5\n",
       "rougher.input.floatbank10_xanthate             0\n",
       "rougher.input.floatbank11_sulfate              8\n",
       "rougher.input.floatbank11_xanthate            25\n",
       "rougher.state.floatbank10_a_air                0\n",
       "rougher.state.floatbank10_a_level              0\n",
       "rougher.state.floatbank10_b_air                0\n",
       "rougher.state.floatbank10_b_level              0\n",
       "rougher.state.floatbank10_c_air                0\n",
       "rougher.state.floatbank10_c_level              0\n",
       "rougher.state.floatbank10_d_air                0\n",
       "rougher.state.floatbank10_d_level              0\n",
       "rougher.state.floatbank10_e_air                0\n",
       "rougher.state.floatbank10_e_level              0\n",
       "rougher.state.floatbank10_f_air                0\n",
       "rougher.state.floatbank10_f_level              0\n",
       "secondary_cleaner.state.floatbank2_a_air       3\n",
       "secondary_cleaner.state.floatbank2_a_level     0\n",
       "secondary_cleaner.state.floatbank2_b_air       2\n",
       "secondary_cleaner.state.floatbank2_b_level     0\n",
       "secondary_cleaner.state.floatbank3_a_air       9\n",
       "secondary_cleaner.state.floatbank3_a_level     0\n",
       "secondary_cleaner.state.floatbank3_b_air       0\n",
       "secondary_cleaner.state.floatbank3_b_level     0\n",
       "secondary_cleaner.state.floatbank4_a_air       0\n",
       "secondary_cleaner.state.floatbank4_a_level     0\n",
       "secondary_cleaner.state.floatbank4_b_air       0\n",
       "secondary_cleaner.state.floatbank4_b_level     0\n",
       "secondary_cleaner.state.floatbank5_a_air       0\n",
       "secondary_cleaner.state.floatbank5_a_level     0\n",
       "secondary_cleaner.state.floatbank5_b_air       0\n",
       "secondary_cleaner.state.floatbank5_b_level     0\n",
       "secondary_cleaner.state.floatbank6_a_air       0\n",
       "secondary_cleaner.state.floatbank6_a_level     0\n",
       "dtype: int64"
      ]
     },
     "execution_count": 9,
     "metadata": {},
     "output_type": "execute_result"
    }
   ],
   "source": [
    "df_test.isna().sum()"
   ]
  },
  {
   "cell_type": "code",
   "execution_count": 10,
   "metadata": {
    "scrolled": true
   },
   "outputs": [
    {
     "data": {
      "text/plain": [
       "date                                            0\n",
       "final.output.concentrate_ag                     1\n",
       "final.output.concentrate_pb                     1\n",
       "final.output.concentrate_sol                  211\n",
       "final.output.concentrate_au                     0\n",
       "                                             ... \n",
       "secondary_cleaner.state.floatbank5_a_level      1\n",
       "secondary_cleaner.state.floatbank5_b_air        1\n",
       "secondary_cleaner.state.floatbank5_b_level      1\n",
       "secondary_cleaner.state.floatbank6_a_air        2\n",
       "secondary_cleaner.state.floatbank6_a_level      1\n",
       "Length: 87, dtype: int64"
      ]
     },
     "execution_count": 10,
     "metadata": {},
     "output_type": "execute_result"
    }
   ],
   "source": [
    "df_full.isna().sum()"
   ]
  },
  {
   "cell_type": "markdown",
   "metadata": {},
   "source": [
    "We found a lot of omissions in various signs, but since the neighboring parameters are often similar in time, we will fill in the omissions with the method *ffil*."
   ]
  },
  {
   "cell_type": "code",
   "execution_count": 11,
   "metadata": {
    "scrolled": false
   },
   "outputs": [],
   "source": [
    "df_train = df_train.ffill()\n",
    "df_test = df_test.ffill()"
   ]
  },
  {
   "cell_type": "code",
   "execution_count": 12,
   "metadata": {
    "scrolled": true
   },
   "outputs": [
    {
     "data": {
      "text/plain": [
       "date                                          0\n",
       "final.output.concentrate_ag                   0\n",
       "final.output.concentrate_pb                   0\n",
       "final.output.concentrate_sol                  0\n",
       "final.output.concentrate_au                   0\n",
       "                                             ..\n",
       "secondary_cleaner.state.floatbank5_a_level    0\n",
       "secondary_cleaner.state.floatbank5_b_air      0\n",
       "secondary_cleaner.state.floatbank5_b_level    0\n",
       "secondary_cleaner.state.floatbank6_a_air      0\n",
       "secondary_cleaner.state.floatbank6_a_level    0\n",
       "Length: 87, dtype: int64"
      ]
     },
     "execution_count": 12,
     "metadata": {},
     "output_type": "execute_result"
    }
   ],
   "source": [
    "df_train.isna().sum()"
   ]
  },
  {
   "cell_type": "code",
   "execution_count": 13,
   "metadata": {
    "scrolled": true
   },
   "outputs": [
    {
     "data": {
      "text/plain": [
       "date                                          0\n",
       "primary_cleaner.input.sulfate                 0\n",
       "primary_cleaner.input.depressant              0\n",
       "primary_cleaner.input.feed_size               0\n",
       "primary_cleaner.input.xanthate                0\n",
       "primary_cleaner.state.floatbank8_a_air        0\n",
       "primary_cleaner.state.floatbank8_a_level      0\n",
       "primary_cleaner.state.floatbank8_b_air        0\n",
       "primary_cleaner.state.floatbank8_b_level      0\n",
       "primary_cleaner.state.floatbank8_c_air        0\n",
       "primary_cleaner.state.floatbank8_c_level      0\n",
       "primary_cleaner.state.floatbank8_d_air        0\n",
       "primary_cleaner.state.floatbank8_d_level      0\n",
       "rougher.input.feed_ag                         0\n",
       "rougher.input.feed_pb                         0\n",
       "rougher.input.feed_rate                       0\n",
       "rougher.input.feed_size                       0\n",
       "rougher.input.feed_sol                        0\n",
       "rougher.input.feed_au                         0\n",
       "rougher.input.floatbank10_sulfate             0\n",
       "rougher.input.floatbank10_xanthate            0\n",
       "rougher.input.floatbank11_sulfate             0\n",
       "rougher.input.floatbank11_xanthate            0\n",
       "rougher.state.floatbank10_a_air               0\n",
       "rougher.state.floatbank10_a_level             0\n",
       "rougher.state.floatbank10_b_air               0\n",
       "rougher.state.floatbank10_b_level             0\n",
       "rougher.state.floatbank10_c_air               0\n",
       "rougher.state.floatbank10_c_level             0\n",
       "rougher.state.floatbank10_d_air               0\n",
       "rougher.state.floatbank10_d_level             0\n",
       "rougher.state.floatbank10_e_air               0\n",
       "rougher.state.floatbank10_e_level             0\n",
       "rougher.state.floatbank10_f_air               0\n",
       "rougher.state.floatbank10_f_level             0\n",
       "secondary_cleaner.state.floatbank2_a_air      0\n",
       "secondary_cleaner.state.floatbank2_a_level    0\n",
       "secondary_cleaner.state.floatbank2_b_air      0\n",
       "secondary_cleaner.state.floatbank2_b_level    0\n",
       "secondary_cleaner.state.floatbank3_a_air      0\n",
       "secondary_cleaner.state.floatbank3_a_level    0\n",
       "secondary_cleaner.state.floatbank3_b_air      0\n",
       "secondary_cleaner.state.floatbank3_b_level    0\n",
       "secondary_cleaner.state.floatbank4_a_air      0\n",
       "secondary_cleaner.state.floatbank4_a_level    0\n",
       "secondary_cleaner.state.floatbank4_b_air      0\n",
       "secondary_cleaner.state.floatbank4_b_level    0\n",
       "secondary_cleaner.state.floatbank5_a_air      0\n",
       "secondary_cleaner.state.floatbank5_a_level    0\n",
       "secondary_cleaner.state.floatbank5_b_air      0\n",
       "secondary_cleaner.state.floatbank5_b_level    0\n",
       "secondary_cleaner.state.floatbank6_a_air      0\n",
       "secondary_cleaner.state.floatbank6_a_level    0\n",
       "dtype: int64"
      ]
     },
     "execution_count": 13,
     "metadata": {},
     "output_type": "execute_result"
    }
   ],
   "source": [
    "df_test.isna().sum()"
   ]
  },
  {
   "cell_type": "code",
   "execution_count": 14,
   "metadata": {},
   "outputs": [
    {
     "name": "stdout",
     "output_type": "stream",
     "text": [
      "<class 'pandas.core.frame.DataFrame'>\n",
      "RangeIndex: 5290 entries, 0 to 5289\n",
      "Data columns (total 53 columns):\n",
      " #   Column                                      Non-Null Count  Dtype  \n",
      "---  ------                                      --------------  -----  \n",
      " 0   date                                        5290 non-null   object \n",
      " 1   primary_cleaner.input.sulfate               5290 non-null   float64\n",
      " 2   primary_cleaner.input.depressant            5290 non-null   float64\n",
      " 3   primary_cleaner.input.feed_size             5290 non-null   float64\n",
      " 4   primary_cleaner.input.xanthate              5290 non-null   float64\n",
      " 5   primary_cleaner.state.floatbank8_a_air      5290 non-null   float64\n",
      " 6   primary_cleaner.state.floatbank8_a_level    5290 non-null   float64\n",
      " 7   primary_cleaner.state.floatbank8_b_air      5290 non-null   float64\n",
      " 8   primary_cleaner.state.floatbank8_b_level    5290 non-null   float64\n",
      " 9   primary_cleaner.state.floatbank8_c_air      5290 non-null   float64\n",
      " 10  primary_cleaner.state.floatbank8_c_level    5290 non-null   float64\n",
      " 11  primary_cleaner.state.floatbank8_d_air      5290 non-null   float64\n",
      " 12  primary_cleaner.state.floatbank8_d_level    5290 non-null   float64\n",
      " 13  rougher.input.feed_ag                       5290 non-null   float64\n",
      " 14  rougher.input.feed_pb                       5290 non-null   float64\n",
      " 15  rougher.input.feed_rate                     5290 non-null   float64\n",
      " 16  rougher.input.feed_size                     5290 non-null   float64\n",
      " 17  rougher.input.feed_sol                      5290 non-null   float64\n",
      " 18  rougher.input.feed_au                       5290 non-null   float64\n",
      " 19  rougher.input.floatbank10_sulfate           5290 non-null   float64\n",
      " 20  rougher.input.floatbank10_xanthate          5290 non-null   float64\n",
      " 21  rougher.input.floatbank11_sulfate           5290 non-null   float64\n",
      " 22  rougher.input.floatbank11_xanthate          5290 non-null   float64\n",
      " 23  rougher.state.floatbank10_a_air             5290 non-null   float64\n",
      " 24  rougher.state.floatbank10_a_level           5290 non-null   float64\n",
      " 25  rougher.state.floatbank10_b_air             5290 non-null   float64\n",
      " 26  rougher.state.floatbank10_b_level           5290 non-null   float64\n",
      " 27  rougher.state.floatbank10_c_air             5290 non-null   float64\n",
      " 28  rougher.state.floatbank10_c_level           5290 non-null   float64\n",
      " 29  rougher.state.floatbank10_d_air             5290 non-null   float64\n",
      " 30  rougher.state.floatbank10_d_level           5290 non-null   float64\n",
      " 31  rougher.state.floatbank10_e_air             5290 non-null   float64\n",
      " 32  rougher.state.floatbank10_e_level           5290 non-null   float64\n",
      " 33  rougher.state.floatbank10_f_air             5290 non-null   float64\n",
      " 34  rougher.state.floatbank10_f_level           5290 non-null   float64\n",
      " 35  secondary_cleaner.state.floatbank2_a_air    5290 non-null   float64\n",
      " 36  secondary_cleaner.state.floatbank2_a_level  5290 non-null   float64\n",
      " 37  secondary_cleaner.state.floatbank2_b_air    5290 non-null   float64\n",
      " 38  secondary_cleaner.state.floatbank2_b_level  5290 non-null   float64\n",
      " 39  secondary_cleaner.state.floatbank3_a_air    5290 non-null   float64\n",
      " 40  secondary_cleaner.state.floatbank3_a_level  5290 non-null   float64\n",
      " 41  secondary_cleaner.state.floatbank3_b_air    5290 non-null   float64\n",
      " 42  secondary_cleaner.state.floatbank3_b_level  5290 non-null   float64\n",
      " 43  secondary_cleaner.state.floatbank4_a_air    5290 non-null   float64\n",
      " 44  secondary_cleaner.state.floatbank4_a_level  5290 non-null   float64\n",
      " 45  secondary_cleaner.state.floatbank4_b_air    5290 non-null   float64\n",
      " 46  secondary_cleaner.state.floatbank4_b_level  5290 non-null   float64\n",
      " 47  secondary_cleaner.state.floatbank5_a_air    5290 non-null   float64\n",
      " 48  secondary_cleaner.state.floatbank5_a_level  5290 non-null   float64\n",
      " 49  secondary_cleaner.state.floatbank5_b_air    5290 non-null   float64\n",
      " 50  secondary_cleaner.state.floatbank5_b_level  5290 non-null   float64\n",
      " 51  secondary_cleaner.state.floatbank6_a_air    5290 non-null   float64\n",
      " 52  secondary_cleaner.state.floatbank6_a_level  5290 non-null   float64\n",
      "dtypes: float64(52), object(1)\n",
      "memory usage: 2.1+ MB\n"
     ]
    }
   ],
   "source": [
    "df_test.info()"
   ]
  },
  {
   "cell_type": "code",
   "execution_count": 15,
   "metadata": {
    "scrolled": true
   },
   "outputs": [
    {
     "name": "stdout",
     "output_type": "stream",
     "text": [
      "<class 'pandas.core.frame.DataFrame'>\n",
      "RangeIndex: 14149 entries, 0 to 14148\n",
      "Data columns (total 87 columns):\n",
      " #   Column                                              Non-Null Count  Dtype  \n",
      "---  ------                                              --------------  -----  \n",
      " 0   date                                                14149 non-null  object \n",
      " 1   final.output.concentrate_ag                         14149 non-null  float64\n",
      " 2   final.output.concentrate_pb                         14149 non-null  float64\n",
      " 3   final.output.concentrate_sol                        14149 non-null  float64\n",
      " 4   final.output.concentrate_au                         14149 non-null  float64\n",
      " 5   final.output.recovery                               14149 non-null  float64\n",
      " 6   final.output.tail_ag                                14149 non-null  float64\n",
      " 7   final.output.tail_pb                                14149 non-null  float64\n",
      " 8   final.output.tail_sol                               14149 non-null  float64\n",
      " 9   final.output.tail_au                                14149 non-null  float64\n",
      " 10  primary_cleaner.input.sulfate                       14149 non-null  float64\n",
      " 11  primary_cleaner.input.depressant                    14149 non-null  float64\n",
      " 12  primary_cleaner.input.feed_size                     14149 non-null  float64\n",
      " 13  primary_cleaner.input.xanthate                      14149 non-null  float64\n",
      " 14  primary_cleaner.output.concentrate_ag               14149 non-null  float64\n",
      " 15  primary_cleaner.output.concentrate_pb               14149 non-null  float64\n",
      " 16  primary_cleaner.output.concentrate_sol              14149 non-null  float64\n",
      " 17  primary_cleaner.output.concentrate_au               14149 non-null  float64\n",
      " 18  primary_cleaner.output.tail_ag                      14149 non-null  float64\n",
      " 19  primary_cleaner.output.tail_pb                      14149 non-null  float64\n",
      " 20  primary_cleaner.output.tail_sol                     14149 non-null  float64\n",
      " 21  primary_cleaner.output.tail_au                      14149 non-null  float64\n",
      " 22  primary_cleaner.state.floatbank8_a_air              14149 non-null  float64\n",
      " 23  primary_cleaner.state.floatbank8_a_level            14149 non-null  float64\n",
      " 24  primary_cleaner.state.floatbank8_b_air              14149 non-null  float64\n",
      " 25  primary_cleaner.state.floatbank8_b_level            14149 non-null  float64\n",
      " 26  primary_cleaner.state.floatbank8_c_air              14149 non-null  float64\n",
      " 27  primary_cleaner.state.floatbank8_c_level            14149 non-null  float64\n",
      " 28  primary_cleaner.state.floatbank8_d_air              14149 non-null  float64\n",
      " 29  primary_cleaner.state.floatbank8_d_level            14149 non-null  float64\n",
      " 30  rougher.calculation.sulfate_to_au_concentrate       14149 non-null  float64\n",
      " 31  rougher.calculation.floatbank10_sulfate_to_au_feed  14149 non-null  float64\n",
      " 32  rougher.calculation.floatbank11_sulfate_to_au_feed  14149 non-null  float64\n",
      " 33  rougher.calculation.au_pb_ratio                     14149 non-null  float64\n",
      " 34  rougher.input.feed_ag                               14149 non-null  float64\n",
      " 35  rougher.input.feed_pb                               14149 non-null  float64\n",
      " 36  rougher.input.feed_rate                             14149 non-null  float64\n",
      " 37  rougher.input.feed_size                             14149 non-null  float64\n",
      " 38  rougher.input.feed_sol                              14149 non-null  float64\n",
      " 39  rougher.input.feed_au                               14149 non-null  float64\n",
      " 40  rougher.input.floatbank10_sulfate                   14149 non-null  float64\n",
      " 41  rougher.input.floatbank10_xanthate                  14149 non-null  float64\n",
      " 42  rougher.input.floatbank11_sulfate                   14149 non-null  float64\n",
      " 43  rougher.input.floatbank11_xanthate                  14149 non-null  float64\n",
      " 44  rougher.output.concentrate_ag                       14149 non-null  float64\n",
      " 45  rougher.output.concentrate_pb                       14149 non-null  float64\n",
      " 46  rougher.output.concentrate_sol                      14149 non-null  float64\n",
      " 47  rougher.output.concentrate_au                       14149 non-null  float64\n",
      " 48  rougher.output.recovery                             14149 non-null  float64\n",
      " 49  rougher.output.tail_ag                              14149 non-null  float64\n",
      " 50  rougher.output.tail_pb                              14149 non-null  float64\n",
      " 51  rougher.output.tail_sol                             14149 non-null  float64\n",
      " 52  rougher.output.tail_au                              14149 non-null  float64\n",
      " 53  rougher.state.floatbank10_a_air                     14149 non-null  float64\n",
      " 54  rougher.state.floatbank10_a_level                   14149 non-null  float64\n",
      " 55  rougher.state.floatbank10_b_air                     14149 non-null  float64\n",
      " 56  rougher.state.floatbank10_b_level                   14149 non-null  float64\n",
      " 57  rougher.state.floatbank10_c_air                     14149 non-null  float64\n",
      " 58  rougher.state.floatbank10_c_level                   14149 non-null  float64\n",
      " 59  rougher.state.floatbank10_d_air                     14149 non-null  float64\n",
      " 60  rougher.state.floatbank10_d_level                   14149 non-null  float64\n",
      " 61  rougher.state.floatbank10_e_air                     14149 non-null  float64\n",
      " 62  rougher.state.floatbank10_e_level                   14149 non-null  float64\n",
      " 63  rougher.state.floatbank10_f_air                     14149 non-null  float64\n",
      " 64  rougher.state.floatbank10_f_level                   14149 non-null  float64\n",
      " 65  secondary_cleaner.output.tail_ag                    14149 non-null  float64\n",
      " 66  secondary_cleaner.output.tail_pb                    14149 non-null  float64\n",
      " 67  secondary_cleaner.output.tail_sol                   14149 non-null  float64\n",
      " 68  secondary_cleaner.output.tail_au                    14149 non-null  float64\n",
      " 69  secondary_cleaner.state.floatbank2_a_air            14149 non-null  float64\n",
      " 70  secondary_cleaner.state.floatbank2_a_level          14149 non-null  float64\n",
      " 71  secondary_cleaner.state.floatbank2_b_air            14149 non-null  float64\n",
      " 72  secondary_cleaner.state.floatbank2_b_level          14149 non-null  float64\n",
      " 73  secondary_cleaner.state.floatbank3_a_air            14149 non-null  float64\n",
      " 74  secondary_cleaner.state.floatbank3_a_level          14149 non-null  float64\n",
      " 75  secondary_cleaner.state.floatbank3_b_air            14149 non-null  float64\n",
      " 76  secondary_cleaner.state.floatbank3_b_level          14149 non-null  float64\n",
      " 77  secondary_cleaner.state.floatbank4_a_air            14149 non-null  float64\n",
      " 78  secondary_cleaner.state.floatbank4_a_level          14149 non-null  float64\n",
      " 79  secondary_cleaner.state.floatbank4_b_air            14149 non-null  float64\n",
      " 80  secondary_cleaner.state.floatbank4_b_level          14149 non-null  float64\n",
      " 81  secondary_cleaner.state.floatbank5_a_air            14149 non-null  float64\n",
      " 82  secondary_cleaner.state.floatbank5_a_level          14149 non-null  float64\n",
      " 83  secondary_cleaner.state.floatbank5_b_air            14149 non-null  float64\n",
      " 84  secondary_cleaner.state.floatbank5_b_level          14149 non-null  float64\n",
      " 85  secondary_cleaner.state.floatbank6_a_air            14149 non-null  float64\n",
      " 86  secondary_cleaner.state.floatbank6_a_level          14149 non-null  float64\n",
      "dtypes: float64(86), object(1)\n",
      "memory usage: 9.4+ MB\n"
     ]
    }
   ],
   "source": [
    "df_train.info()"
   ]
  },
  {
   "cell_type": "code",
   "execution_count": 16,
   "metadata": {},
   "outputs": [
    {
     "data": {
      "text/html": [
       "<div>\n",
       "<style scoped>\n",
       "    .dataframe tbody tr th:only-of-type {\n",
       "        vertical-align: middle;\n",
       "    }\n",
       "\n",
       "    .dataframe tbody tr th {\n",
       "        vertical-align: top;\n",
       "    }\n",
       "\n",
       "    .dataframe thead th {\n",
       "        text-align: right;\n",
       "    }\n",
       "</style>\n",
       "<table border=\"1\" class=\"dataframe\">\n",
       "  <thead>\n",
       "    <tr style=\"text-align: right;\">\n",
       "      <th></th>\n",
       "      <th>primary_cleaner.input.sulfate</th>\n",
       "      <th>primary_cleaner.input.depressant</th>\n",
       "      <th>primary_cleaner.input.feed_size</th>\n",
       "      <th>primary_cleaner.input.xanthate</th>\n",
       "      <th>primary_cleaner.state.floatbank8_a_air</th>\n",
       "      <th>primary_cleaner.state.floatbank8_a_level</th>\n",
       "      <th>primary_cleaner.state.floatbank8_b_air</th>\n",
       "      <th>primary_cleaner.state.floatbank8_b_level</th>\n",
       "      <th>primary_cleaner.state.floatbank8_c_air</th>\n",
       "      <th>primary_cleaner.state.floatbank8_c_level</th>\n",
       "      <th>...</th>\n",
       "      <th>secondary_cleaner.state.floatbank4_a_air</th>\n",
       "      <th>secondary_cleaner.state.floatbank4_a_level</th>\n",
       "      <th>secondary_cleaner.state.floatbank4_b_air</th>\n",
       "      <th>secondary_cleaner.state.floatbank4_b_level</th>\n",
       "      <th>secondary_cleaner.state.floatbank5_a_air</th>\n",
       "      <th>secondary_cleaner.state.floatbank5_a_level</th>\n",
       "      <th>secondary_cleaner.state.floatbank5_b_air</th>\n",
       "      <th>secondary_cleaner.state.floatbank5_b_level</th>\n",
       "      <th>secondary_cleaner.state.floatbank6_a_air</th>\n",
       "      <th>secondary_cleaner.state.floatbank6_a_level</th>\n",
       "    </tr>\n",
       "  </thead>\n",
       "  <tbody>\n",
       "    <tr>\n",
       "      <th>count</th>\n",
       "      <td>5290.000000</td>\n",
       "      <td>5290.000000</td>\n",
       "      <td>5290.000000</td>\n",
       "      <td>5290.000000</td>\n",
       "      <td>5.290000e+03</td>\n",
       "      <td>5290.000000</td>\n",
       "      <td>5.290000e+03</td>\n",
       "      <td>5290.000000</td>\n",
       "      <td>5.290000e+03</td>\n",
       "      <td>5290.000000</td>\n",
       "      <td>...</td>\n",
       "      <td>5.290000e+03</td>\n",
       "      <td>5290.000000</td>\n",
       "      <td>5.290000e+03</td>\n",
       "      <td>5290.000000</td>\n",
       "      <td>5290.000000</td>\n",
       "      <td>5290.000000</td>\n",
       "      <td>5290.000000</td>\n",
       "      <td>5290.000000</td>\n",
       "      <td>5290.000000</td>\n",
       "      <td>5290.000000</td>\n",
       "    </tr>\n",
       "    <tr>\n",
       "      <th>mean</th>\n",
       "      <td>174.842478</td>\n",
       "      <td>8.684695</td>\n",
       "      <td>7.266339</td>\n",
       "      <td>1.383430</td>\n",
       "      <td>1.539494e+03</td>\n",
       "      <td>-497.665883</td>\n",
       "      <td>1.545174e+03</td>\n",
       "      <td>-500.273098</td>\n",
       "      <td>1.527272e+03</td>\n",
       "      <td>-498.330680</td>\n",
       "      <td>...</td>\n",
       "      <td>1.632007e+01</td>\n",
       "      <td>-505.144570</td>\n",
       "      <td>1.373544e+01</td>\n",
       "      <td>-463.349858</td>\n",
       "      <td>12.804186</td>\n",
       "      <td>-501.329122</td>\n",
       "      <td>9.881145</td>\n",
       "      <td>-495.663398</td>\n",
       "      <td>17.304935</td>\n",
       "      <td>-501.793193</td>\n",
       "    </tr>\n",
       "    <tr>\n",
       "      <th>std</th>\n",
       "      <td>43.023252</td>\n",
       "      <td>3.073753</td>\n",
       "      <td>0.610219</td>\n",
       "      <td>0.643548</td>\n",
       "      <td>1.167979e+02</td>\n",
       "      <td>19.952431</td>\n",
       "      <td>1.222246e+02</td>\n",
       "      <td>32.968307</td>\n",
       "      <td>1.225380e+02</td>\n",
       "      <td>21.964876</td>\n",
       "      <td>...</td>\n",
       "      <td>3.493583e+00</td>\n",
       "      <td>31.427337</td>\n",
       "      <td>3.430484e+00</td>\n",
       "      <td>86.189107</td>\n",
       "      <td>3.026591</td>\n",
       "      <td>17.951495</td>\n",
       "      <td>2.868205</td>\n",
       "      <td>34.535007</td>\n",
       "      <td>4.536544</td>\n",
       "      <td>39.044215</td>\n",
       "    </tr>\n",
       "    <tr>\n",
       "      <th>min</th>\n",
       "      <td>2.566156</td>\n",
       "      <td>0.003839</td>\n",
       "      <td>5.650000</td>\n",
       "      <td>0.004984</td>\n",
       "      <td>5.445860e-32</td>\n",
       "      <td>-795.316337</td>\n",
       "      <td>6.647490e-32</td>\n",
       "      <td>-799.997015</td>\n",
       "      <td>4.033736e-32</td>\n",
       "      <td>-799.960571</td>\n",
       "      <td>...</td>\n",
       "      <td>1.079872e-16</td>\n",
       "      <td>-799.798523</td>\n",
       "      <td>2.489718e-17</td>\n",
       "      <td>-800.836914</td>\n",
       "      <td>0.069227</td>\n",
       "      <td>-797.323986</td>\n",
       "      <td>0.528083</td>\n",
       "      <td>-800.220337</td>\n",
       "      <td>-0.079426</td>\n",
       "      <td>-809.741464</td>\n",
       "    </tr>\n",
       "    <tr>\n",
       "      <th>25%</th>\n",
       "      <td>147.121401</td>\n",
       "      <td>6.489556</td>\n",
       "      <td>6.890000</td>\n",
       "      <td>0.907390</td>\n",
       "      <td>1.498936e+03</td>\n",
       "      <td>-500.357298</td>\n",
       "      <td>1.498971e+03</td>\n",
       "      <td>-500.703002</td>\n",
       "      <td>1.473230e+03</td>\n",
       "      <td>-501.018117</td>\n",
       "      <td>...</td>\n",
       "      <td>1.403618e+01</td>\n",
       "      <td>-500.868258</td>\n",
       "      <td>1.202862e+01</td>\n",
       "      <td>-500.323028</td>\n",
       "      <td>10.914838</td>\n",
       "      <td>-500.726841</td>\n",
       "      <td>8.036719</td>\n",
       "      <td>-500.194668</td>\n",
       "      <td>13.997317</td>\n",
       "      <td>-500.690984</td>\n",
       "    </tr>\n",
       "    <tr>\n",
       "      <th>50%</th>\n",
       "      <td>177.828489</td>\n",
       "      <td>8.052131</td>\n",
       "      <td>7.250000</td>\n",
       "      <td>1.197586</td>\n",
       "      <td>1.585129e+03</td>\n",
       "      <td>-499.969164</td>\n",
       "      <td>1.595622e+03</td>\n",
       "      <td>-500.028514</td>\n",
       "      <td>1.549595e+03</td>\n",
       "      <td>-500.017711</td>\n",
       "      <td>...</td>\n",
       "      <td>1.700847e+01</td>\n",
       "      <td>-500.115727</td>\n",
       "      <td>1.496486e+01</td>\n",
       "      <td>-499.576513</td>\n",
       "      <td>12.954182</td>\n",
       "      <td>-499.990332</td>\n",
       "      <td>10.004301</td>\n",
       "      <td>-499.990535</td>\n",
       "      <td>16.014935</td>\n",
       "      <td>-500.007126</td>\n",
       "    </tr>\n",
       "    <tr>\n",
       "      <th>75%</th>\n",
       "      <td>208.125438</td>\n",
       "      <td>10.028043</td>\n",
       "      <td>7.600000</td>\n",
       "      <td>1.797819</td>\n",
       "      <td>1.602077e+03</td>\n",
       "      <td>-499.568951</td>\n",
       "      <td>1.602324e+03</td>\n",
       "      <td>-499.293257</td>\n",
       "      <td>1.601144e+03</td>\n",
       "      <td>-498.994130</td>\n",
       "      <td>...</td>\n",
       "      <td>1.803862e+01</td>\n",
       "      <td>-499.404224</td>\n",
       "      <td>1.596213e+01</td>\n",
       "      <td>-400.933805</td>\n",
       "      <td>15.097528</td>\n",
       "      <td>-499.283191</td>\n",
       "      <td>11.997467</td>\n",
       "      <td>-499.719913</td>\n",
       "      <td>21.020013</td>\n",
       "      <td>-499.373018</td>\n",
       "    </tr>\n",
       "    <tr>\n",
       "      <th>max</th>\n",
       "      <td>265.983123</td>\n",
       "      <td>40.000000</td>\n",
       "      <td>15.500000</td>\n",
       "      <td>4.102454</td>\n",
       "      <td>2.103104e+03</td>\n",
       "      <td>-57.195404</td>\n",
       "      <td>1.813084e+03</td>\n",
       "      <td>-142.527229</td>\n",
       "      <td>1.715054e+03</td>\n",
       "      <td>-150.937035</td>\n",
       "      <td>...</td>\n",
       "      <td>3.005180e+01</td>\n",
       "      <td>-401.565212</td>\n",
       "      <td>3.126971e+01</td>\n",
       "      <td>-6.506986</td>\n",
       "      <td>25.258848</td>\n",
       "      <td>-244.483566</td>\n",
       "      <td>14.086866</td>\n",
       "      <td>-137.740004</td>\n",
       "      <td>26.705889</td>\n",
       "      <td>-123.307487</td>\n",
       "    </tr>\n",
       "  </tbody>\n",
       "</table>\n",
       "<p>8 rows × 52 columns</p>\n",
       "</div>"
      ],
      "text/plain": [
       "       primary_cleaner.input.sulfate  primary_cleaner.input.depressant  \\\n",
       "count                    5290.000000                       5290.000000   \n",
       "mean                      174.842478                          8.684695   \n",
       "std                        43.023252                          3.073753   \n",
       "min                         2.566156                          0.003839   \n",
       "25%                       147.121401                          6.489556   \n",
       "50%                       177.828489                          8.052131   \n",
       "75%                       208.125438                         10.028043   \n",
       "max                       265.983123                         40.000000   \n",
       "\n",
       "       primary_cleaner.input.feed_size  primary_cleaner.input.xanthate  \\\n",
       "count                      5290.000000                     5290.000000   \n",
       "mean                          7.266339                        1.383430   \n",
       "std                           0.610219                        0.643548   \n",
       "min                           5.650000                        0.004984   \n",
       "25%                           6.890000                        0.907390   \n",
       "50%                           7.250000                        1.197586   \n",
       "75%                           7.600000                        1.797819   \n",
       "max                          15.500000                        4.102454   \n",
       "\n",
       "       primary_cleaner.state.floatbank8_a_air  \\\n",
       "count                            5.290000e+03   \n",
       "mean                             1.539494e+03   \n",
       "std                              1.167979e+02   \n",
       "min                              5.445860e-32   \n",
       "25%                              1.498936e+03   \n",
       "50%                              1.585129e+03   \n",
       "75%                              1.602077e+03   \n",
       "max                              2.103104e+03   \n",
       "\n",
       "       primary_cleaner.state.floatbank8_a_level  \\\n",
       "count                               5290.000000   \n",
       "mean                                -497.665883   \n",
       "std                                   19.952431   \n",
       "min                                 -795.316337   \n",
       "25%                                 -500.357298   \n",
       "50%                                 -499.969164   \n",
       "75%                                 -499.568951   \n",
       "max                                  -57.195404   \n",
       "\n",
       "       primary_cleaner.state.floatbank8_b_air  \\\n",
       "count                            5.290000e+03   \n",
       "mean                             1.545174e+03   \n",
       "std                              1.222246e+02   \n",
       "min                              6.647490e-32   \n",
       "25%                              1.498971e+03   \n",
       "50%                              1.595622e+03   \n",
       "75%                              1.602324e+03   \n",
       "max                              1.813084e+03   \n",
       "\n",
       "       primary_cleaner.state.floatbank8_b_level  \\\n",
       "count                               5290.000000   \n",
       "mean                                -500.273098   \n",
       "std                                   32.968307   \n",
       "min                                 -799.997015   \n",
       "25%                                 -500.703002   \n",
       "50%                                 -500.028514   \n",
       "75%                                 -499.293257   \n",
       "max                                 -142.527229   \n",
       "\n",
       "       primary_cleaner.state.floatbank8_c_air  \\\n",
       "count                            5.290000e+03   \n",
       "mean                             1.527272e+03   \n",
       "std                              1.225380e+02   \n",
       "min                              4.033736e-32   \n",
       "25%                              1.473230e+03   \n",
       "50%                              1.549595e+03   \n",
       "75%                              1.601144e+03   \n",
       "max                              1.715054e+03   \n",
       "\n",
       "       primary_cleaner.state.floatbank8_c_level  ...  \\\n",
       "count                               5290.000000  ...   \n",
       "mean                                -498.330680  ...   \n",
       "std                                   21.964876  ...   \n",
       "min                                 -799.960571  ...   \n",
       "25%                                 -501.018117  ...   \n",
       "50%                                 -500.017711  ...   \n",
       "75%                                 -498.994130  ...   \n",
       "max                                 -150.937035  ...   \n",
       "\n",
       "       secondary_cleaner.state.floatbank4_a_air  \\\n",
       "count                              5.290000e+03   \n",
       "mean                               1.632007e+01   \n",
       "std                                3.493583e+00   \n",
       "min                                1.079872e-16   \n",
       "25%                                1.403618e+01   \n",
       "50%                                1.700847e+01   \n",
       "75%                                1.803862e+01   \n",
       "max                                3.005180e+01   \n",
       "\n",
       "       secondary_cleaner.state.floatbank4_a_level  \\\n",
       "count                                 5290.000000   \n",
       "mean                                  -505.144570   \n",
       "std                                     31.427337   \n",
       "min                                   -799.798523   \n",
       "25%                                   -500.868258   \n",
       "50%                                   -500.115727   \n",
       "75%                                   -499.404224   \n",
       "max                                   -401.565212   \n",
       "\n",
       "       secondary_cleaner.state.floatbank4_b_air  \\\n",
       "count                              5.290000e+03   \n",
       "mean                               1.373544e+01   \n",
       "std                                3.430484e+00   \n",
       "min                                2.489718e-17   \n",
       "25%                                1.202862e+01   \n",
       "50%                                1.496486e+01   \n",
       "75%                                1.596213e+01   \n",
       "max                                3.126971e+01   \n",
       "\n",
       "       secondary_cleaner.state.floatbank4_b_level  \\\n",
       "count                                 5290.000000   \n",
       "mean                                  -463.349858   \n",
       "std                                     86.189107   \n",
       "min                                   -800.836914   \n",
       "25%                                   -500.323028   \n",
       "50%                                   -499.576513   \n",
       "75%                                   -400.933805   \n",
       "max                                     -6.506986   \n",
       "\n",
       "       secondary_cleaner.state.floatbank5_a_air  \\\n",
       "count                               5290.000000   \n",
       "mean                                  12.804186   \n",
       "std                                    3.026591   \n",
       "min                                    0.069227   \n",
       "25%                                   10.914838   \n",
       "50%                                   12.954182   \n",
       "75%                                   15.097528   \n",
       "max                                   25.258848   \n",
       "\n",
       "       secondary_cleaner.state.floatbank5_a_level  \\\n",
       "count                                 5290.000000   \n",
       "mean                                  -501.329122   \n",
       "std                                     17.951495   \n",
       "min                                   -797.323986   \n",
       "25%                                   -500.726841   \n",
       "50%                                   -499.990332   \n",
       "75%                                   -499.283191   \n",
       "max                                   -244.483566   \n",
       "\n",
       "       secondary_cleaner.state.floatbank5_b_air  \\\n",
       "count                               5290.000000   \n",
       "mean                                   9.881145   \n",
       "std                                    2.868205   \n",
       "min                                    0.528083   \n",
       "25%                                    8.036719   \n",
       "50%                                   10.004301   \n",
       "75%                                   11.997467   \n",
       "max                                   14.086866   \n",
       "\n",
       "       secondary_cleaner.state.floatbank5_b_level  \\\n",
       "count                                 5290.000000   \n",
       "mean                                  -495.663398   \n",
       "std                                     34.535007   \n",
       "min                                   -800.220337   \n",
       "25%                                   -500.194668   \n",
       "50%                                   -499.990535   \n",
       "75%                                   -499.719913   \n",
       "max                                   -137.740004   \n",
       "\n",
       "       secondary_cleaner.state.floatbank6_a_air  \\\n",
       "count                               5290.000000   \n",
       "mean                                  17.304935   \n",
       "std                                    4.536544   \n",
       "min                                   -0.079426   \n",
       "25%                                   13.997317   \n",
       "50%                                   16.014935   \n",
       "75%                                   21.020013   \n",
       "max                                   26.705889   \n",
       "\n",
       "       secondary_cleaner.state.floatbank6_a_level  \n",
       "count                                 5290.000000  \n",
       "mean                                  -501.793193  \n",
       "std                                     39.044215  \n",
       "min                                   -809.741464  \n",
       "25%                                   -500.690984  \n",
       "50%                                   -500.007126  \n",
       "75%                                   -499.373018  \n",
       "max                                   -123.307487  \n",
       "\n",
       "[8 rows x 52 columns]"
      ]
     },
     "execution_count": 16,
     "metadata": {},
     "output_type": "execute_result"
    }
   ],
   "source": [
    "df_test.describe()"
   ]
  },
  {
   "cell_type": "markdown",
   "metadata": {},
   "source": [
    "## Data analysis"
   ]
  },
  {
   "cell_type": "markdown",
   "metadata": {},
   "source": [
    "### Distribution of metal concentration at different stages"
   ]
  },
  {
   "cell_type": "markdown",
   "metadata": {},
   "source": [
    "Let's build a graph and check the concentration of different metals at different stages of purification."
   ]
  },
  {
   "cell_type": "code",
   "execution_count": 17,
   "metadata": {},
   "outputs": [],
   "source": [
    "x = ['rougher.input', 'rougher.ouput', 'primary_cleaner','final']\n",
    "y_au = [df_train['rougher.input.feed_au'].median(),\n",
    "    df_train['rougher.output.concentrate_au'].median(),\n",
    "    df_train['primary_cleaner.output.concentrate_au'].median(),\n",
    "    df_train['final.output.concentrate_au'].median()]"
   ]
  },
  {
   "cell_type": "code",
   "execution_count": 18,
   "metadata": {},
   "outputs": [],
   "source": [
    "y_ag = [df_train['rougher.input.feed_ag'].median(),\n",
    "    df_train['rougher.output.concentrate_ag'].median(),\n",
    "    df_train['primary_cleaner.output.concentrate_ag'].median(),\n",
    "    df_train['final.output.concentrate_ag'].median()]"
   ]
  },
  {
   "cell_type": "code",
   "execution_count": 19,
   "metadata": {},
   "outputs": [],
   "source": [
    "y_pb = [df_train['rougher.input.feed_pb'].median(),\n",
    "    df_train['rougher.output.concentrate_pb'].median(),\n",
    "    df_train['primary_cleaner.output.concentrate_pb'].median(),\n",
    "    df_train['final.output.concentrate_pb'].median()]"
   ]
  },
  {
   "cell_type": "code",
   "execution_count": 20,
   "metadata": {
    "scrolled": false
   },
   "outputs": [
    {
     "data": {
      "image/png": "[encoded data removed]",
      "text/plain": [
       "<Figure size 1080x360 with 1 Axes>"
      ]
     },
     "metadata": {},
     "output_type": "display_data"
    }
   ],
   "source": [
    "fig = plt.figure(figsize=(15,5))\n",
    "plt.plot(x, y_au, label='Gold', c='y')\n",
    "plt.plot(x, y_ag, label='Silver', c='g')\n",
    "plt.plot(x, y_pb, label='Lead', c='r')\n",
    "plt.grid()\n",
    "plt.legend(loc='upper right')\n",
    "plt.xlabel('Stages of purification')\n",
    "plt.ylabel('Concentration')\n",
    "plt.title('Concentration of metals at different stages of purification');"
   ]
  },
  {
   "cell_type": "markdown",
   "metadata": {},
   "source": [
    "The concentration of gold is constantly increasing at different stages of purification, which cannot be said about other metals. Lead practically changes slightly, and silver begins to fall by the end of cleaning."
   ]
  },
  {
   "cell_type": "markdown",
   "metadata": {},
   "source": [
    "### Comparison of the distribution of raw material granules in a training and test sample."
   ]
  },
  {
   "cell_type": "code",
   "execution_count": 21,
   "metadata": {},
   "outputs": [],
   "source": [
    "train = df_train['rougher.input.feed_size']"
   ]
  },
  {
   "cell_type": "code",
   "execution_count": 22,
   "metadata": {},
   "outputs": [],
   "source": [
    "test = df_test['rougher.input.feed_size']"
   ]
  },
  {
   "cell_type": "code",
   "execution_count": 23,
   "metadata": {
    "scrolled": false
   },
   "outputs": [
    {
     "data": {
      "image/png": "[encoded data removed]",
      "text/plain": [
       "<Figure size 1080x720 with 3 Axes>"
      ]
     },
     "metadata": {},
     "output_type": "display_data"
    }
   ],
   "source": [
    "fig, (ax1, ax2, ax3) = plt.subplots(3, figsize=(15,10))\n",
    "\n",
    "sns.histplot(data=df_train, x=\"rougher.input.feed_size\", color ='blue', label='train', bins=500, ax=ax1)\n",
    "sns.histplot(data=df_test, x=\"rougher.input.feed_size\", color='green', label='test', bins=500, ax=ax1)\n",
    "sns.boxplot(data=train, x=train, ax=ax2, color ='blue', linewidth=5)\n",
    "sns.boxplot(data=test, x=test, ax=ax3, color ='green', linewidth=5)\n",
    "ax1.set_xlim(0, 125)\n",
    "ax2.set_xlim(0, 125)\n",
    "ax3.set_xlim(0, 125)\n",
    "ax1.grid()\n",
    "ax2.grid()\n",
    "ax3.grid()\n",
    "ax3.set_ylabel('Test')\n",
    "ax2.set_ylabel('Train')\n",
    "ax1.set_title('Distribution of raw material granules');"
   ]
  },
  {
   "cell_type": "markdown",
   "metadata": {},
   "source": [
    "The distribution of raw material granules in the training and test samples does not differ much from each other. Let's check the total concentration of all substances at different stages."
   ]
  },
  {
   "cell_type": "markdown",
   "metadata": {},
   "source": [
    "### Investigation of the total concentration of all substances at different stages: in raw materials, in rough and final concentrates."
   ]
  },
  {
   "cell_type": "code",
   "execution_count": 24,
   "metadata": {},
   "outputs": [],
   "source": [
    "rougher_input = df_train['rougher.input.feed_au'] + df_train['rougher.input.feed_ag']\\\n",
    "    + df_train['rougher.output.concentrate_pb']\n",
    "rougher_output = df_train['rougher.output.concentrate_ag'] + df_train['rougher.output.concentrate_pb']\\\n",
    "         + df_train['rougher.output.concentrate_au']\n",
    "final_output = df_train['final.output.concentrate_ag'] + df_train['final.output.concentrate_pb']\\\n",
    "         + df_train['final.output.concentrate_au']"
   ]
  },
  {
   "cell_type": "code",
   "execution_count": 25,
   "metadata": {},
   "outputs": [
    {
     "data": {
      "image/png": "[encoded data removed]",
      "text/plain": [
       "<Figure size 1080x720 with 1 Axes>"
      ]
     },
     "metadata": {},
     "output_type": "display_data"
    }
   ],
   "source": [
    "fig = plt.figure(figsize=(15,10))\n",
    "plt.hist(rougher_input, bins = 100, alpha=0.5, label='Raw materials')\n",
    "plt.hist(rougher_output, bins = 100, alpha=0.5, label='Rough')\n",
    "plt.hist(final_output, bins = 100, alpha=0.5, label='Final concentrates')\n",
    "plt.grid()\n",
    "plt.legend(loc='upper right')\n",
    "plt.xlabel('Concentration')\n",
    "plt.title('Distribution of metal concentration at different stages');"
   ]
  },
  {
   "cell_type": "markdown",
   "metadata": {},
   "source": [
    "There are anomalies in the data when the concentration of metals is zero at the stage of roughing and final concentrates."
   ]
  },
  {
   "cell_type": "code",
   "execution_count": 26,
   "metadata": {
    "scrolled": true
   },
   "outputs": [
    {
     "data": {
      "text/html": [
       "<div>\n",
       "<style scoped>\n",
       "    .dataframe tbody tr th:only-of-type {\n",
       "        vertical-align: middle;\n",
       "    }\n",
       "\n",
       "    .dataframe tbody tr th {\n",
       "        vertical-align: top;\n",
       "    }\n",
       "\n",
       "    .dataframe thead th {\n",
       "        text-align: right;\n",
       "    }\n",
       "</style>\n",
       "<table border=\"1\" class=\"dataframe\">\n",
       "  <thead>\n",
       "    <tr style=\"text-align: right;\">\n",
       "      <th></th>\n",
       "      <th>rougher.input.feed_au</th>\n",
       "      <th>rougher.input.feed_ag</th>\n",
       "      <th>rougher.input.feed_pb</th>\n",
       "      <th>rougher.output.concentrate_ag</th>\n",
       "      <th>rougher.output.concentrate_pb</th>\n",
       "      <th>rougher.output.concentrate_au</th>\n",
       "      <th>final.output.concentrate_ag</th>\n",
       "      <th>final.output.concentrate_pb</th>\n",
       "      <th>final.output.concentrate_au</th>\n",
       "    </tr>\n",
       "  </thead>\n",
       "  <tbody>\n",
       "    <tr>\n",
       "      <th>45</th>\n",
       "      <td>7.114065</td>\n",
       "      <td>7.521974</td>\n",
       "      <td>2.811569</td>\n",
       "      <td>0.0</td>\n",
       "      <td>0.0</td>\n",
       "      <td>0.0</td>\n",
       "      <td>4.566664</td>\n",
       "      <td>10.406178</td>\n",
       "      <td>46.614456</td>\n",
       "    </tr>\n",
       "    <tr>\n",
       "      <th>46</th>\n",
       "      <td>7.651522</td>\n",
       "      <td>7.313187</td>\n",
       "      <td>2.973841</td>\n",
       "      <td>0.0</td>\n",
       "      <td>0.0</td>\n",
       "      <td>0.0</td>\n",
       "      <td>4.577832</td>\n",
       "      <td>10.691605</td>\n",
       "      <td>46.250638</td>\n",
       "    </tr>\n",
       "    <tr>\n",
       "      <th>47</th>\n",
       "      <td>5.587750</td>\n",
       "      <td>7.934791</td>\n",
       "      <td>1.763437</td>\n",
       "      <td>0.0</td>\n",
       "      <td>0.0</td>\n",
       "      <td>0.0</td>\n",
       "      <td>4.591462</td>\n",
       "      <td>10.628846</td>\n",
       "      <td>46.663335</td>\n",
       "    </tr>\n",
       "    <tr>\n",
       "      <th>48</th>\n",
       "      <td>4.752992</td>\n",
       "      <td>7.756881</td>\n",
       "      <td>1.025762</td>\n",
       "      <td>0.0</td>\n",
       "      <td>0.0</td>\n",
       "      <td>0.0</td>\n",
       "      <td>5.296830</td>\n",
       "      <td>10.597469</td>\n",
       "      <td>44.015642</td>\n",
       "    </tr>\n",
       "    <tr>\n",
       "      <th>49</th>\n",
       "      <td>5.122801</td>\n",
       "      <td>5.393466</td>\n",
       "      <td>1.824835</td>\n",
       "      <td>0.0</td>\n",
       "      <td>0.0</td>\n",
       "      <td>0.0</td>\n",
       "      <td>8.162896</td>\n",
       "      <td>8.877528</td>\n",
       "      <td>40.715973</td>\n",
       "    </tr>\n",
       "    <tr>\n",
       "      <th>...</th>\n",
       "      <td>...</td>\n",
       "      <td>...</td>\n",
       "      <td>...</td>\n",
       "      <td>...</td>\n",
       "      <td>...</td>\n",
       "      <td>...</td>\n",
       "      <td>...</td>\n",
       "      <td>...</td>\n",
       "      <td>...</td>\n",
       "    </tr>\n",
       "    <tr>\n",
       "      <th>10330</th>\n",
       "      <td>7.951063</td>\n",
       "      <td>8.576019</td>\n",
       "      <td>2.607144</td>\n",
       "      <td>0.0</td>\n",
       "      <td>0.0</td>\n",
       "      <td>0.0</td>\n",
       "      <td>4.909904</td>\n",
       "      <td>9.941006</td>\n",
       "      <td>47.660737</td>\n",
       "    </tr>\n",
       "    <tr>\n",
       "      <th>10331</th>\n",
       "      <td>8.715784</td>\n",
       "      <td>8.640039</td>\n",
       "      <td>2.905023</td>\n",
       "      <td>0.0</td>\n",
       "      <td>0.0</td>\n",
       "      <td>0.0</td>\n",
       "      <td>4.797572</td>\n",
       "      <td>9.889303</td>\n",
       "      <td>47.801056</td>\n",
       "    </tr>\n",
       "    <tr>\n",
       "      <th>10332</th>\n",
       "      <td>9.026122</td>\n",
       "      <td>8.769059</td>\n",
       "      <td>3.020251</td>\n",
       "      <td>0.0</td>\n",
       "      <td>0.0</td>\n",
       "      <td>0.0</td>\n",
       "      <td>4.329492</td>\n",
       "      <td>9.413122</td>\n",
       "      <td>49.412576</td>\n",
       "    </tr>\n",
       "    <tr>\n",
       "      <th>10333</th>\n",
       "      <td>8.752430</td>\n",
       "      <td>8.705607</td>\n",
       "      <td>2.881386</td>\n",
       "      <td>0.0</td>\n",
       "      <td>0.0</td>\n",
       "      <td>0.0</td>\n",
       "      <td>4.317169</td>\n",
       "      <td>9.642271</td>\n",
       "      <td>48.839994</td>\n",
       "    </tr>\n",
       "    <tr>\n",
       "      <th>10334</th>\n",
       "      <td>8.467616</td>\n",
       "      <td>8.897043</td>\n",
       "      <td>2.760468</td>\n",
       "      <td>0.0</td>\n",
       "      <td>0.0</td>\n",
       "      <td>0.0</td>\n",
       "      <td>4.772368</td>\n",
       "      <td>10.273324</td>\n",
       "      <td>47.346243</td>\n",
       "    </tr>\n",
       "  </tbody>\n",
       "</table>\n",
       "<p>354 rows × 9 columns</p>\n",
       "</div>"
      ],
      "text/plain": [
       "       rougher.input.feed_au  rougher.input.feed_ag  rougher.input.feed_pb  \\\n",
       "45                  7.114065               7.521974               2.811569   \n",
       "46                  7.651522               7.313187               2.973841   \n",
       "47                  5.587750               7.934791               1.763437   \n",
       "48                  4.752992               7.756881               1.025762   \n",
       "49                  5.122801               5.393466               1.824835   \n",
       "...                      ...                    ...                    ...   \n",
       "10330               7.951063               8.576019               2.607144   \n",
       "10331               8.715784               8.640039               2.905023   \n",
       "10332               9.026122               8.769059               3.020251   \n",
       "10333               8.752430               8.705607               2.881386   \n",
       "10334               8.467616               8.897043               2.760468   \n",
       "\n",
       "       rougher.output.concentrate_ag  rougher.output.concentrate_pb  \\\n",
       "45                               0.0                            0.0   \n",
       "46                               0.0                            0.0   \n",
       "47                               0.0                            0.0   \n",
       "48                               0.0                            0.0   \n",
       "49                               0.0                            0.0   \n",
       "...                              ...                            ...   \n",
       "10330                            0.0                            0.0   \n",
       "10331                            0.0                            0.0   \n",
       "10332                            0.0                            0.0   \n",
       "10333                            0.0                            0.0   \n",
       "10334                            0.0                            0.0   \n",
       "\n",
       "       rougher.output.concentrate_au  final.output.concentrate_ag  \\\n",
       "45                               0.0                     4.566664   \n",
       "46                               0.0                     4.577832   \n",
       "47                               0.0                     4.591462   \n",
       "48                               0.0                     5.296830   \n",
       "49                               0.0                     8.162896   \n",
       "...                              ...                          ...   \n",
       "10330                            0.0                     4.909904   \n",
       "10331                            0.0                     4.797572   \n",
       "10332                            0.0                     4.329492   \n",
       "10333                            0.0                     4.317169   \n",
       "10334                            0.0                     4.772368   \n",
       "\n",
       "       final.output.concentrate_pb  final.output.concentrate_au  \n",
       "45                       10.406178                    46.614456  \n",
       "46                       10.691605                    46.250638  \n",
       "47                       10.628846                    46.663335  \n",
       "48                       10.597469                    44.015642  \n",
       "49                        8.877528                    40.715973  \n",
       "...                            ...                          ...  \n",
       "10330                     9.941006                    47.660737  \n",
       "10331                     9.889303                    47.801056  \n",
       "10332                     9.413122                    49.412576  \n",
       "10333                     9.642271                    48.839994  \n",
       "10334                    10.273324                    47.346243  \n",
       "\n",
       "[354 rows x 9 columns]"
      ]
     },
     "execution_count": 26,
     "metadata": {},
     "output_type": "execute_result"
    }
   ],
   "source": [
    "df_train.loc[(rougher_output == 0) | (final_output == 0), ['rougher.input.feed_au', 'rougher.input.feed_ag',\n",
    "                                                        'rougher.input.feed_pb', 'rougher.output.concentrate_ag',\n",
    "                                                        'rougher.output.concentrate_pb', 'rougher.output.concentrate_au',\n",
    "                                                        'final.output.concentrate_ag', 'final.output.concentrate_pb',\n",
    "                                                        'final.output.concentrate_au']]"
   ]
  },
  {
   "cell_type": "markdown",
   "metadata": {},
   "source": [
    "Let's get rid of the anomalies."
   ]
  },
  {
   "cell_type": "code",
   "execution_count": 27,
   "metadata": {},
   "outputs": [],
   "source": [
    "df_train = df_train[(rougher_output != 0) & (final_output != 0)]"
   ]
  },
  {
   "cell_type": "code",
   "execution_count": 28,
   "metadata": {},
   "outputs": [
    {
     "data": {
      "text/plain": [
       "(13795, 87)"
      ]
     },
     "execution_count": 28,
     "metadata": {},
     "output_type": "execute_result"
    }
   ],
   "source": [
    "df_train.shape"
   ]
  },
  {
   "cell_type": "code",
   "execution_count": 29,
   "metadata": {},
   "outputs": [],
   "source": [
    "rougher_input = df_train['rougher.input.feed_au'] + df_train['rougher.input.feed_ag']\\\n",
    "    + df_train['rougher.output.concentrate_pb']\n",
    "rougher_output = df_train['rougher.output.concentrate_ag'] + df_train['rougher.output.concentrate_pb']\\\n",
    "         + df_train['rougher.output.concentrate_au']\n",
    "final_output = df_train['final.output.concentrate_ag'] + df_train['final.output.concentrate_pb']\\\n",
    "         + df_train['final.output.concentrate_au']"
   ]
  },
  {
   "cell_type": "code",
   "execution_count": 30,
   "metadata": {},
   "outputs": [
    {
     "data": {
      "image/png": "[encoded data removed]",
      "text/plain": [
       "<Figure size 1080x720 with 1 Axes>"
      ]
     },
     "metadata": {},
     "output_type": "display_data"
    }
   ],
   "source": [
    "fig = plt.figure(figsize=(15,10))\n",
    "plt.hist(rougher_input, bins = 100, alpha=0.5, label='Raw materials')\n",
    "plt.hist(rougher_output, bins = 100, alpha=0.5, label='Rough')\n",
    "plt.hist(final_output, bins = 100, alpha=0.5, label='Final concentrates')\n",
    "plt.grid()\n",
    "plt.legend(loc='upper right')\n",
    "plt.xlabel('Concentration')\n",
    "plt.title('Distribution of metal concentration at different stages');"
   ]
  },
  {
   "cell_type": "markdown",
   "metadata": {},
   "source": [
    "We got rid of the anomalies, we move on to building a model."
   ]
  },
  {
   "cell_type": "markdown",
   "metadata": {},
   "source": [
    "## Building and training models"
   ]
  },
  {
   "cell_type": "markdown",
   "metadata": {},
   "source": [
    "### The function for calculating the final sMAPE"
   ]
  },
  {
   "cell_type": "code",
   "execution_count": 31,
   "metadata": {},
   "outputs": [],
   "source": [
    "def smape(y_true, y_pred):\n",
    "    error = np.abs(y_true - y_pred)\n",
    "    scale = (np.abs(y_true) + np.abs(y_pred)) / 2\n",
    "\n",
    "    return np.mean(error / scale) * 100"
   ]
  },
  {
   "cell_type": "code",
   "execution_count": 32,
   "metadata": {},
   "outputs": [],
   "source": [
    "def final_smape(smape_rougher, smape_final):\n",
    "    return 0.25 * (smape_rougher * -1).mean() + 0.75 *(smape_final * -1).mean()"
   ]
  },
  {
   "cell_type": "markdown",
   "metadata": {},
   "source": [
    "### Creating train and test samples"
   ]
  },
  {
   "cell_type": "code",
   "execution_count": 33,
   "metadata": {},
   "outputs": [],
   "source": [
    "X_test = df_test.drop('date', axis=1)\n",
    "X_train = df_train[df_test.drop('date', axis=1).columns]\n",
    "\n",
    "y_train_final = df_train['final.output.recovery']\n",
    "y_train_rougher = df_train['rougher.output.recovery']"
   ]
  },
  {
   "cell_type": "code",
   "execution_count": 34,
   "metadata": {},
   "outputs": [
    {
     "data": {
      "text/plain": [
       "((13795, 52), (5290, 52), (13795,), (13795,))"
      ]
     },
     "execution_count": 34,
     "metadata": {},
     "output_type": "execute_result"
    }
   ],
   "source": [
    "X_train.shape, X_test.shape, y_train_final.shape, y_train_rougher.shape"
   ]
  },
  {
   "cell_type": "code",
   "execution_count": 35,
   "metadata": {},
   "outputs": [
    {
     "data": {
      "text/plain": [
       "0.2721333401923967"
      ]
     },
     "execution_count": 35,
     "metadata": {},
     "output_type": "execute_result"
    }
   ],
   "source": [
    "len(df_test) / len(df_full)"
   ]
  },
  {
   "cell_type": "markdown",
   "metadata": {},
   "source": [
    "Test sample size equal 27% of full sample size, so we need to use 4 folds in GridSearchCV"
   ]
  },
  {
   "cell_type": "code",
   "execution_count": 36,
   "metadata": {},
   "outputs": [],
   "source": [
    "# creating scorer\n",
    "scorer = make_scorer(smape, greater_is_better = False)"
   ]
  },
  {
   "cell_type": "markdown",
   "metadata": {},
   "source": [
    "### Ridge"
   ]
  },
  {
   "cell_type": "code",
   "execution_count": 37,
   "metadata": {},
   "outputs": [],
   "source": [
    "X_train_rd = X_train.copy()\n",
    "y_train_final_rd = y_train_final.copy()\n",
    "y_train_rougher_rd = y_train_rougher.copy()"
   ]
  },
  {
   "cell_type": "code",
   "execution_count": 38,
   "metadata": {},
   "outputs": [],
   "source": [
    "pipeline_rd = Pipeline([('std', StandardScaler()),\n",
    "                       ('rd', Ridge(random_state=RANDOM_STATE))])\n",
    "\n",
    "params_rd = {'rd__alpha': range(10, 21),\n",
    "            'rd__max_iter': range(100, 500, 100)}\n",
    "grid_rd = GridSearchCV(pipeline_rd, params_rd, scoring=scorer, cv=4, n_jobs=-1)\n",
    "\n",
    "grid_rd.fit(X_train_rd, y_train_rougher_rd)\n",
    "param_rougher_rd = grid_rd.best_params_\n",
    "model_rougher_rd = grid_rd.best_estimator_\n",
    "smape_rougher_rd = grid_rd.best_score_\n",
    "\n",
    "grid_rd.fit(X_train_rd, y_train_final_rd)\n",
    "param_final_rd = grid_rd.best_params_\n",
    "model_final_rd = grid_rd.best_estimator_\n",
    "smape_final_rd = grid_rd.best_score_"
   ]
  },
  {
   "cell_type": "code",
   "execution_count": 39,
   "metadata": {
    "scrolled": true
   },
   "outputs": [],
   "source": [
    "smape_rd = final_smape(smape_rougher_rd, smape_final_rd)"
   ]
  },
  {
   "cell_type": "code",
   "execution_count": 40,
   "metadata": {},
   "outputs": [
    {
     "data": {
      "text/plain": [
       "(10.09611784442441,\n",
       " {'rd__alpha': 20, 'rd__max_iter': 100},\n",
       " {'rd__alpha': 20, 'rd__max_iter': 100})"
      ]
     },
     "execution_count": 40,
     "metadata": {},
     "output_type": "execute_result"
    }
   ],
   "source": [
    "smape_rd, param_rougher_rd, param_final_rd"
   ]
  },
  {
   "cell_type": "markdown",
   "metadata": {},
   "source": [
    "### RandomForestRegressor"
   ]
  },
  {
   "cell_type": "code",
   "execution_count": 41,
   "metadata": {},
   "outputs": [],
   "source": [
    "X_train_rf = X_train.copy()\n",
    "y_train_final_rf = y_train_final.copy()\n",
    "y_train_rougher_rf = y_train_rougher.copy()"
   ]
  },
  {
   "cell_type": "code",
   "execution_count": 42,
   "metadata": {},
   "outputs": [],
   "source": [
    "pipeline_rf = Pipeline([('std', StandardScaler()),\n",
    "                       ('rf', RandomForestRegressor(random_state=RANDOM_STATE))])\n",
    "\n",
    "params_rf = {'rf__n_estimators': range(500, 1500, 100),\n",
    "            'rf__max_depth': [3, 5, 7]}\n",
    "grid_rf = GridSearchCV(pipeline_rf, params_rf, scoring=scorer, cv=4, n_jobs=-1)\n",
    "\n",
    "grid_rf.fit(X_train_rf, y_train_rougher_rf)\n",
    "param_rougher_rf = grid_rf.best_params_\n",
    "model_rougher_rf = grid_rf.best_estimator_\n",
    "smape_rougher_rf = grid_rf.best_score_\n",
    "\n",
    "grid_rf.fit(X_train_rf, y_train_final_rf)\n",
    "param_final_rf = grid_rf.best_params_\n",
    "model_final_rf = grid_rf.best_estimator_\n",
    "smape_final_rf = grid_rf.best_score_"
   ]
  },
  {
   "cell_type": "code",
   "execution_count": 43,
   "metadata": {},
   "outputs": [],
   "source": [
    "smape_rf = final_smape(smape_rougher_rf, smape_final_rf)"
   ]
  },
  {
   "cell_type": "code",
   "execution_count": 44,
   "metadata": {},
   "outputs": [
    {
     "data": {
      "text/plain": [
       "(9.379037332642593,\n",
       " {'rf__max_depth': 5, 'rf__n_estimators': 600},\n",
       " {'rf__max_depth': 7, 'rf__n_estimators': 800})"
      ]
     },
     "execution_count": 44,
     "metadata": {},
     "output_type": "execute_result"
    }
   ],
   "source": [
    "smape_rf, param_rougher_rf, param_final_rf"
   ]
  },
  {
   "cell_type": "code",
   "execution_count": null,
   "metadata": {},
   "outputs": [],
   "source": []
  },
  {
   "cell_type": "markdown",
   "metadata": {},
   "source": [
    "### CatBoostRegressor"
   ]
  },
  {
   "cell_type": "code",
   "execution_count": 45,
   "metadata": {},
   "outputs": [],
   "source": [
    "X_train_ct = X_train.copy()\n",
    "y_train_final_ct = y_train_final.copy()\n",
    "y_train_rougher_ct = y_train_rougher.copy()"
   ]
  },
  {
   "cell_type": "code",
   "execution_count": 46,
   "metadata": {},
   "outputs": [],
   "source": [
    "pipeline_ct = Pipeline([('std', StandardScaler()),\n",
    "                       ('ct', CatBoostRegressor(random_state=RANDOM_STATE, verbose=False))])\n",
    "\n",
    "params_ct = {'ct__n_estimators': range(500, 1500, 100),\n",
    "            'ct__max_depth': [3, 5, 7]}\n",
    "grid_ct = GridSearchCV(pipeline_ct, params_ct, scoring=scorer, cv=4, n_jobs=-1)\n",
    "\n",
    "grid_ct.fit(X_train_ct, y_train_rougher_ct)\n",
    "param_rougher_ct = grid_ct.best_params_\n",
    "model_rougher_ct = grid_ct.best_estimator_\n",
    "smape_rougher_ct = grid_ct.best_score_\n",
    "\n",
    "grid_ct.fit(X_train_ct, y_train_final_ct)\n",
    "param_final_ct = grid_ct.best_params_\n",
    "model_final_ct = grid_ct.best_estimator_\n",
    "smape_final_ct = grid_ct.best_score_"
   ]
  },
  {
   "cell_type": "code",
   "execution_count": 47,
   "metadata": {},
   "outputs": [],
   "source": [
    "smape_ct = final_smape(smape_rougher_ct, smape_final_ct)"
   ]
  },
  {
   "cell_type": "code",
   "execution_count": 48,
   "metadata": {},
   "outputs": [
    {
     "data": {
      "text/plain": [
       "{'ct__max_depth': 7, 'ct__n_estimators': 1300}"
      ]
     },
     "execution_count": 48,
     "metadata": {},
     "output_type": "execute_result"
    }
   ],
   "source": [
    "grid_ct.best_params_"
   ]
  },
  {
   "cell_type": "code",
   "execution_count": 49,
   "metadata": {},
   "outputs": [
    {
     "data": {
      "text/plain": [
       "(8.632694782121012,\n",
       " {'ct__max_depth': 7, 'ct__n_estimators': 1000},\n",
       " {'ct__max_depth': 7, 'ct__n_estimators': 1300})"
      ]
     },
     "execution_count": 49,
     "metadata": {},
     "output_type": "execute_result"
    }
   ],
   "source": [
    "smape_ct, param_rougher_ct, param_final_ct"
   ]
  },
  {
   "cell_type": "markdown",
   "metadata": {},
   "source": [
    "### Training results"
   ]
  },
  {
   "cell_type": "code",
   "execution_count": 50,
   "metadata": {},
   "outputs": [
    {
     "data": {
      "text/html": [
       "<div>\n",
       "<style scoped>\n",
       "    .dataframe tbody tr th:only-of-type {\n",
       "        vertical-align: middle;\n",
       "    }\n",
       "\n",
       "    .dataframe tbody tr th {\n",
       "        vertical-align: top;\n",
       "    }\n",
       "\n",
       "    .dataframe thead th {\n",
       "        text-align: right;\n",
       "    }\n",
       "</style>\n",
       "<table border=\"1\" class=\"dataframe\">\n",
       "  <thead>\n",
       "    <tr style=\"text-align: right;\">\n",
       "      <th></th>\n",
       "      <th>SMAPE</th>\n",
       "      <th>model_rougher</th>\n",
       "      <th>model_final</th>\n",
       "    </tr>\n",
       "  </thead>\n",
       "  <tbody>\n",
       "    <tr>\n",
       "      <th>Ridge</th>\n",
       "      <td>10.096118</td>\n",
       "      <td>{'rd__alpha': 20, 'rd__max_iter': 100}</td>\n",
       "      <td>{'rd__alpha': 20, 'rd__max_iter': 100}</td>\n",
       "    </tr>\n",
       "    <tr>\n",
       "      <th>RandomForestRegressor</th>\n",
       "      <td>9.379037</td>\n",
       "      <td>{'rf__max_depth': 5, 'rf__n_estimators': 600}</td>\n",
       "      <td>{'rf__max_depth': 7, 'rf__n_estimators': 800}</td>\n",
       "    </tr>\n",
       "    <tr>\n",
       "      <th>CatBoostRegressor</th>\n",
       "      <td>8.632695</td>\n",
       "      <td>{'ct__max_depth': 7, 'ct__n_estimators': 1000}</td>\n",
       "      <td>{'ct__max_depth': 7, 'ct__n_estimators': 1300}</td>\n",
       "    </tr>\n",
       "  </tbody>\n",
       "</table>\n",
       "</div>"
      ],
      "text/plain": [
       "                           SMAPE  \\\n",
       "Ridge                  10.096118   \n",
       "RandomForestRegressor   9.379037   \n",
       "CatBoostRegressor       8.632695   \n",
       "\n",
       "                                                        model_rougher  \\\n",
       "Ridge                          {'rd__alpha': 20, 'rd__max_iter': 100}   \n",
       "RandomForestRegressor   {'rf__max_depth': 5, 'rf__n_estimators': 600}   \n",
       "CatBoostRegressor      {'ct__max_depth': 7, 'ct__n_estimators': 1000}   \n",
       "\n",
       "                                                          model_final  \n",
       "Ridge                          {'rd__alpha': 20, 'rd__max_iter': 100}  \n",
       "RandomForestRegressor   {'rf__max_depth': 7, 'rf__n_estimators': 800}  \n",
       "CatBoostRegressor      {'ct__max_depth': 7, 'ct__n_estimators': 1300}  "
      ]
     },
     "execution_count": 50,
     "metadata": {},
     "output_type": "execute_result"
    }
   ],
   "source": [
    "pd.DataFrame({'SMAPE':[smape_rd, smape_rf, smape_ct],\n",
    "             'model_rougher': [param_rougher_rd, param_rougher_rf, param_rougher_ct],\n",
    "             'model_final': [param_final_rd, param_final_rf, param_final_ct]},\n",
    "            index=['Ridge', 'RandomForestRegressor', 'CatBoostRegressor'])"
   ]
  },
  {
   "cell_type": "markdown",
   "metadata": {},
   "source": [
    "### Checking on test sample"
   ]
  },
  {
   "cell_type": "code",
   "execution_count": 51,
   "metadata": {},
   "outputs": [],
   "source": [
    "y_test_rougher = model_rougher_ct.predict(X_test)"
   ]
  },
  {
   "cell_type": "code",
   "execution_count": 52,
   "metadata": {},
   "outputs": [],
   "source": [
    "y_test_final = model_final_ct.predict(X_test)"
   ]
  },
  {
   "cell_type": "code",
   "execution_count": 53,
   "metadata": {},
   "outputs": [],
   "source": [
    "df_test['y_test_rougher.output.recovery'] = y_test_rougher"
   ]
  },
  {
   "cell_type": "code",
   "execution_count": 54,
   "metadata": {},
   "outputs": [],
   "source": [
    "df_test['y_test_final.output.recovery'] = y_test_final"
   ]
  },
  {
   "cell_type": "code",
   "execution_count": 55,
   "metadata": {},
   "outputs": [
    {
     "data": {
      "text/plain": [
       "19439"
      ]
     },
     "execution_count": 55,
     "metadata": {},
     "output_type": "execute_result"
    }
   ],
   "source": [
    "df_full['date'].nunique()"
   ]
  },
  {
   "cell_type": "code",
   "execution_count": 56,
   "metadata": {},
   "outputs": [
    {
     "data": {
      "text/plain": [
       "19439"
      ]
     },
     "execution_count": 56,
     "metadata": {},
     "output_type": "execute_result"
    }
   ],
   "source": [
    "len(df_full)"
   ]
  },
  {
   "cell_type": "markdown",
   "metadata": {},
   "source": [
    "Since all values in the date column are unique, we will combine the test sample with the predicted values with the true recovery values and calculate the final smape."
   ]
  },
  {
   "cell_type": "code",
   "execution_count": 57,
   "metadata": {},
   "outputs": [],
   "source": [
    "df_test = df_test.merge(df_full[['date', 'rougher.output.recovery', 'final.output.recovery']], how='left', on='date')"
   ]
  },
  {
   "cell_type": "code",
   "execution_count": 58,
   "metadata": {},
   "outputs": [],
   "source": [
    "smape_rougher_test = 0.25 * smape(df_test['rougher.output.recovery'], df_test['y_test_rougher.output.recovery'])\\\n",
    "    + 0.75 * smape(df_test['final.output.recovery'], df_test['y_test_final.output.recovery'])"
   ]
  },
  {
   "cell_type": "code",
   "execution_count": 59,
   "metadata": {
    "scrolled": false
   },
   "outputs": [
    {
     "data": {
      "text/plain": [
       "9.079969251096403"
      ]
     },
     "execution_count": 59,
     "metadata": {},
     "output_type": "execute_result"
    }
   ],
   "source": [
    "smape_rougher_test"
   ]
  },
  {
   "cell_type": "markdown",
   "metadata": {},
   "source": [
    "We will output the first 5 samples with the best final predicted enrichment efficiency."
   ]
  },
  {
   "cell_type": "code",
   "execution_count": 60,
   "metadata": {},
   "outputs": [
    {
     "data": {
      "text/html": [
       "<div>\n",
       "<style scoped>\n",
       "    .dataframe tbody tr th:only-of-type {\n",
       "        vertical-align: middle;\n",
       "    }\n",
       "\n",
       "    .dataframe tbody tr th {\n",
       "        vertical-align: top;\n",
       "    }\n",
       "\n",
       "    .dataframe thead th {\n",
       "        text-align: right;\n",
       "    }\n",
       "</style>\n",
       "<table border=\"1\" class=\"dataframe\">\n",
       "  <thead>\n",
       "    <tr style=\"text-align: right;\">\n",
       "      <th></th>\n",
       "      <th>date</th>\n",
       "      <th>primary_cleaner.input.sulfate</th>\n",
       "      <th>primary_cleaner.input.depressant</th>\n",
       "      <th>primary_cleaner.input.feed_size</th>\n",
       "      <th>primary_cleaner.input.xanthate</th>\n",
       "      <th>primary_cleaner.state.floatbank8_a_air</th>\n",
       "      <th>primary_cleaner.state.floatbank8_a_level</th>\n",
       "      <th>primary_cleaner.state.floatbank8_b_air</th>\n",
       "      <th>primary_cleaner.state.floatbank8_b_level</th>\n",
       "      <th>primary_cleaner.state.floatbank8_c_air</th>\n",
       "      <th>...</th>\n",
       "      <th>secondary_cleaner.state.floatbank5_a_air</th>\n",
       "      <th>secondary_cleaner.state.floatbank5_a_level</th>\n",
       "      <th>secondary_cleaner.state.floatbank5_b_air</th>\n",
       "      <th>secondary_cleaner.state.floatbank5_b_level</th>\n",
       "      <th>secondary_cleaner.state.floatbank6_a_air</th>\n",
       "      <th>secondary_cleaner.state.floatbank6_a_level</th>\n",
       "      <th>y_test_rougher.output.recovery</th>\n",
       "      <th>y_test_final.output.recovery</th>\n",
       "      <th>rougher.output.recovery</th>\n",
       "      <th>final.output.recovery</th>\n",
       "    </tr>\n",
       "  </thead>\n",
       "  <tbody>\n",
       "    <tr>\n",
       "      <th>1098</th>\n",
       "      <td>2016-10-26 21:59:59</td>\n",
       "      <td>153.866395</td>\n",
       "      <td>5.493614</td>\n",
       "      <td>7.45</td>\n",
       "      <td>0.697818</td>\n",
       "      <td>1645.805852</td>\n",
       "      <td>-499.716325</td>\n",
       "      <td>1701.235581</td>\n",
       "      <td>-500.094936</td>\n",
       "      <td>1702.488493</td>\n",
       "      <td>...</td>\n",
       "      <td>16.969908</td>\n",
       "      <td>-500.221575</td>\n",
       "      <td>13.997210</td>\n",
       "      <td>-500.585791</td>\n",
       "      <td>24.993328</td>\n",
       "      <td>-500.741037</td>\n",
       "      <td>89.179114</td>\n",
       "      <td>76.227018</td>\n",
       "      <td>90.929819</td>\n",
       "      <td>76.181774</td>\n",
       "    </tr>\n",
       "    <tr>\n",
       "      <th>789</th>\n",
       "      <td>2016-10-13 22:59:59</td>\n",
       "      <td>202.750119</td>\n",
       "      <td>12.008059</td>\n",
       "      <td>8.08</td>\n",
       "      <td>0.693339</td>\n",
       "      <td>1631.873982</td>\n",
       "      <td>-499.283846</td>\n",
       "      <td>1702.704938</td>\n",
       "      <td>-499.779034</td>\n",
       "      <td>1701.483957</td>\n",
       "      <td>...</td>\n",
       "      <td>10.579428</td>\n",
       "      <td>-493.518149</td>\n",
       "      <td>8.038947</td>\n",
       "      <td>-500.373033</td>\n",
       "      <td>16.998926</td>\n",
       "      <td>-499.756835</td>\n",
       "      <td>88.642793</td>\n",
       "      <td>75.952089</td>\n",
       "      <td>89.436332</td>\n",
       "      <td>75.092431</td>\n",
       "    </tr>\n",
       "    <tr>\n",
       "      <th>4864</th>\n",
       "      <td>2017-12-11 21:59:59</td>\n",
       "      <td>159.218110</td>\n",
       "      <td>10.475866</td>\n",
       "      <td>8.24</td>\n",
       "      <td>0.968343</td>\n",
       "      <td>1552.647709</td>\n",
       "      <td>-499.458425</td>\n",
       "      <td>1551.056910</td>\n",
       "      <td>-500.571240</td>\n",
       "      <td>1550.273613</td>\n",
       "      <td>...</td>\n",
       "      <td>10.970499</td>\n",
       "      <td>-499.104477</td>\n",
       "      <td>7.988255</td>\n",
       "      <td>-499.516784</td>\n",
       "      <td>12.003673</td>\n",
       "      <td>-500.007881</td>\n",
       "      <td>88.714441</td>\n",
       "      <td>75.936510</td>\n",
       "      <td>91.059014</td>\n",
       "      <td>79.448818</td>\n",
       "    </tr>\n",
       "    <tr>\n",
       "      <th>2560</th>\n",
       "      <td>2016-12-29 12:59:59</td>\n",
       "      <td>142.762878</td>\n",
       "      <td>9.051808</td>\n",
       "      <td>8.02</td>\n",
       "      <td>1.081957</td>\n",
       "      <td>1625.406795</td>\n",
       "      <td>-500.089380</td>\n",
       "      <td>1688.626352</td>\n",
       "      <td>-499.339928</td>\n",
       "      <td>1706.042057</td>\n",
       "      <td>...</td>\n",
       "      <td>14.119404</td>\n",
       "      <td>-499.711514</td>\n",
       "      <td>11.977003</td>\n",
       "      <td>-499.511914</td>\n",
       "      <td>20.999498</td>\n",
       "      <td>-499.851805</td>\n",
       "      <td>88.946613</td>\n",
       "      <td>75.777274</td>\n",
       "      <td>85.775524</td>\n",
       "      <td>73.065769</td>\n",
       "    </tr>\n",
       "    <tr>\n",
       "      <th>1100</th>\n",
       "      <td>2016-10-26 23:59:59</td>\n",
       "      <td>159.471023</td>\n",
       "      <td>6.151160</td>\n",
       "      <td>7.45</td>\n",
       "      <td>0.704721</td>\n",
       "      <td>1645.007022</td>\n",
       "      <td>-499.379004</td>\n",
       "      <td>1702.105146</td>\n",
       "      <td>-500.080313</td>\n",
       "      <td>1701.860176</td>\n",
       "      <td>...</td>\n",
       "      <td>17.011571</td>\n",
       "      <td>-499.378893</td>\n",
       "      <td>13.958884</td>\n",
       "      <td>-500.507788</td>\n",
       "      <td>24.981145</td>\n",
       "      <td>-498.906192</td>\n",
       "      <td>88.601967</td>\n",
       "      <td>75.724797</td>\n",
       "      <td>90.001648</td>\n",
       "      <td>75.419914</td>\n",
       "    </tr>\n",
       "  </tbody>\n",
       "</table>\n",
       "<p>5 rows × 57 columns</p>\n",
       "</div>"
      ],
      "text/plain": [
       "                     date  primary_cleaner.input.sulfate  \\\n",
       "1098  2016-10-26 21:59:59                     153.866395   \n",
       "789   2016-10-13 22:59:59                     202.750119   \n",
       "4864  2017-12-11 21:59:59                     159.218110   \n",
       "2560  2016-12-29 12:59:59                     142.762878   \n",
       "1100  2016-10-26 23:59:59                     159.471023   \n",
       "\n",
       "      primary_cleaner.input.depressant  primary_cleaner.input.feed_size  \\\n",
       "1098                          5.493614                             7.45   \n",
       "789                          12.008059                             8.08   \n",
       "4864                         10.475866                             8.24   \n",
       "2560                          9.051808                             8.02   \n",
       "1100                          6.151160                             7.45   \n",
       "\n",
       "      primary_cleaner.input.xanthate  primary_cleaner.state.floatbank8_a_air  \\\n",
       "1098                        0.697818                             1645.805852   \n",
       "789                         0.693339                             1631.873982   \n",
       "4864                        0.968343                             1552.647709   \n",
       "2560                        1.081957                             1625.406795   \n",
       "1100                        0.704721                             1645.007022   \n",
       "\n",
       "      primary_cleaner.state.floatbank8_a_level  \\\n",
       "1098                               -499.716325   \n",
       "789                                -499.283846   \n",
       "4864                               -499.458425   \n",
       "2560                               -500.089380   \n",
       "1100                               -499.379004   \n",
       "\n",
       "      primary_cleaner.state.floatbank8_b_air  \\\n",
       "1098                             1701.235581   \n",
       "789                              1702.704938   \n",
       "4864                             1551.056910   \n",
       "2560                             1688.626352   \n",
       "1100                             1702.105146   \n",
       "\n",
       "      primary_cleaner.state.floatbank8_b_level  \\\n",
       "1098                               -500.094936   \n",
       "789                                -499.779034   \n",
       "4864                               -500.571240   \n",
       "2560                               -499.339928   \n",
       "1100                               -500.080313   \n",
       "\n",
       "      primary_cleaner.state.floatbank8_c_air  ...  \\\n",
       "1098                             1702.488493  ...   \n",
       "789                              1701.483957  ...   \n",
       "4864                             1550.273613  ...   \n",
       "2560                             1706.042057  ...   \n",
       "1100                             1701.860176  ...   \n",
       "\n",
       "      secondary_cleaner.state.floatbank5_a_air  \\\n",
       "1098                                 16.969908   \n",
       "789                                  10.579428   \n",
       "4864                                 10.970499   \n",
       "2560                                 14.119404   \n",
       "1100                                 17.011571   \n",
       "\n",
       "      secondary_cleaner.state.floatbank5_a_level  \\\n",
       "1098                                 -500.221575   \n",
       "789                                  -493.518149   \n",
       "4864                                 -499.104477   \n",
       "2560                                 -499.711514   \n",
       "1100                                 -499.378893   \n",
       "\n",
       "      secondary_cleaner.state.floatbank5_b_air  \\\n",
       "1098                                 13.997210   \n",
       "789                                   8.038947   \n",
       "4864                                  7.988255   \n",
       "2560                                 11.977003   \n",
       "1100                                 13.958884   \n",
       "\n",
       "      secondary_cleaner.state.floatbank5_b_level  \\\n",
       "1098                                 -500.585791   \n",
       "789                                  -500.373033   \n",
       "4864                                 -499.516784   \n",
       "2560                                 -499.511914   \n",
       "1100                                 -500.507788   \n",
       "\n",
       "      secondary_cleaner.state.floatbank6_a_air  \\\n",
       "1098                                 24.993328   \n",
       "789                                  16.998926   \n",
       "4864                                 12.003673   \n",
       "2560                                 20.999498   \n",
       "1100                                 24.981145   \n",
       "\n",
       "      secondary_cleaner.state.floatbank6_a_level  \\\n",
       "1098                                 -500.741037   \n",
       "789                                  -499.756835   \n",
       "4864                                 -500.007881   \n",
       "2560                                 -499.851805   \n",
       "1100                                 -498.906192   \n",
       "\n",
       "      y_test_rougher.output.recovery  y_test_final.output.recovery  \\\n",
       "1098                       89.179114                     76.227018   \n",
       "789                        88.642793                     75.952089   \n",
       "4864                       88.714441                     75.936510   \n",
       "2560                       88.946613                     75.777274   \n",
       "1100                       88.601967                     75.724797   \n",
       "\n",
       "      rougher.output.recovery  final.output.recovery  \n",
       "1098                90.929819              76.181774  \n",
       "789                 89.436332              75.092431  \n",
       "4864                91.059014              79.448818  \n",
       "2560                85.775524              73.065769  \n",
       "1100                90.001648              75.419914  \n",
       "\n",
       "[5 rows x 57 columns]"
      ]
     },
     "execution_count": 60,
     "metadata": {},
     "output_type": "execute_result"
    }
   ],
   "source": [
    "df_test.sort_values('y_test_final.output.recovery', ascending=False).head()"
   ]
  },
  {
   "cell_type": "markdown",
   "metadata": {},
   "source": [
    "## Conclusion\n",
    "The training dataset with extraction and purification parameters was investigated. We checked the concentration of metals at each stage of purification, got rid of anomalies. The distribution of raw material granules in the training and test samples have minor discrepancies, which should not affect the quality of the model. Based on the results of training on the training dataset , the best model was determined using cross validation . We tested the model on a test dataset and compared it with the true values of rougher.output.recovery and final.output.recovery. The final sMAPE metric turned out to be 9.08%"
   ]
  },
  {
   "cell_type": "code",
   "execution_count": null,
   "metadata": {},
   "outputs": [],
   "source": []
  }
 ],
 "metadata": {
  "ExecuteTimeLog": [
   {
    "duration": 972,
    "start_time": "2023-01-25T17:18:57.790Z"
   },
   {
    "duration": 860,
    "start_time": "2023-01-25T17:20:02.599Z"
   },
   {
    "duration": 34,
    "start_time": "2023-01-25T17:20:07.008Z"
   },
   {
    "duration": 2358,
    "start_time": "2023-01-25T17:21:40.899Z"
   },
   {
    "duration": 41,
    "start_time": "2023-01-28T19:30:03.810Z"
   },
   {
    "duration": 1116,
    "start_time": "2023-01-28T19:30:15.469Z"
   },
   {
    "duration": 3381,
    "start_time": "2023-01-28T19:30:16.587Z"
   },
   {
    "duration": 17,
    "start_time": "2023-01-28T19:30:19.970Z"
   },
   {
    "duration": 56,
    "start_time": "2023-01-29T12:53:57.641Z"
   },
   {
    "duration": 1131,
    "start_time": "2023-01-29T12:54:04.789Z"
   },
   {
    "duration": 3229,
    "start_time": "2023-01-29T12:54:05.922Z"
   },
   {
    "duration": 75,
    "start_time": "2023-01-29T12:54:11.433Z"
   },
   {
    "duration": 137,
    "start_time": "2023-01-29T12:54:25.032Z"
   },
   {
    "duration": 28,
    "start_time": "2023-01-29T12:54:37.096Z"
   },
   {
    "duration": 121,
    "start_time": "2023-01-29T12:54:55.232Z"
   },
   {
    "duration": 10,
    "start_time": "2023-01-29T12:58:15.784Z"
   },
   {
    "duration": 12,
    "start_time": "2023-01-29T12:58:29.481Z"
   },
   {
    "duration": 11,
    "start_time": "2023-01-29T12:59:02.328Z"
   },
   {
    "duration": 43,
    "start_time": "2023-01-29T13:00:00.475Z"
   },
   {
    "duration": 31,
    "start_time": "2023-01-29T13:00:16.370Z"
   },
   {
    "duration": 43,
    "start_time": "2023-01-29T13:00:26.273Z"
   },
   {
    "duration": 29,
    "start_time": "2023-01-29T13:09:36.734Z"
   },
   {
    "duration": 267,
    "start_time": "2023-01-29T13:09:51.732Z"
   },
   {
    "duration": 7,
    "start_time": "2023-01-29T13:13:43.574Z"
   },
   {
    "duration": 10,
    "start_time": "2023-01-29T13:14:19.896Z"
   },
   {
    "duration": 7,
    "start_time": "2023-01-29T13:17:24.034Z"
   },
   {
    "duration": 19,
    "start_time": "2023-01-29T13:18:16.345Z"
   },
   {
    "duration": 10,
    "start_time": "2023-01-29T13:18:45.945Z"
   },
   {
    "duration": 11,
    "start_time": "2023-01-29T13:19:27.673Z"
   },
   {
    "duration": 12,
    "start_time": "2023-01-29T13:19:39.252Z"
   },
   {
    "duration": 14,
    "start_time": "2023-01-29T13:20:15.460Z"
   },
   {
    "duration": 12,
    "start_time": "2023-01-29T13:22:13.139Z"
   },
   {
    "duration": 37,
    "start_time": "2023-01-29T13:23:11.643Z"
   },
   {
    "duration": 27,
    "start_time": "2023-01-29T13:24:39.674Z"
   },
   {
    "duration": 73,
    "start_time": "2023-01-29T13:25:54.061Z"
   },
   {
    "duration": 51,
    "start_time": "2023-01-29T13:26:08.051Z"
   },
   {
    "duration": 6975,
    "start_time": "2023-01-29T13:26:47.133Z"
   },
   {
    "duration": 6384,
    "start_time": "2023-01-29T13:27:07.138Z"
   },
   {
    "duration": 6582,
    "start_time": "2023-01-29T13:27:49.162Z"
   },
   {
    "duration": 7315,
    "start_time": "2023-01-29T13:28:01.777Z"
   },
   {
    "duration": 7704,
    "start_time": "2023-01-29T13:28:17.245Z"
   },
   {
    "duration": 9063,
    "start_time": "2023-01-29T13:28:38.323Z"
   },
   {
    "duration": 10944,
    "start_time": "2023-01-29T13:28:53.927Z"
   },
   {
    "duration": 13,
    "start_time": "2023-01-29T13:36:14.637Z"
   },
   {
    "duration": 43,
    "start_time": "2023-01-29T13:43:25.477Z"
   },
   {
    "duration": 10,
    "start_time": "2023-01-29T13:43:57.554Z"
   },
   {
    "duration": 80,
    "start_time": "2023-01-29T13:45:40.961Z"
   },
   {
    "duration": 13,
    "start_time": "2023-01-29T13:45:55.154Z"
   },
   {
    "duration": 71,
    "start_time": "2023-01-29T13:46:03.362Z"
   },
   {
    "duration": 980,
    "start_time": "2023-01-29T13:46:44.848Z"
   },
   {
    "duration": 727,
    "start_time": "2023-01-29T13:46:45.830Z"
   },
   {
    "duration": 130,
    "start_time": "2023-01-29T13:46:46.558Z"
   },
   {
    "duration": 24,
    "start_time": "2023-01-29T13:46:46.689Z"
   },
   {
    "duration": 110,
    "start_time": "2023-01-29T13:46:46.715Z"
   },
   {
    "duration": 8,
    "start_time": "2023-01-29T13:46:46.826Z"
   },
   {
    "duration": 28,
    "start_time": "2023-01-29T13:46:46.836Z"
   },
   {
    "duration": 15,
    "start_time": "2023-01-29T13:46:46.866Z"
   },
   {
    "duration": 10698,
    "start_time": "2023-01-29T13:46:46.883Z"
   },
   {
    "duration": 67,
    "start_time": "2023-01-29T13:46:57.605Z"
   },
   {
    "duration": 4,
    "start_time": "2023-01-29T13:46:57.674Z"
   },
   {
    "duration": 25,
    "start_time": "2023-01-29T13:46:57.680Z"
   },
   {
    "duration": 1100,
    "start_time": "2023-01-29T13:47:31.954Z"
   },
   {
    "duration": 696,
    "start_time": "2023-01-29T13:47:33.057Z"
   },
   {
    "duration": 145,
    "start_time": "2023-01-29T13:47:33.754Z"
   },
   {
    "duration": 25,
    "start_time": "2023-01-29T13:47:33.901Z"
   },
   {
    "duration": 121,
    "start_time": "2023-01-29T13:47:33.928Z"
   },
   {
    "duration": 10,
    "start_time": "2023-01-29T13:47:34.051Z"
   },
   {
    "duration": 23,
    "start_time": "2023-01-29T13:47:34.062Z"
   },
   {
    "duration": 61,
    "start_time": "2023-01-29T13:47:34.087Z"
   },
   {
    "duration": 11195,
    "start_time": "2023-01-29T13:47:34.150Z"
   },
   {
    "duration": 59,
    "start_time": "2023-01-29T13:47:45.347Z"
   },
   {
    "duration": 8,
    "start_time": "2023-01-29T13:47:45.408Z"
   },
   {
    "duration": 32,
    "start_time": "2023-01-29T13:47:45.417Z"
   },
   {
    "duration": 5,
    "start_time": "2023-01-29T13:48:26.365Z"
   },
   {
    "duration": 6,
    "start_time": "2023-01-29T13:48:48.989Z"
   },
   {
    "duration": 11526,
    "start_time": "2023-01-29T13:53:06.901Z"
   },
   {
    "duration": 5,
    "start_time": "2023-01-29T14:11:19.948Z"
   },
   {
    "duration": 93,
    "start_time": "2023-01-29T14:17:19.202Z"
   },
   {
    "duration": 5,
    "start_time": "2023-01-29T14:17:30.843Z"
   },
   {
    "duration": 12,
    "start_time": "2023-01-29T14:17:47.360Z"
   },
   {
    "duration": 10,
    "start_time": "2023-01-29T14:18:03.444Z"
   },
   {
    "duration": 4,
    "start_time": "2023-01-29T14:18:11.075Z"
   },
   {
    "duration": 1083,
    "start_time": "2023-01-29T14:18:28.974Z"
   },
   {
    "duration": 707,
    "start_time": "2023-01-29T14:18:30.059Z"
   },
   {
    "duration": 132,
    "start_time": "2023-01-29T14:18:30.768Z"
   },
   {
    "duration": 24,
    "start_time": "2023-01-29T14:18:30.901Z"
   },
   {
    "duration": 113,
    "start_time": "2023-01-29T14:18:30.927Z"
   },
   {
    "duration": 9,
    "start_time": "2023-01-29T14:18:31.042Z"
   },
   {
    "duration": 7,
    "start_time": "2023-01-29T14:18:31.053Z"
   },
   {
    "duration": 24,
    "start_time": "2023-01-29T14:18:31.061Z"
   },
   {
    "duration": 11469,
    "start_time": "2023-01-29T14:18:31.087Z"
   },
   {
    "duration": 57,
    "start_time": "2023-01-29T14:18:42.558Z"
   },
   {
    "duration": 8,
    "start_time": "2023-01-29T14:18:42.616Z"
   },
   {
    "duration": 8,
    "start_time": "2023-01-29T14:18:42.626Z"
   },
   {
    "duration": 8,
    "start_time": "2023-01-29T14:18:42.636Z"
   },
   {
    "duration": 10,
    "start_time": "2023-01-29T14:18:42.646Z"
   },
   {
    "duration": 9,
    "start_time": "2023-01-29T14:19:07.509Z"
   },
   {
    "duration": 7,
    "start_time": "2023-01-29T14:19:15.477Z"
   },
   {
    "duration": 8,
    "start_time": "2023-01-29T14:22:17.055Z"
   },
   {
    "duration": 6,
    "start_time": "2023-01-29T14:22:26.741Z"
   },
   {
    "duration": 9,
    "start_time": "2023-01-29T14:33:55.948Z"
   },
   {
    "duration": 95,
    "start_time": "2023-01-29T14:34:44.157Z"
   },
   {
    "duration": 6,
    "start_time": "2023-01-29T14:34:57.357Z"
   },
   {
    "duration": 3,
    "start_time": "2023-01-29T14:36:02.594Z"
   },
   {
    "duration": 4,
    "start_time": "2023-01-29T14:36:35.760Z"
   },
   {
    "duration": 2,
    "start_time": "2023-01-29T14:42:18.606Z"
   },
   {
    "duration": 2,
    "start_time": "2023-01-29T14:42:22.855Z"
   },
   {
    "duration": 3,
    "start_time": "2023-01-29T14:46:47.087Z"
   },
   {
    "duration": 1229,
    "start_time": "2023-01-29T14:51:47.904Z"
   },
   {
    "duration": 635,
    "start_time": "2023-01-29T14:51:49.135Z"
   },
   {
    "duration": 9,
    "start_time": "2023-01-29T14:51:49.772Z"
   },
   {
    "duration": 6,
    "start_time": "2023-01-29T14:51:49.782Z"
   },
   {
    "duration": 8,
    "start_time": "2023-01-29T14:51:49.790Z"
   },
   {
    "duration": 128,
    "start_time": "2023-01-29T14:51:49.800Z"
   },
   {
    "duration": 22,
    "start_time": "2023-01-29T14:51:49.930Z"
   },
   {
    "duration": 115,
    "start_time": "2023-01-29T14:51:49.954Z"
   },
   {
    "duration": 17,
    "start_time": "2023-01-29T14:51:50.070Z"
   },
   {
    "duration": 6,
    "start_time": "2023-01-29T14:51:50.088Z"
   },
   {
    "duration": 15,
    "start_time": "2023-01-29T14:51:50.095Z"
   },
   {
    "duration": 10992,
    "start_time": "2023-01-29T14:51:50.111Z"
   },
   {
    "duration": 56,
    "start_time": "2023-01-29T14:52:01.125Z"
   },
   {
    "duration": 8,
    "start_time": "2023-01-29T14:52:01.184Z"
   },
   {
    "duration": 21,
    "start_time": "2023-01-29T14:52:01.193Z"
   },
   {
    "duration": 32,
    "start_time": "2023-01-29T14:52:01.216Z"
   },
   {
    "duration": 79,
    "start_time": "2023-01-29T14:53:13.886Z"
   },
   {
    "duration": 134,
    "start_time": "2023-01-29T14:53:42.554Z"
   },
   {
    "duration": 44,
    "start_time": "2023-01-29T14:53:50.020Z"
   },
   {
    "duration": 54,
    "start_time": "2023-01-29T14:54:15.789Z"
   },
   {
    "duration": 43,
    "start_time": "2023-01-29T14:54:20.154Z"
   },
   {
    "duration": 637,
    "start_time": "2023-01-29T14:54:32.347Z"
   },
   {
    "duration": 3168,
    "start_time": "2023-01-29T14:55:30.971Z"
   },
   {
    "duration": 3215,
    "start_time": "2023-01-29T14:58:14.502Z"
   },
   {
    "duration": 10,
    "start_time": "2023-01-29T15:09:01.494Z"
   },
   {
    "duration": 510,
    "start_time": "2023-01-29T15:09:21.762Z"
   },
   {
    "duration": 134,
    "start_time": "2023-01-29T15:10:19.903Z"
   },
   {
    "duration": 290,
    "start_time": "2023-01-29T15:10:26.069Z"
   },
   {
    "duration": 274,
    "start_time": "2023-01-29T15:10:29.501Z"
   },
   {
    "duration": 5,
    "start_time": "2023-01-29T15:12:14.126Z"
   },
   {
    "duration": 468,
    "start_time": "2023-01-29T15:12:41.420Z"
   },
   {
    "duration": 596,
    "start_time": "2023-01-29T15:13:00.409Z"
   },
   {
    "duration": 559,
    "start_time": "2023-01-29T15:13:06.030Z"
   },
   {
    "duration": 539,
    "start_time": "2023-01-29T15:13:46.428Z"
   },
   {
    "duration": 702,
    "start_time": "2023-01-29T15:14:44.240Z"
   },
   {
    "duration": 100,
    "start_time": "2023-01-29T15:19:26.217Z"
   },
   {
    "duration": 101,
    "start_time": "2023-01-29T15:19:47.516Z"
   },
   {
    "duration": 104,
    "start_time": "2023-01-29T15:22:44.279Z"
   },
   {
    "duration": 10,
    "start_time": "2023-01-29T15:23:36.478Z"
   },
   {
    "duration": 141,
    "start_time": "2023-01-29T15:23:47.336Z"
   },
   {
    "duration": 6,
    "start_time": "2023-01-29T15:26:06.376Z"
   },
   {
    "duration": 702,
    "start_time": "2023-01-29T15:26:31.081Z"
   },
   {
    "duration": 101,
    "start_time": "2023-01-29T15:26:43.396Z"
   },
   {
    "duration": 11,
    "start_time": "2023-01-29T15:27:34.457Z"
   },
   {
    "duration": 8,
    "start_time": "2023-01-29T15:28:04.024Z"
   },
   {
    "duration": 841,
    "start_time": "2023-01-29T15:28:39.545Z"
   },
   {
    "duration": 640,
    "start_time": "2023-01-29T15:30:12.486Z"
   },
   {
    "duration": 8,
    "start_time": "2023-01-29T15:32:05.635Z"
   },
   {
    "duration": 8,
    "start_time": "2023-01-29T15:32:10.018Z"
   },
   {
    "duration": 10,
    "start_time": "2023-01-29T15:33:04.422Z"
   },
   {
    "duration": 86,
    "start_time": "2023-01-29T15:34:41.957Z"
   },
   {
    "duration": 8,
    "start_time": "2023-01-29T15:37:53.180Z"
   },
   {
    "duration": 134,
    "start_time": "2023-01-29T15:38:13.474Z"
   },
   {
    "duration": 105,
    "start_time": "2023-01-29T15:38:43.115Z"
   },
   {
    "duration": 151,
    "start_time": "2023-01-29T15:43:33.954Z"
   },
   {
    "duration": 895,
    "start_time": "2023-01-29T15:47:11.800Z"
   },
   {
    "duration": 727,
    "start_time": "2023-01-29T15:47:29.741Z"
   },
   {
    "duration": 8,
    "start_time": "2023-01-29T15:49:44.775Z"
   },
   {
    "duration": 138,
    "start_time": "2023-01-29T15:49:45.496Z"
   },
   {
    "duration": 7,
    "start_time": "2023-01-29T15:49:55.840Z"
   },
   {
    "duration": 298,
    "start_time": "2023-01-29T15:50:10.509Z"
   },
   {
    "duration": 149,
    "start_time": "2023-01-29T15:50:28.960Z"
   },
   {
    "duration": 7,
    "start_time": "2023-01-29T15:51:42.120Z"
   },
   {
    "duration": 164,
    "start_time": "2023-01-29T15:51:43.581Z"
   },
   {
    "duration": 153,
    "start_time": "2023-01-29T15:53:22.039Z"
   },
   {
    "duration": 11,
    "start_time": "2023-01-29T16:07:36.649Z"
   },
   {
    "duration": 8,
    "start_time": "2023-01-29T16:07:47.382Z"
   },
   {
    "duration": 6,
    "start_time": "2023-01-29T16:09:40.683Z"
   },
   {
    "duration": 6,
    "start_time": "2023-01-29T16:09:41.343Z"
   },
   {
    "duration": 360,
    "start_time": "2023-01-29T16:13:13.281Z"
   },
   {
    "duration": 312,
    "start_time": "2023-01-29T16:13:22.566Z"
   },
   {
    "duration": 175,
    "start_time": "2023-01-29T16:13:48.699Z"
   },
   {
    "duration": 152,
    "start_time": "2023-01-29T16:14:10.629Z"
   },
   {
    "duration": 166,
    "start_time": "2023-01-29T16:14:21.879Z"
   },
   {
    "duration": 209,
    "start_time": "2023-01-29T16:14:46.780Z"
   },
   {
    "duration": 172,
    "start_time": "2023-01-29T16:17:55.916Z"
   },
   {
    "duration": 142,
    "start_time": "2023-01-29T16:18:34.546Z"
   },
   {
    "duration": 140,
    "start_time": "2023-01-29T16:19:12.388Z"
   },
   {
    "duration": 137,
    "start_time": "2023-01-29T16:26:16.833Z"
   },
   {
    "duration": 126,
    "start_time": "2023-01-29T16:26:33.166Z"
   },
   {
    "duration": 403,
    "start_time": "2023-01-29T16:27:46.263Z"
   },
   {
    "duration": 550,
    "start_time": "2023-01-29T16:28:04.187Z"
   },
   {
    "duration": 359,
    "start_time": "2023-01-29T16:28:22.224Z"
   },
   {
    "duration": 134,
    "start_time": "2023-01-29T16:28:53.217Z"
   },
   {
    "duration": 136,
    "start_time": "2023-01-29T16:29:12.625Z"
   },
   {
    "duration": 144,
    "start_time": "2023-01-29T16:29:26.038Z"
   },
   {
    "duration": 107,
    "start_time": "2023-01-29T16:29:35.082Z"
   },
   {
    "duration": 124,
    "start_time": "2023-01-29T16:29:41.126Z"
   },
   {
    "duration": 131,
    "start_time": "2023-01-29T16:29:59.003Z"
   },
   {
    "duration": 222,
    "start_time": "2023-01-29T16:31:18.235Z"
   },
   {
    "duration": 367,
    "start_time": "2023-01-29T16:31:31.377Z"
   },
   {
    "duration": 277,
    "start_time": "2023-01-29T16:31:45.451Z"
   },
   {
    "duration": 264,
    "start_time": "2023-01-29T16:32:14.406Z"
   },
   {
    "duration": 278,
    "start_time": "2023-01-29T16:33:00.417Z"
   },
   {
    "duration": 306,
    "start_time": "2023-01-29T16:33:18.986Z"
   },
   {
    "duration": 298,
    "start_time": "2023-01-29T16:33:25.066Z"
   },
   {
    "duration": 292,
    "start_time": "2023-01-29T16:33:43.138Z"
   },
   {
    "duration": 856,
    "start_time": "2023-01-29T16:35:38.491Z"
   },
   {
    "duration": 999,
    "start_time": "2023-01-29T16:36:30.993Z"
   },
   {
    "duration": 1291,
    "start_time": "2023-01-29T16:37:23.493Z"
   },
   {
    "duration": 1247,
    "start_time": "2023-01-29T16:39:34.499Z"
   },
   {
    "duration": 1188,
    "start_time": "2023-01-29T16:40:43.182Z"
   },
   {
    "duration": 1129,
    "start_time": "2023-01-29T16:43:40.930Z"
   },
   {
    "duration": 1169,
    "start_time": "2023-01-29T16:43:58.718Z"
   },
   {
    "duration": 1063,
    "start_time": "2023-01-29T16:44:15.610Z"
   },
   {
    "duration": 265,
    "start_time": "2023-01-29T16:47:40.932Z"
   },
   {
    "duration": 288,
    "start_time": "2023-01-29T16:48:18.557Z"
   },
   {
    "duration": 1175,
    "start_time": "2023-01-29T16:51:37.491Z"
   },
   {
    "duration": 1182,
    "start_time": "2023-01-29T16:51:57.200Z"
   },
   {
    "duration": 952,
    "start_time": "2023-01-29T16:52:22.072Z"
   },
   {
    "duration": 1343,
    "start_time": "2023-01-29T16:52:55.729Z"
   },
   {
    "duration": 1181,
    "start_time": "2023-01-29T16:53:22.360Z"
   },
   {
    "duration": 1024,
    "start_time": "2023-01-29T16:53:39.302Z"
   },
   {
    "duration": 1195,
    "start_time": "2023-01-29T16:54:24.076Z"
   },
   {
    "duration": 1138,
    "start_time": "2023-01-29T16:54:47.265Z"
   },
   {
    "duration": 1030,
    "start_time": "2023-01-29T16:55:41.870Z"
   },
   {
    "duration": 1244,
    "start_time": "2023-01-29T16:55:56.680Z"
   },
   {
    "duration": 1024,
    "start_time": "2023-01-29T16:56:21.939Z"
   },
   {
    "duration": 1180,
    "start_time": "2023-01-29T16:56:49.421Z"
   },
   {
    "duration": 3,
    "start_time": "2023-01-29T16:57:24.868Z"
   },
   {
    "duration": 3,
    "start_time": "2023-01-29T16:57:25.164Z"
   },
   {
    "duration": 1199,
    "start_time": "2023-01-29T16:57:27.357Z"
   },
   {
    "duration": 999,
    "start_time": "2023-01-29T16:58:02.982Z"
   },
   {
    "duration": 768,
    "start_time": "2023-01-29T17:28:50.057Z"
   },
   {
    "duration": 3081,
    "start_time": "2023-01-29T17:29:04.046Z"
   },
   {
    "duration": 1840,
    "start_time": "2023-01-29T17:29:29.658Z"
   },
   {
    "duration": 1701,
    "start_time": "2023-01-29T17:30:08.521Z"
   },
   {
    "duration": 1858,
    "start_time": "2023-01-29T17:30:30.483Z"
   },
   {
    "duration": 1630,
    "start_time": "2023-01-29T17:30:48.633Z"
   },
   {
    "duration": 7,
    "start_time": "2023-01-29T17:48:55.811Z"
   },
   {
    "duration": 88,
    "start_time": "2023-01-29T17:49:27.179Z"
   },
   {
    "duration": 5,
    "start_time": "2023-01-29T17:50:24.388Z"
   },
   {
    "duration": 9,
    "start_time": "2023-01-29T17:50:33.971Z"
   },
   {
    "duration": 9,
    "start_time": "2023-01-29T18:00:35.454Z"
   },
   {
    "duration": 112,
    "start_time": "2023-01-29T18:06:13.817Z"
   },
   {
    "duration": 12,
    "start_time": "2023-01-29T18:09:17.738Z"
   },
   {
    "duration": 8,
    "start_time": "2023-01-29T18:09:28.893Z"
   },
   {
    "duration": 8,
    "start_time": "2023-01-29T18:12:26.763Z"
   },
   {
    "duration": 686,
    "start_time": "2023-01-29T18:14:21.310Z"
   },
   {
    "duration": 8,
    "start_time": "2023-01-29T18:14:35.042Z"
   },
   {
    "duration": 10,
    "start_time": "2023-01-29T18:22:00.361Z"
   },
   {
    "duration": 3,
    "start_time": "2023-01-29T18:23:29.272Z"
   },
   {
    "duration": 89,
    "start_time": "2023-01-29T18:24:23.270Z"
   },
   {
    "duration": 120,
    "start_time": "2023-01-29T18:24:33.952Z"
   },
   {
    "duration": 13,
    "start_time": "2023-01-29T18:25:21.306Z"
   },
   {
    "duration": 3,
    "start_time": "2023-01-29T18:25:21.923Z"
   },
   {
    "duration": 314,
    "start_time": "2023-01-29T18:25:22.540Z"
   },
   {
    "duration": 3,
    "start_time": "2023-01-29T18:26:15.112Z"
   },
   {
    "duration": 143,
    "start_time": "2023-01-29T18:26:19.464Z"
   },
   {
    "duration": 3,
    "start_time": "2023-01-29T18:30:57.072Z"
   },
   {
    "duration": 5,
    "start_time": "2023-01-29T18:44:55.029Z"
   },
   {
    "duration": 3,
    "start_time": "2023-01-29T18:57:02.633Z"
   },
   {
    "duration": 4,
    "start_time": "2023-01-29T18:58:38.151Z"
   },
   {
    "duration": 56,
    "start_time": "2023-01-29T19:02:54.282Z"
   },
   {
    "duration": 3,
    "start_time": "2023-01-29T19:03:01.654Z"
   },
   {
    "duration": 3,
    "start_time": "2023-01-29T19:03:02.898Z"
   },
   {
    "duration": 4,
    "start_time": "2023-01-29T19:05:19.227Z"
   },
   {
    "duration": 6,
    "start_time": "2023-01-29T19:05:51.570Z"
   },
   {
    "duration": 6,
    "start_time": "2023-01-29T19:06:00.591Z"
   },
   {
    "duration": 4,
    "start_time": "2023-01-29T19:06:08.024Z"
   },
   {
    "duration": 2,
    "start_time": "2023-01-29T19:08:00.434Z"
   },
   {
    "duration": 6,
    "start_time": "2023-01-29T19:08:56.403Z"
   },
   {
    "duration": 3,
    "start_time": "2023-01-29T19:09:01.948Z"
   },
   {
    "duration": 5,
    "start_time": "2023-01-29T19:09:35.327Z"
   },
   {
    "duration": 2,
    "start_time": "2023-01-29T19:17:52.676Z"
   },
   {
    "duration": 1463,
    "start_time": "2023-01-29T19:19:03.822Z"
   },
   {
    "duration": 4,
    "start_time": "2023-01-29T19:19:08.421Z"
   },
   {
    "duration": 2584,
    "start_time": "2023-01-29T19:20:23.297Z"
   },
   {
    "duration": 4,
    "start_time": "2023-01-29T19:20:37.180Z"
   },
   {
    "duration": 5,
    "start_time": "2023-01-29T19:27:02.178Z"
   },
   {
    "duration": 6,
    "start_time": "2023-01-29T19:27:16.619Z"
   },
   {
    "duration": 4,
    "start_time": "2023-01-29T19:27:58.199Z"
   },
   {
    "duration": 4,
    "start_time": "2023-01-29T19:28:09.290Z"
   },
   {
    "duration": 4,
    "start_time": "2023-01-29T19:29:05.298Z"
   },
   {
    "duration": 1286,
    "start_time": "2023-01-29T19:33:42.634Z"
   },
   {
    "duration": 678,
    "start_time": "2023-01-29T19:33:43.922Z"
   },
   {
    "duration": 7,
    "start_time": "2023-01-29T19:33:44.602Z"
   },
   {
    "duration": 14,
    "start_time": "2023-01-29T19:33:44.610Z"
   },
   {
    "duration": 14,
    "start_time": "2023-01-29T19:33:44.627Z"
   },
   {
    "duration": 132,
    "start_time": "2023-01-29T19:33:44.643Z"
   },
   {
    "duration": 26,
    "start_time": "2023-01-29T19:33:44.776Z"
   },
   {
    "duration": 108,
    "start_time": "2023-01-29T19:33:44.804Z"
   },
   {
    "duration": 10,
    "start_time": "2023-01-29T19:33:44.913Z"
   },
   {
    "duration": 7,
    "start_time": "2023-01-29T19:33:44.925Z"
   },
   {
    "duration": 10,
    "start_time": "2023-01-29T19:33:44.934Z"
   },
   {
    "duration": 11778,
    "start_time": "2023-01-29T19:33:44.946Z"
   },
   {
    "duration": 74,
    "start_time": "2023-01-29T19:33:56.726Z"
   },
   {
    "duration": 9,
    "start_time": "2023-01-29T19:33:56.803Z"
   },
   {
    "duration": 23,
    "start_time": "2023-01-29T19:33:56.814Z"
   },
   {
    "duration": 750,
    "start_time": "2023-01-29T19:33:56.838Z"
   },
   {
    "duration": 10,
    "start_time": "2023-01-29T19:33:57.590Z"
   },
   {
    "duration": 7,
    "start_time": "2023-01-29T19:33:57.602Z"
   },
   {
    "duration": 7,
    "start_time": "2023-01-29T19:33:57.611Z"
   },
   {
    "duration": 186,
    "start_time": "2023-01-29T19:33:57.620Z"
   },
   {
    "duration": 3,
    "start_time": "2023-01-29T19:33:57.808Z"
   },
   {
    "duration": 7,
    "start_time": "2023-01-29T19:33:57.812Z"
   },
   {
    "duration": 2241,
    "start_time": "2023-01-29T19:33:57.820Z"
   },
   {
    "duration": 27,
    "start_time": "2023-01-29T19:34:00.063Z"
   },
   {
    "duration": 3,
    "start_time": "2023-01-29T19:34:00.092Z"
   },
   {
    "duration": 153,
    "start_time": "2023-01-29T19:34:00.097Z"
   },
   {
    "duration": 7,
    "start_time": "2023-01-29T19:34:00.252Z"
   },
   {
    "duration": 26,
    "start_time": "2023-01-29T19:34:00.260Z"
   },
   {
    "duration": 30,
    "start_time": "2023-01-29T19:34:00.288Z"
   },
   {
    "duration": 15,
    "start_time": "2023-01-29T19:34:00.320Z"
   },
   {
    "duration": 20,
    "start_time": "2023-01-29T19:34:00.337Z"
   },
   {
    "duration": 18,
    "start_time": "2023-01-29T19:34:00.359Z"
   },
   {
    "duration": 14,
    "start_time": "2023-01-29T19:34:00.379Z"
   },
   {
    "duration": 1299,
    "start_time": "2023-01-29T19:34:00.395Z"
   },
   {
    "duration": 1306,
    "start_time": "2023-01-29T19:34:01.695Z"
   },
   {
    "duration": 6,
    "start_time": "2023-01-29T19:34:03.003Z"
   },
   {
    "duration": 74,
    "start_time": "2023-01-29T19:34:03.011Z"
   },
   {
    "duration": 267124,
    "start_time": "2023-01-29T19:34:03.087Z"
   },
   {
    "duration": 264092,
    "start_time": "2023-01-29T19:38:30.213Z"
   },
   {
    "duration": 6,
    "start_time": "2023-01-29T19:42:54.307Z"
   },
   {
    "duration": 4,
    "start_time": "2023-01-29T19:52:57.627Z"
   },
   {
    "duration": 103,
    "start_time": "2023-01-29T19:57:42.468Z"
   },
   {
    "duration": 3,
    "start_time": "2023-01-29T19:57:46.000Z"
   },
   {
    "duration": 3,
    "start_time": "2023-01-29T19:57:46.526Z"
   },
   {
    "duration": 702372,
    "start_time": "2023-01-29T19:58:08.420Z"
   },
   {
    "duration": 4,
    "start_time": "2023-01-29T20:09:50.794Z"
   },
   {
    "duration": 696011,
    "start_time": "2023-01-29T20:09:50.800Z"
   },
   {
    "duration": 4,
    "start_time": "2023-01-29T20:21:26.813Z"
   },
   {
    "duration": 29,
    "start_time": "2023-01-29T20:43:10.145Z"
   },
   {
    "duration": 29,
    "start_time": "2023-01-29T20:43:19.859Z"
   },
   {
    "duration": 30,
    "start_time": "2023-01-29T20:44:06.994Z"
   },
   {
    "duration": 37,
    "start_time": "2023-01-29T20:44:24.817Z"
   },
   {
    "duration": 1396,
    "start_time": "2023-01-29T20:51:11.016Z"
   },
   {
    "duration": 671,
    "start_time": "2023-01-29T20:51:12.414Z"
   },
   {
    "duration": 7,
    "start_time": "2023-01-29T20:51:13.087Z"
   },
   {
    "duration": 19,
    "start_time": "2023-01-29T20:51:13.095Z"
   },
   {
    "duration": 13,
    "start_time": "2023-01-29T20:51:13.116Z"
   },
   {
    "duration": 123,
    "start_time": "2023-01-29T20:51:13.131Z"
   },
   {
    "duration": 47,
    "start_time": "2023-01-29T20:51:13.256Z"
   },
   {
    "duration": 114,
    "start_time": "2023-01-29T20:51:13.305Z"
   },
   {
    "duration": 10,
    "start_time": "2023-01-29T20:51:13.420Z"
   },
   {
    "duration": 7,
    "start_time": "2023-01-29T20:51:13.432Z"
   },
   {
    "duration": 11,
    "start_time": "2023-01-29T20:51:13.441Z"
   },
   {
    "duration": 11608,
    "start_time": "2023-01-29T20:51:13.454Z"
   },
   {
    "duration": 84,
    "start_time": "2023-01-29T20:51:25.065Z"
   },
   {
    "duration": 29,
    "start_time": "2023-01-29T20:51:25.153Z"
   },
   {
    "duration": 7,
    "start_time": "2023-01-29T20:51:25.184Z"
   },
   {
    "duration": 741,
    "start_time": "2023-01-29T20:51:25.193Z"
   },
   {
    "duration": 5,
    "start_time": "2023-01-29T20:51:25.936Z"
   },
   {
    "duration": 17,
    "start_time": "2023-01-29T20:51:25.943Z"
   },
   {
    "duration": 25,
    "start_time": "2023-01-29T20:51:25.962Z"
   },
   {
    "duration": 150,
    "start_time": "2023-01-29T20:51:25.988Z"
   },
   {
    "duration": 3,
    "start_time": "2023-01-29T20:51:26.140Z"
   },
   {
    "duration": 30,
    "start_time": "2023-01-29T20:51:26.145Z"
   },
   {
    "duration": 2166,
    "start_time": "2023-01-29T20:51:26.177Z"
   },
   {
    "duration": 10,
    "start_time": "2023-01-29T20:51:28.345Z"
   },
   {
    "duration": 11,
    "start_time": "2023-01-29T20:51:28.357Z"
   },
   {
    "duration": 146,
    "start_time": "2023-01-29T20:51:28.369Z"
   },
   {
    "duration": 7,
    "start_time": "2023-01-29T20:51:28.516Z"
   },
   {
    "duration": 7,
    "start_time": "2023-01-29T20:51:28.525Z"
   },
   {
    "duration": 6,
    "start_time": "2023-01-29T20:51:28.533Z"
   },
   {
    "duration": 10,
    "start_time": "2023-01-29T20:51:28.540Z"
   },
   {
    "duration": 11,
    "start_time": "2023-01-29T20:51:28.552Z"
   },
   {
    "duration": 17,
    "start_time": "2023-01-29T20:51:28.565Z"
   },
   {
    "duration": 17,
    "start_time": "2023-01-29T20:51:28.583Z"
   },
   {
    "duration": 1486,
    "start_time": "2023-01-29T20:51:28.601Z"
   },
   {
    "duration": 1493,
    "start_time": "2023-01-29T20:51:30.091Z"
   },
   {
    "duration": 11,
    "start_time": "2023-01-29T20:51:31.589Z"
   },
   {
    "duration": 81,
    "start_time": "2023-01-29T20:51:31.602Z"
   },
   {
    "duration": 32,
    "start_time": "2023-01-29T20:51:31.686Z"
   },
   {
    "duration": 19,
    "start_time": "2023-01-29T20:51:31.720Z"
   },
   {
    "duration": 699203,
    "start_time": "2023-01-29T20:51:31.741Z"
   },
   {
    "duration": 3,
    "start_time": "2023-01-29T21:03:10.947Z"
   },
   {
    "duration": 10,
    "start_time": "2023-01-29T21:03:10.951Z"
   },
   {
    "duration": 139972,
    "start_time": "2023-01-29T21:03:10.962Z"
   },
   {
    "duration": 0,
    "start_time": "2023-01-29T21:05:30.935Z"
   },
   {
    "duration": 0,
    "start_time": "2023-01-29T21:05:30.937Z"
   },
   {
    "duration": 677231,
    "start_time": "2023-01-29T21:05:51.979Z"
   },
   {
    "duration": 3,
    "start_time": "2023-01-29T21:17:09.211Z"
   },
   {
    "duration": 9,
    "start_time": "2023-01-29T21:17:09.215Z"
   },
   {
    "duration": 9,
    "start_time": "2023-01-29T21:20:38.932Z"
   },
   {
    "duration": 4,
    "start_time": "2023-01-29T21:22:42.271Z"
   },
   {
    "duration": 4,
    "start_time": "2023-01-29T21:22:49.876Z"
   },
   {
    "duration": 9,
    "start_time": "2023-01-29T21:23:34.843Z"
   },
   {
    "duration": 20,
    "start_time": "2023-01-29T21:26:25.749Z"
   },
   {
    "duration": 4,
    "start_time": "2023-01-29T21:26:32.550Z"
   },
   {
    "duration": 22,
    "start_time": "2023-01-29T21:26:53.286Z"
   },
   {
    "duration": 4,
    "start_time": "2023-01-29T21:26:59.245Z"
   },
   {
    "duration": 3,
    "start_time": "2023-01-29T21:29:00.644Z"
   },
   {
    "duration": 3,
    "start_time": "2023-01-29T21:29:24.056Z"
   },
   {
    "duration": 29,
    "start_time": "2023-01-29T21:29:30.055Z"
   },
   {
    "duration": 29,
    "start_time": "2023-01-29T21:30:17.013Z"
   },
   {
    "duration": 82,
    "start_time": "2023-01-29T21:37:33.932Z"
   },
   {
    "duration": 8,
    "start_time": "2023-01-29T21:38:11.111Z"
   },
   {
    "duration": 4,
    "start_time": "2023-01-29T21:38:24.137Z"
   },
   {
    "duration": 26,
    "start_time": "2023-01-29T21:39:37.674Z"
   },
   {
    "duration": 16,
    "start_time": "2023-01-29T21:39:46.243Z"
   },
   {
    "duration": 28,
    "start_time": "2023-01-29T21:39:54.317Z"
   },
   {
    "duration": 9,
    "start_time": "2023-01-29T21:40:01.693Z"
   },
   {
    "duration": 7,
    "start_time": "2023-01-29T21:44:05.167Z"
   },
   {
    "duration": 3,
    "start_time": "2023-01-29T21:44:11.358Z"
   },
   {
    "duration": 3,
    "start_time": "2023-01-29T21:49:29.336Z"
   },
   {
    "duration": 4,
    "start_time": "2023-01-29T21:49:52.871Z"
   },
   {
    "duration": 4,
    "start_time": "2023-01-29T21:50:15.659Z"
   },
   {
    "duration": 2,
    "start_time": "2023-01-29T21:51:46.845Z"
   },
   {
    "duration": 10,
    "start_time": "2023-01-29T21:54:16.684Z"
   },
   {
    "duration": 5,
    "start_time": "2023-01-29T21:55:19.925Z"
   },
   {
    "duration": 24,
    "start_time": "2023-01-29T22:03:34.882Z"
   },
   {
    "duration": 1309,
    "start_time": "2023-01-29T22:14:54.085Z"
   },
   {
    "duration": 657,
    "start_time": "2023-01-29T22:14:55.396Z"
   },
   {
    "duration": 7,
    "start_time": "2023-01-29T22:14:56.055Z"
   },
   {
    "duration": 17,
    "start_time": "2023-01-29T22:14:56.064Z"
   },
   {
    "duration": 7,
    "start_time": "2023-01-29T22:14:56.083Z"
   },
   {
    "duration": 137,
    "start_time": "2023-01-29T22:14:56.091Z"
   },
   {
    "duration": 24,
    "start_time": "2023-01-29T22:14:56.230Z"
   },
   {
    "duration": 134,
    "start_time": "2023-01-29T22:14:56.256Z"
   },
   {
    "duration": 10,
    "start_time": "2023-01-29T22:14:56.392Z"
   },
   {
    "duration": 7,
    "start_time": "2023-01-29T22:14:56.405Z"
   },
   {
    "duration": 10,
    "start_time": "2023-01-29T22:14:56.414Z"
   },
   {
    "duration": 10984,
    "start_time": "2023-01-29T22:14:56.426Z"
   },
   {
    "duration": 82,
    "start_time": "2023-01-29T22:15:07.412Z"
   },
   {
    "duration": 10,
    "start_time": "2023-01-29T22:15:07.496Z"
   },
   {
    "duration": 24,
    "start_time": "2023-01-29T22:15:07.508Z"
   },
   {
    "duration": 682,
    "start_time": "2023-01-29T22:15:07.533Z"
   },
   {
    "duration": 5,
    "start_time": "2023-01-29T22:15:08.216Z"
   },
   {
    "duration": 26,
    "start_time": "2023-01-29T22:15:08.222Z"
   },
   {
    "duration": 29,
    "start_time": "2023-01-29T22:15:08.249Z"
   },
   {
    "duration": 146,
    "start_time": "2023-01-29T22:15:08.280Z"
   },
   {
    "duration": 4,
    "start_time": "2023-01-29T22:15:08.432Z"
   },
   {
    "duration": 24,
    "start_time": "2023-01-29T22:15:08.437Z"
   },
   {
    "duration": 1969,
    "start_time": "2023-01-29T22:15:08.462Z"
   },
   {
    "duration": 10,
    "start_time": "2023-01-29T22:15:10.433Z"
   },
   {
    "duration": 3,
    "start_time": "2023-01-29T22:15:10.444Z"
   },
   {
    "duration": 143,
    "start_time": "2023-01-29T22:15:10.448Z"
   },
   {
    "duration": 3,
    "start_time": "2023-01-29T22:15:10.592Z"
   },
   {
    "duration": 5,
    "start_time": "2023-01-29T22:15:10.598Z"
   },
   {
    "duration": 8,
    "start_time": "2023-01-29T22:15:10.605Z"
   },
   {
    "duration": 9,
    "start_time": "2023-01-29T22:15:10.614Z"
   },
   {
    "duration": 6,
    "start_time": "2023-01-29T22:15:10.624Z"
   },
   {
    "duration": 6,
    "start_time": "2023-01-29T22:15:10.631Z"
   },
   {
    "duration": 12,
    "start_time": "2023-01-29T22:15:10.639Z"
   },
   {
    "duration": 10,
    "start_time": "2023-01-29T22:15:10.653Z"
   },
   {
    "duration": 1221,
    "start_time": "2023-01-29T22:15:10.665Z"
   },
   {
    "duration": 1294,
    "start_time": "2023-01-29T22:15:11.888Z"
   },
   {
    "duration": 5,
    "start_time": "2023-01-29T22:15:13.183Z"
   },
   {
    "duration": 7,
    "start_time": "2023-01-29T22:15:13.189Z"
   },
   {
    "duration": 3,
    "start_time": "2023-01-29T22:15:13.282Z"
   },
   {
    "duration": 9,
    "start_time": "2023-01-29T22:15:13.287Z"
   },
   {
    "duration": 671982,
    "start_time": "2023-01-29T22:15:13.298Z"
   },
   {
    "duration": 3,
    "start_time": "2023-01-29T22:26:25.281Z"
   },
   {
    "duration": 6,
    "start_time": "2023-01-29T22:26:25.285Z"
   },
   {
    "duration": 667380,
    "start_time": "2023-01-29T22:26:25.293Z"
   },
   {
    "duration": 6,
    "start_time": "2023-01-29T22:37:32.675Z"
   },
   {
    "duration": 9,
    "start_time": "2023-01-29T22:37:32.683Z"
   },
   {
    "duration": 5,
    "start_time": "2023-01-29T22:37:32.694Z"
   },
   {
    "duration": 22,
    "start_time": "2023-01-29T22:37:32.701Z"
   },
   {
    "duration": 22,
    "start_time": "2023-01-29T22:37:32.724Z"
   },
   {
    "duration": 3,
    "start_time": "2023-01-29T22:37:32.747Z"
   },
   {
    "duration": 6,
    "start_time": "2023-01-29T22:37:32.752Z"
   },
   {
    "duration": 29,
    "start_time": "2023-01-29T22:37:32.759Z"
   },
   {
    "duration": 12,
    "start_time": "2023-01-29T22:37:32.789Z"
   },
   {
    "duration": 18,
    "start_time": "2023-01-29T22:37:32.802Z"
   },
   {
    "duration": 6,
    "start_time": "2023-01-29T22:37:32.821Z"
   },
   {
    "duration": 7,
    "start_time": "2023-01-29T22:37:32.829Z"
   },
   {
    "duration": 26,
    "start_time": "2023-01-29T22:37:32.837Z"
   },
   {
    "duration": 2060,
    "start_time": "2023-01-30T20:00:50.158Z"
   },
   {
    "duration": 3155,
    "start_time": "2023-01-30T20:00:52.220Z"
   },
   {
    "duration": 6,
    "start_time": "2023-01-30T20:00:55.377Z"
   },
   {
    "duration": 11,
    "start_time": "2023-01-30T20:00:55.385Z"
   },
   {
    "duration": 8,
    "start_time": "2023-01-30T20:00:55.399Z"
   },
   {
    "duration": 129,
    "start_time": "2023-01-30T20:00:55.408Z"
   },
   {
    "duration": 30,
    "start_time": "2023-01-30T20:00:55.539Z"
   },
   {
    "duration": 109,
    "start_time": "2023-01-30T20:00:55.570Z"
   },
   {
    "duration": 9,
    "start_time": "2023-01-30T20:00:55.680Z"
   },
   {
    "duration": 7,
    "start_time": "2023-01-30T20:00:55.691Z"
   },
   {
    "duration": 11,
    "start_time": "2023-01-30T20:00:55.700Z"
   },
   {
    "duration": 11428,
    "start_time": "2023-01-30T20:00:55.712Z"
   },
   {
    "duration": 63,
    "start_time": "2023-01-30T20:01:07.142Z"
   },
   {
    "duration": 8,
    "start_time": "2023-01-30T20:01:07.208Z"
   },
   {
    "duration": 7,
    "start_time": "2023-01-30T20:01:07.218Z"
   },
   {
    "duration": 714,
    "start_time": "2023-01-30T20:01:07.227Z"
   },
   {
    "duration": 6,
    "start_time": "2023-01-30T20:01:07.942Z"
   },
   {
    "duration": 19,
    "start_time": "2023-01-30T20:01:07.950Z"
   },
   {
    "duration": 4,
    "start_time": "2023-01-30T20:01:07.971Z"
   },
   {
    "duration": 158,
    "start_time": "2023-01-30T20:01:07.977Z"
   },
   {
    "duration": 2,
    "start_time": "2023-01-30T20:01:08.137Z"
   },
   {
    "duration": 7,
    "start_time": "2023-01-30T20:01:08.140Z"
   },
   {
    "duration": 1951,
    "start_time": "2023-01-30T20:01:08.148Z"
   },
   {
    "duration": 10,
    "start_time": "2023-01-30T20:01:10.100Z"
   },
   {
    "duration": 6,
    "start_time": "2023-01-30T20:01:10.112Z"
   },
   {
    "duration": 137,
    "start_time": "2023-01-30T20:01:10.119Z"
   },
   {
    "duration": 10,
    "start_time": "2023-01-30T20:01:10.257Z"
   },
   {
    "duration": 7,
    "start_time": "2023-01-30T20:01:10.269Z"
   },
   {
    "duration": 7,
    "start_time": "2023-01-30T20:01:10.277Z"
   },
   {
    "duration": 35,
    "start_time": "2023-01-30T20:01:29.688Z"
   },
   {
    "duration": 28,
    "start_time": "2023-01-30T20:01:43.997Z"
   },
   {
    "duration": 81,
    "start_time": "2023-01-30T20:04:53.677Z"
   },
   {
    "duration": 1505,
    "start_time": "2023-01-30T20:44:05.778Z"
   },
   {
    "duration": 2985,
    "start_time": "2023-01-30T20:44:07.285Z"
   },
   {
    "duration": 7,
    "start_time": "2023-01-30T20:44:10.272Z"
   },
   {
    "duration": 13,
    "start_time": "2023-01-30T20:44:10.280Z"
   },
   {
    "duration": 30,
    "start_time": "2023-01-30T20:44:10.294Z"
   },
   {
    "duration": 148,
    "start_time": "2023-01-30T20:44:10.326Z"
   },
   {
    "duration": 26,
    "start_time": "2023-01-30T20:44:10.475Z"
   },
   {
    "duration": 112,
    "start_time": "2023-01-30T20:44:10.502Z"
   },
   {
    "duration": 9,
    "start_time": "2023-01-30T20:44:10.616Z"
   },
   {
    "duration": 21,
    "start_time": "2023-01-30T20:44:10.635Z"
   },
   {
    "duration": 32,
    "start_time": "2023-01-30T20:44:10.657Z"
   },
   {
    "duration": 13,
    "start_time": "2023-01-30T20:45:03.825Z"
   },
   {
    "duration": 9,
    "start_time": "2023-01-30T20:45:07.150Z"
   },
   {
    "duration": 8,
    "start_time": "2023-01-30T20:45:10.204Z"
   },
   {
    "duration": 18,
    "start_time": "2023-01-30T20:45:49.520Z"
   },
   {
    "duration": 33,
    "start_time": "2023-01-30T20:52:53.687Z"
   },
   {
    "duration": 31,
    "start_time": "2023-01-30T20:53:16.336Z"
   },
   {
    "duration": 1365,
    "start_time": "2023-01-30T20:54:57.075Z"
   },
   {
    "duration": 665,
    "start_time": "2023-01-30T20:54:58.443Z"
   },
   {
    "duration": 6,
    "start_time": "2023-01-30T20:54:59.110Z"
   },
   {
    "duration": 21,
    "start_time": "2023-01-30T20:54:59.118Z"
   },
   {
    "duration": 11,
    "start_time": "2023-01-30T20:54:59.141Z"
   },
   {
    "duration": 143,
    "start_time": "2023-01-30T20:54:59.154Z"
   },
   {
    "duration": 43,
    "start_time": "2023-01-30T20:54:59.299Z"
   },
   {
    "duration": 110,
    "start_time": "2023-01-30T20:54:59.344Z"
   },
   {
    "duration": 10,
    "start_time": "2023-01-30T20:54:59.456Z"
   },
   {
    "duration": 16,
    "start_time": "2023-01-30T20:54:59.467Z"
   },
   {
    "duration": 32,
    "start_time": "2023-01-30T20:54:59.484Z"
   },
   {
    "duration": 26,
    "start_time": "2023-01-30T20:54:59.518Z"
   },
   {
    "duration": 18,
    "start_time": "2023-01-30T20:54:59.547Z"
   },
   {
    "duration": 20,
    "start_time": "2023-01-30T20:54:59.568Z"
   },
   {
    "duration": 832,
    "start_time": "2023-01-30T20:54:59.590Z"
   },
   {
    "duration": 14,
    "start_time": "2023-01-30T20:55:00.424Z"
   },
   {
    "duration": 28,
    "start_time": "2023-01-30T20:55:00.440Z"
   },
   {
    "duration": 24,
    "start_time": "2023-01-30T20:55:00.470Z"
   },
   {
    "duration": 192,
    "start_time": "2023-01-30T20:55:00.495Z"
   },
   {
    "duration": 3,
    "start_time": "2023-01-30T20:55:00.689Z"
   },
   {
    "duration": 39,
    "start_time": "2023-01-30T20:55:00.694Z"
   },
   {
    "duration": 1778,
    "start_time": "2023-01-30T20:55:00.735Z"
   },
   {
    "duration": 243,
    "start_time": "2023-01-30T20:57:24.565Z"
   },
   {
    "duration": 7,
    "start_time": "2023-01-30T20:58:08.920Z"
   },
   {
    "duration": 288,
    "start_time": "2023-01-30T21:00:09.170Z"
   },
   {
    "duration": 716,
    "start_time": "2023-01-30T21:03:04.720Z"
   },
   {
    "duration": 593,
    "start_time": "2023-01-30T21:05:25.015Z"
   },
   {
    "duration": 17,
    "start_time": "2023-01-30T21:07:38.638Z"
   },
   {
    "duration": 108,
    "start_time": "2023-01-30T21:08:50.036Z"
   },
   {
    "duration": 59,
    "start_time": "2023-01-30T21:09:33.824Z"
   },
   {
    "duration": 40,
    "start_time": "2023-01-30T21:12:27.423Z"
   },
   {
    "duration": 511,
    "start_time": "2023-01-30T21:13:17.182Z"
   },
   {
    "duration": 15,
    "start_time": "2023-01-30T21:13:49.135Z"
   },
   {
    "duration": 48,
    "start_time": "2023-01-30T21:13:54.445Z"
   },
   {
    "duration": 409,
    "start_time": "2023-01-30T21:14:02.345Z"
   },
   {
    "duration": 18,
    "start_time": "2023-01-30T21:17:41.752Z"
   },
   {
    "duration": 398,
    "start_time": "2023-01-30T21:18:10.477Z"
   },
   {
    "duration": 34,
    "start_time": "2023-01-30T21:18:34.349Z"
   },
   {
    "duration": 18,
    "start_time": "2023-01-30T21:19:37.681Z"
   },
   {
    "duration": 45,
    "start_time": "2023-01-30T21:19:48.654Z"
   },
   {
    "duration": 19,
    "start_time": "2023-01-30T21:20:17.506Z"
   },
   {
    "duration": 6,
    "start_time": "2023-01-30T21:24:00.279Z"
   },
   {
    "duration": 570,
    "start_time": "2023-01-30T21:24:01.777Z"
   },
   {
    "duration": 33,
    "start_time": "2023-01-30T21:24:23.118Z"
   },
   {
    "duration": 19,
    "start_time": "2023-01-30T21:24:43.454Z"
   },
   {
    "duration": 10,
    "start_time": "2023-01-30T21:24:51.000Z"
   },
   {
    "duration": 20,
    "start_time": "2023-01-30T21:25:05.280Z"
   },
   {
    "duration": 18,
    "start_time": "2023-01-30T21:25:11.767Z"
   },
   {
    "duration": 22,
    "start_time": "2023-01-30T21:25:49.047Z"
   },
   {
    "duration": 93,
    "start_time": "2023-01-30T21:26:08.392Z"
   },
   {
    "duration": 18,
    "start_time": "2023-01-30T21:26:17.428Z"
   },
   {
    "duration": 16,
    "start_time": "2023-01-30T21:27:29.822Z"
   },
   {
    "duration": 20,
    "start_time": "2023-01-30T21:27:37.301Z"
   },
   {
    "duration": 33,
    "start_time": "2023-01-30T21:27:46.845Z"
   },
   {
    "duration": 8,
    "start_time": "2023-01-30T21:27:58.619Z"
   },
   {
    "duration": 7,
    "start_time": "2023-01-30T21:28:15.374Z"
   },
   {
    "duration": 10,
    "start_time": "2023-01-30T21:29:44.521Z"
   },
   {
    "duration": 7,
    "start_time": "2023-01-30T21:30:12.970Z"
   },
   {
    "duration": 771,
    "start_time": "2023-01-30T21:30:24.430Z"
   },
   {
    "duration": 20,
    "start_time": "2023-01-30T21:30:59.914Z"
   },
   {
    "duration": 13,
    "start_time": "2023-01-30T21:32:21.768Z"
   },
   {
    "duration": 20,
    "start_time": "2023-01-30T21:32:27.229Z"
   },
   {
    "duration": 11,
    "start_time": "2023-01-30T21:32:40.834Z"
   },
   {
    "duration": 21,
    "start_time": "2023-01-30T21:32:42.215Z"
   },
   {
    "duration": 5,
    "start_time": "2023-01-30T21:33:21.602Z"
   },
   {
    "duration": 9,
    "start_time": "2023-01-30T21:34:47.448Z"
   },
   {
    "duration": 7,
    "start_time": "2023-01-30T21:34:58.116Z"
   },
   {
    "duration": 711,
    "start_time": "2023-01-30T21:35:35.560Z"
   },
   {
    "duration": 6,
    "start_time": "2023-01-30T21:35:45.310Z"
   },
   {
    "duration": 15,
    "start_time": "2023-01-30T21:37:15.464Z"
   },
   {
    "duration": 4,
    "start_time": "2023-01-30T21:37:29.531Z"
   },
   {
    "duration": 1456,
    "start_time": "2023-01-30T21:38:06.463Z"
   },
   {
    "duration": 746,
    "start_time": "2023-01-30T21:38:07.921Z"
   },
   {
    "duration": 7,
    "start_time": "2023-01-30T21:38:08.668Z"
   },
   {
    "duration": 17,
    "start_time": "2023-01-30T21:38:08.677Z"
   },
   {
    "duration": 25,
    "start_time": "2023-01-30T21:38:08.697Z"
   },
   {
    "duration": 139,
    "start_time": "2023-01-30T21:38:08.724Z"
   },
   {
    "duration": 26,
    "start_time": "2023-01-30T21:38:08.865Z"
   },
   {
    "duration": 119,
    "start_time": "2023-01-30T21:38:08.892Z"
   },
   {
    "duration": 9,
    "start_time": "2023-01-30T21:38:09.013Z"
   },
   {
    "duration": 6,
    "start_time": "2023-01-30T21:38:09.036Z"
   },
   {
    "duration": 9,
    "start_time": "2023-01-30T21:38:09.044Z"
   },
   {
    "duration": 23,
    "start_time": "2023-01-30T21:38:09.054Z"
   },
   {
    "duration": 9,
    "start_time": "2023-01-30T21:38:09.078Z"
   },
   {
    "duration": 7,
    "start_time": "2023-01-30T21:38:09.088Z"
   },
   {
    "duration": 891,
    "start_time": "2023-01-30T21:38:09.097Z"
   },
   {
    "duration": 5,
    "start_time": "2023-01-30T21:38:09.990Z"
   },
   {
    "duration": 7,
    "start_time": "2023-01-30T21:38:09.997Z"
   },
   {
    "duration": 22,
    "start_time": "2023-01-30T21:38:10.006Z"
   },
   {
    "duration": 166,
    "start_time": "2023-01-30T21:38:10.030Z"
   },
   {
    "duration": 3,
    "start_time": "2023-01-30T21:38:10.198Z"
   },
   {
    "duration": 6,
    "start_time": "2023-01-30T21:38:10.203Z"
   },
   {
    "duration": 1733,
    "start_time": "2023-01-30T21:38:10.210Z"
   },
   {
    "duration": 5,
    "start_time": "2023-01-30T21:38:11.945Z"
   },
   {
    "duration": 585,
    "start_time": "2023-01-30T21:38:11.951Z"
   },
   {
    "duration": 113,
    "start_time": "2023-01-30T21:38:28.987Z"
   },
   {
    "duration": 4,
    "start_time": "2023-01-30T21:38:32.378Z"
   },
   {
    "duration": 9,
    "start_time": "2023-01-30T21:39:14.249Z"
   },
   {
    "duration": 13,
    "start_time": "2023-01-30T21:39:23.230Z"
   },
   {
    "duration": 11,
    "start_time": "2023-01-30T21:39:35.123Z"
   },
   {
    "duration": 8,
    "start_time": "2023-01-30T21:40:49.970Z"
   },
   {
    "duration": 5,
    "start_time": "2023-01-30T21:40:51.522Z"
   },
   {
    "duration": 6,
    "start_time": "2023-01-30T21:41:02.486Z"
   },
   {
    "duration": 733,
    "start_time": "2023-01-30T21:41:03.477Z"
   },
   {
    "duration": 13,
    "start_time": "2023-01-30T21:41:26.458Z"
   },
   {
    "duration": 1340,
    "start_time": "2023-01-30T21:42:10.071Z"
   },
   {
    "duration": 712,
    "start_time": "2023-01-30T21:42:11.414Z"
   },
   {
    "duration": 8,
    "start_time": "2023-01-30T21:42:12.128Z"
   },
   {
    "duration": 15,
    "start_time": "2023-01-30T21:42:12.138Z"
   },
   {
    "duration": 8,
    "start_time": "2023-01-30T21:42:12.155Z"
   },
   {
    "duration": 160,
    "start_time": "2023-01-30T21:42:12.166Z"
   },
   {
    "duration": 35,
    "start_time": "2023-01-30T21:42:12.328Z"
   },
   {
    "duration": 117,
    "start_time": "2023-01-30T21:42:12.365Z"
   },
   {
    "duration": 10,
    "start_time": "2023-01-30T21:42:12.484Z"
   },
   {
    "duration": 7,
    "start_time": "2023-01-30T21:42:12.496Z"
   },
   {
    "duration": 33,
    "start_time": "2023-01-30T21:42:12.505Z"
   },
   {
    "duration": 15,
    "start_time": "2023-01-30T21:42:12.539Z"
   },
   {
    "duration": 9,
    "start_time": "2023-01-30T21:42:12.556Z"
   },
   {
    "duration": 9,
    "start_time": "2023-01-30T21:42:12.569Z"
   },
   {
    "duration": 968,
    "start_time": "2023-01-30T21:42:12.580Z"
   },
   {
    "duration": 6,
    "start_time": "2023-01-30T21:42:13.550Z"
   },
   {
    "duration": 15,
    "start_time": "2023-01-30T21:42:13.558Z"
   },
   {
    "duration": 20,
    "start_time": "2023-01-30T21:42:13.575Z"
   },
   {
    "duration": 193,
    "start_time": "2023-01-30T21:42:13.597Z"
   },
   {
    "duration": 3,
    "start_time": "2023-01-30T21:42:13.792Z"
   },
   {
    "duration": 9,
    "start_time": "2023-01-30T21:42:13.797Z"
   },
   {
    "duration": 1847,
    "start_time": "2023-01-30T21:42:13.807Z"
   },
   {
    "duration": 7,
    "start_time": "2023-01-30T21:42:15.656Z"
   },
   {
    "duration": 609,
    "start_time": "2023-01-30T21:42:15.664Z"
   },
   {
    "duration": 4,
    "start_time": "2023-01-30T21:42:16.274Z"
   },
   {
    "duration": 24,
    "start_time": "2023-01-30T21:42:16.279Z"
   },
   {
    "duration": 9,
    "start_time": "2023-01-30T21:42:16.305Z"
   },
   {
    "duration": 23,
    "start_time": "2023-01-30T21:42:16.315Z"
   },
   {
    "duration": 7,
    "start_time": "2023-01-30T21:42:16.340Z"
   },
   {
    "duration": 738,
    "start_time": "2023-01-30T21:42:16.348Z"
   },
   {
    "duration": 51,
    "start_time": "2023-01-30T21:46:46.940Z"
   },
   {
    "duration": 5,
    "start_time": "2023-01-30T21:47:11.356Z"
   },
   {
    "duration": 23,
    "start_time": "2023-01-30T21:47:11.364Z"
   },
   {
    "duration": 21,
    "start_time": "2023-01-30T21:47:11.388Z"
   },
   {
    "duration": 27,
    "start_time": "2023-01-30T21:47:11.411Z"
   },
   {
    "duration": 36,
    "start_time": "2023-01-30T21:47:11.440Z"
   },
   {
    "duration": 16,
    "start_time": "2023-01-30T21:47:11.479Z"
   },
   {
    "duration": 26,
    "start_time": "2023-01-30T21:47:11.497Z"
   },
   {
    "duration": 19,
    "start_time": "2023-01-30T21:47:11.525Z"
   },
   {
    "duration": 1091,
    "start_time": "2023-01-30T21:47:11.546Z"
   },
   {
    "duration": 1201,
    "start_time": "2023-01-30T21:47:12.639Z"
   },
   {
    "duration": 97,
    "start_time": "2023-01-30T21:47:13.842Z"
   },
   {
    "duration": 95,
    "start_time": "2023-01-30T21:47:13.942Z"
   },
   {
    "duration": 3,
    "start_time": "2023-01-30T21:47:14.039Z"
   },
   {
    "duration": 9,
    "start_time": "2023-01-30T21:47:14.045Z"
   },
   {
    "duration": 721731,
    "start_time": "2023-01-30T21:59:04.637Z"
   },
   {
    "duration": 2,
    "start_time": "2023-01-30T22:11:06.370Z"
   },
   {
    "duration": 33,
    "start_time": "2023-01-30T22:11:06.374Z"
   },
   {
    "duration": 52,
    "start_time": "2023-01-30T22:11:06.409Z"
   },
   {
    "duration": 25,
    "start_time": "2023-01-30T22:11:06.462Z"
   },
   {
    "duration": 23,
    "start_time": "2023-01-30T22:11:06.489Z"
   },
   {
    "duration": 4,
    "start_time": "2023-01-30T22:11:06.514Z"
   },
   {
    "duration": 7,
    "start_time": "2023-01-30T22:11:06.519Z"
   },
   {
    "duration": 13,
    "start_time": "2023-01-30T22:11:06.527Z"
   },
   {
    "duration": 3,
    "start_time": "2023-01-30T22:11:06.542Z"
   },
   {
    "duration": 17,
    "start_time": "2023-01-30T22:11:06.547Z"
   },
   {
    "duration": 6,
    "start_time": "2023-01-30T22:11:06.566Z"
   },
   {
    "duration": 10,
    "start_time": "2023-01-30T22:11:06.574Z"
   },
   {
    "duration": 27,
    "start_time": "2023-01-30T22:11:06.585Z"
   }
  ],
  "kernelspec": {
   "display_name": "Python 3 (ipykernel)",
   "language": "python",
   "name": "python3"
  },
  "language_info": {
   "codemirror_mode": {
    "name": "ipython",
    "version": 3
   },
   "file_extension": ".py",
   "mimetype": "text/x-python",
   "name": "python",
   "nbconvert_exporter": "python",
   "pygments_lexer": "ipython3",
   "version": "3.9.12"
  },
  "toc": {
   "base_numbering": 1,
   "nav_menu": {},
   "number_sections": true,
   "sideBar": true,
   "skip_h1_title": true,
   "title_cell": "Содержание",
   "title_sidebar": "Contents",
   "toc_cell": true,
   "toc_position": {},
   "toc_section_display": true,
   "toc_window_display": true
  },
  "varInspector": {
   "cols": {
    "lenName": 16,
    "lenType": 16,
    "lenVar": 40
   },
   "kernels_config": {
    "python": {
     "delete_cmd_postfix": "",
     "delete_cmd_prefix": "del ",
     "library": "var_list.py",
     "varRefreshCmd": "print(var_dic_list())"
    },
    "r": {
     "delete_cmd_postfix": ") ",
     "delete_cmd_prefix": "rm(",
     "library": "var_list.r",
     "varRefreshCmd": "cat(var_dic_list()) "
    }
   },
   "types_to_exclude": [
    "module",
    "function",
    "builtin_function_or_method",
    "instance",
    "_Feature"
   ],
   "window_display": false
  }
 },
 "nbformat": 4,
 "nbformat_minor": 2
}
